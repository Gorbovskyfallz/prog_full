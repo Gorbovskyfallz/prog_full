{
 "cells": [
  {
   "cell_type": "code",
   "execution_count": null,
   "id": "a5d7e960-307e-487e-aa1e-9856b1afbead",
   "metadata": {},
   "outputs": [],
   "source": [
    "#include <stdio.h>\n",
    "\n",
    "int main()\n",
    "{\n",
    "    #int x = 17;\n",
    "    float y = 0.12345;\n",
    "    double p,q,r;\n",
    "    int n;\n",
    "        \n",
    "    /*\n",
    "    printf(\"x = %d and multiply of x = %d\\n\", x, x*x);\n",
    "    printf (\"%d in hex = %03x\\n\\n\", x, x);\n",
    "    printf(\"float output y is %.3f\\n\", y);\n",
    "    */\n",
    "    printf(\"Please, enter 3 numbers!\\n\\a\");\n",
    "    scanf(\"%lf,%lf,%lf\", &p, &q, &r);\n",
    "    /*if (n!=3)\n",
    "    {\n",
    "        printf(\"Wrong input data!\\n\");\n",
    "        return 1;\n",
    "    }*/\n",
    "}"
   ]
  }
 ],
 "metadata": {
  "kernelspec": {
   "display_name": "C",
   "language": "c",
   "name": "c"
  },
  "language_info": {
   "file_extension": ".c",
   "mimetype": "text/plain",
   "name": "c"
  }
 },
 "nbformat": 4,
 "nbformat_minor": 5
}
