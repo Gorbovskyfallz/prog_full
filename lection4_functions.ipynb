{
 "cells": [
  {
   "cell_type": "code",
   "execution_count": 1,
   "id": "efb588aa-82e6-454c-8430-0c1c2acb5ed3",
   "metadata": {
    "tags": []
   },
   "outputs": [],
   "source": [
    "import graphics as gr \n",
    "# библиотека взята из практики \n",
    "# по графическим примитивам\n",
    "def build_house(window, upper_left_corner, width):\n",
    "    \"\"\"функция, которая рисует дом\"\"\"\n",
    "    \n",
    "    height = calculate_height(width)\n",
    "\"\"\"pass является оператором-заглушкой, который является\n",
    "равносильным отсутствию операции, применяется там, где тело \n",
    "инструкции является обязательным (def, except)\n",
    "так же pass можно использовать там, где код планируется,\n",
    "его еще нет\"\"\" \n",
    "\n",
    "window = gr.GraphWin(\"KEK\", 300, 300)#выводит графическое окн\n",
    "\n",
    "build_house(window, gr.Point(100,100), 100) #использование функции\n",
    "print(\"Ура, дом построен!\") # словесное подтверждение\n",
    "\n"
   ]
  },
  {
   "cell_type": "code",
   "execution_count": 9,
   "id": "8f0bccf3-b9ab-4ecd-b748-1d1f97b60695",
   "metadata": {},
   "outputs": [
    {
     "name": "stdout",
     "output_type": "stream",
     "text": [
      "Help on function is_simple_number in module __main__:\n",
      "\n",
      "is_simple_number(x)\n",
      "    определяет, является ли число простым, если простое, то возвращает Ъ, а иначе НЕЪ - \n",
      "    x - целое положительно число\n",
      "    многострочная документ-строка\n",
      "\n"
     ]
    },
    {
     "data": {
      "text/plain": [
       "False"
      ]
     },
     "execution_count": 9,
     "metadata": {},
     "output_type": "execute_result"
    }
   ],
   "source": [
    "def is_simple_number(x):\n",
    "    \"\"\"определяет, является ли число простым, если простое, то возвращает Ъ, а иначе НЕЪ - \n",
    "    x - целое положительно число\n",
    "    многострочная документ-строка\"\"\"\n",
    "    divisor = 2\n",
    "    while divisor < x:\n",
    "        if x%divisor == 0:\n",
    "            return False\n",
    "        divisor+=1\n",
    "    return True\n",
    "\n",
    "help(is_simple_number)\n",
    "is_simple_number(10)\n",
    "    \n",
    "    "
   ]
  },
  {
   "cell_type": "code",
   "execution_count": 12,
   "id": "bdb115f5-f7ac-47cd-b793-8d703dc5048b",
   "metadata": {},
   "outputs": [
    {
     "name": "stdout",
     "output_type": "stream",
     "text": [
      "3\n",
      "3\n",
      "3\n",
      "37\n"
     ]
    }
   ],
   "source": [
    "def factorize_number(x):\n",
    "    \"\"\"\n",
    "        раскладывает число на множители\n",
    "        печатает их на экран\n",
    "        число - целое и положительное\n",
    "    \"\"\"\n",
    "    divisor = 2\n",
    "    while x > 1:\n",
    "        if x%divisor == 0:\n",
    "            print(divisor)\n",
    "            x //= divisor # разделить нацело\n",
    "        else:\n",
    "            divisor +=1\n",
    "            \n",
    "factorize_number(999)"
   ]
  },
  {
   "cell_type": "code",
   "execution_count": null,
   "id": "c981cd2f-786f-409a-86aa-de98148881f6",
   "metadata": {},
   "outputs": [],
   "source": []
  }
 ],
 "metadata": {
  "kernelspec": {
   "display_name": "Python 3 (ipykernel)",
   "language": "python",
   "name": "python3"
  },
  "language_info": {
   "codemirror_mode": {
    "name": "ipython",
    "version": 3
   },
   "file_extension": ".py",
   "mimetype": "text/x-python",
   "name": "python",
   "nbconvert_exporter": "python",
   "pygments_lexer": "ipython3",
   "version": "3.9.7"
  }
 },
 "nbformat": 4,
 "nbformat_minor": 5
}
