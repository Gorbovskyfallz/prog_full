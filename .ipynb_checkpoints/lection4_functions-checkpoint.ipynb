{
 "cells": [
  {
   "cell_type": "code",
   "execution_count": 1,
   "id": "efb588aa-82e6-454c-8430-0c1c2acb5ed3",
   "metadata": {
    "tags": []
   },
   "outputs": [],
   "source": [
    "import graphics as gr \n",
    "# библиотека взята из практики \n",
    "# по графическим примитивам\n",
    "def build_house(window, upper_left_corner, width):\n",
    "    \"\"\"функция, которая рисует дом\"\"\"\n",
    "    \n",
    "    pass\n",
    "\"\"\"pass является оператором-заглушкой, который является\n",
    "равносильным отсутствию операции, применяется там, где тело \n",
    "инструкции является обязательным (def, except)\n",
    "так же pass можно использовать там, где код планируется,\n",
    "его еще нет\"\"\"\n",
    "\n",
    "window = gr.GraphWin(\"KEK\", 300, 300)#выводит графическое окн\n",
    "\n",
    "build_house(window, gr.Point(100,100), 100) #использование функции\n",
    "print(\"Ура, дом построен!\") # словесное подтверждение\n",
    "\n"
   ]
  }
 ],
 "metadata": {
  "kernelspec": {
   "display_name": "Python 3 (ipykernel)",
   "language": "python",
   "name": "python3"
  },
  "language_info": {
   "codemirror_mode": {
    "name": "ipython",
    "version": 3
   },
   "file_extension": ".py",
   "mimetype": "text/x-python",
   "name": "python",
   "nbconvert_exporter": "python",
   "pygments_lexer": "ipython3",
   "version": "3.9.7"
  }
 },
 "nbformat": 4,
 "nbformat_minor": 5
}
