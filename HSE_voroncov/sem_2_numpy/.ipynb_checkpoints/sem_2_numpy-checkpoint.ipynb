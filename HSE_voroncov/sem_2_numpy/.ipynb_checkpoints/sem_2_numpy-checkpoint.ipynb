{
 "cells": [
  {
   "cell_type": "markdown",
   "id": "1fc75d51-41d6-49ee-a915-f78794ca2d35",
   "metadata": {},
   "source": [
    "для вывода графиков в рабочем пространстве сразу же нужно использовать меджик %matplotlib inline:"
   ]
  },
  {
   "cell_type": "code",
   "execution_count": 1,
   "id": "7619968e-5fbf-4bd6-808f-43e83b9c6fe5",
   "metadata": {},
   "outputs": [],
   "source": [
    "from matplotlib import pylab as plt\n",
    "%matplotlib inline"
   ]
  },
  {
   "cell_type": "code",
   "execution_count": 2,
   "id": "9ddae10a-c48b-4133-9d69-6e43705379c4",
   "metadata": {},
   "outputs": [
    {
     "data": {
      "text/plain": [
       "[<matplotlib.lines.Line2D at 0x1dc68d530a0>]"
      ]
     },
     "execution_count": 2,
     "metadata": {},
     "output_type": "execute_result"
    },
    {
     "data": {
      "image/png": "[encoded data removed]",
      "text/plain": [
       "<Figure size 432x288 with 1 Axes>"
      ]
     },
     "metadata": {
      "needs_background": "light"
     },
     "output_type": "display_data"
    }
   ],
   "source": [
    "x = [i for i in range(1,10)]\n",
    "y = [i**2 for i in range(1,10)]\n",
    "plt.plot(x,y)"
   ]
  },
  {
   "cell_type": "markdown",
   "id": "834a5f30-6553-4203-9afd-9b737c067c51",
   "metadata": {},
   "source": [
    "посмотреть список всех магических команд:"
   ]
  },
  {
   "cell_type": "code",
   "execution_count": 3,
   "id": "e4f9ab78-5142-4e78-9eec-9d9d88a7954a",
   "metadata": {},
   "outputs": [
    {
     "data": {
      "application/json": {
       "cell": {
        "!": "OSMagics",
        "HTML": "Other",
        "SVG": "Other",
        "bash": "Other",
        "capture": "ExecutionMagics",
        "cmd": "Other",
        "debug": "ExecutionMagics",
        "file": "Other",
        "html": "DisplayMagics",
        "javascript": "DisplayMagics",
        "js": "DisplayMagics",
        "latex": "DisplayMagics",
        "markdown": "DisplayMagics",
        "perl": "Other",
        "prun": "ExecutionMagics",
        "pypy": "Other",
        "python": "Other",
        "python2": "Other",
        "python3": "Other",
        "ruby": "Other",
        "script": "ScriptMagics",
        "sh": "Other",
        "svg": "DisplayMagics",
        "sx": "OSMagics",
        "system": "OSMagics",
        "time": "ExecutionMagics",
        "timeit": "ExecutionMagics",
        "writefile": "OSMagics"
       },
       "line": {
        "alias": "OSMagics",
        "alias_magic": "BasicMagics",
        "autoawait": "AsyncMagics",
        "autocall": "AutoMagics",
        "automagic": "AutoMagics",
        "autosave": "KernelMagics",
        "bookmark": "OSMagics",
        "cd": "OSMagics",
        "clear": "KernelMagics",
        "cls": "KernelMagics",
        "colors": "BasicMagics",
        "conda": "PackagingMagics",
        "config": "ConfigMagics",
        "connect_info": "KernelMagics",
        "copy": "Other",
        "ddir": "Other",
        "debug": "ExecutionMagics",
        "dhist": "OSMagics",
        "dirs": "OSMagics",
        "doctest_mode": "BasicMagics",
        "echo": "Other",
        "ed": "Other",
        "edit": "KernelMagics",
        "env": "OSMagics",
        "gui": "BasicMagics",
        "hist": "Other",
        "history": "HistoryMagics",
        "killbgscripts": "ScriptMagics",
        "ldir": "Other",
        "less": "KernelMagics",
        "load": "CodeMagics",
        "load_ext": "ExtensionMagics",
        "loadpy": "CodeMagics",
        "logoff": "LoggingMagics",
        "logon": "LoggingMagics",
        "logstart": "LoggingMagics",
        "logstate": "LoggingMagics",
        "logstop": "LoggingMagics",
        "ls": "Other",
        "lsmagic": "BasicMagics",
        "macro": "ExecutionMagics",
        "magic": "BasicMagics",
        "matplotlib": "PylabMagics",
        "mkdir": "Other",
        "more": "KernelMagics",
        "notebook": "BasicMagics",
        "page": "BasicMagics",
        "pastebin": "CodeMagics",
        "pdb": "ExecutionMagics",
        "pdef": "NamespaceMagics",
        "pdoc": "NamespaceMagics",
        "pfile": "NamespaceMagics",
        "pinfo": "NamespaceMagics",
        "pinfo2": "NamespaceMagics",
        "pip": "PackagingMagics",
        "popd": "OSMagics",
        "pprint": "BasicMagics",
        "precision": "BasicMagics",
        "prun": "ExecutionMagics",
        "psearch": "NamespaceMagics",
        "psource": "NamespaceMagics",
        "pushd": "OSMagics",
        "pwd": "OSMagics",
        "pycat": "OSMagics",
        "pylab": "PylabMagics",
        "qtconsole": "KernelMagics",
        "quickref": "BasicMagics",
        "recall": "HistoryMagics",
        "rehashx": "OSMagics",
        "reload_ext": "ExtensionMagics",
        "ren": "Other",
        "rep": "Other",
        "rerun": "HistoryMagics",
        "reset": "NamespaceMagics",
        "reset_selective": "NamespaceMagics",
        "rmdir": "Other",
        "run": "ExecutionMagics",
        "save": "CodeMagics",
        "sc": "OSMagics",
        "set_env": "OSMagics",
        "store": "StoreMagics",
        "sx": "OSMagics",
        "system": "OSMagics",
        "tb": "ExecutionMagics",
        "time": "ExecutionMagics",
        "timeit": "ExecutionMagics",
        "unalias": "OSMagics",
        "unload_ext": "ExtensionMagics",
        "who": "NamespaceMagics",
        "who_ls": "NamespaceMagics",
        "whos": "NamespaceMagics",
        "xdel": "NamespaceMagics",
        "xmode": "BasicMagics"
       }
      },
      "text/plain": [
       "Available line magics:\n",
       "%alias  %alias_magic  %autoawait  %autocall  %automagic  %autosave  %bookmark  %cd  %clear  %cls  %colors  %conda  %config  %connect_info  %copy  %ddir  %debug  %dhist  %dirs  %doctest_mode  %echo  %ed  %edit  %env  %gui  %hist  %history  %killbgscripts  %ldir  %less  %load  %load_ext  %loadpy  %logoff  %logon  %logstart  %logstate  %logstop  %ls  %lsmagic  %macro  %magic  %matplotlib  %mkdir  %more  %notebook  %page  %pastebin  %pdb  %pdef  %pdoc  %pfile  %pinfo  %pinfo2  %pip  %popd  %pprint  %precision  %prun  %psearch  %psource  %pushd  %pwd  %pycat  %pylab  %qtconsole  %quickref  %recall  %rehashx  %reload_ext  %ren  %rep  %rerun  %reset  %reset_selective  %rmdir  %run  %save  %sc  %set_env  %store  %sx  %system  %tb  %time  %timeit  %unalias  %unload_ext  %who  %who_ls  %whos  %xdel  %xmode\n",
       "\n",
       "Available cell magics:\n",
       "%%!  %%HTML  %%SVG  %%bash  %%capture  %%cmd  %%debug  %%file  %%html  %%javascript  %%js  %%latex  %%markdown  %%perl  %%prun  %%pypy  %%python  %%python2  %%python3  %%ruby  %%script  %%sh  %%svg  %%sx  %%system  %%time  %%timeit  %%writefile\n",
       "\n",
       "Automagic is ON, % prefix IS NOT needed for line magics."
      ]
     },
     "execution_count": 3,
     "metadata": {},
     "output_type": "execute_result"
    }
   ],
   "source": [
    "%lsmagic"
   ]
  },
  {
   "cell_type": "markdown",
   "id": "8719898e-7037-4c11-9288-811381736c71",
   "metadata": {},
   "source": [
    " - для работы с переменными окружения: %env TEST=5\n",
    " - для запуска скрипта .py: %run ./test.py"
   ]
  },
  {
   "cell_type": "code",
   "execution_count": 6,
   "id": "bcd21cdc-56ea-4e80-b6a8-ee237e8fa2e4",
   "metadata": {},
   "outputs": [
    {
     "name": "stderr",
     "output_type": "stream",
     "text": [
      "UsageError: Can't use statement directly after '%%time'!\n"
     ]
    }
   ],
   "source": [
    "%%time # выводит информацию о времении работы кода в рамках одной ячейки - за какое время выполнится ячека\n",
    "\n",
    "import time\n",
    "for i in range(50):\n",
    "    time.sleep(0.1)"
   ]
  },
  {
   "cell_type": "code",
   "execution_count": 7,
   "id": "83d5fbd7-1f7f-41ff-846c-8236ddaeee8b",
   "metadata": {},
   "outputs": [
    {
     "name": "stdout",
     "output_type": "stream",
     "text": [
      "2.66 µs ± 44.3 ns per loop (mean ± std. dev. of 7 runs, 100000 loops each)\n"
     ]
    }
   ],
   "source": [
    "%timeit x = [(i**10) for i in range(10)] # выводит информацию среднего значения трех лучших прогонов в выборке из 10к"
   ]
  },
  {
   "cell_type": "markdown",
   "id": "557ae974-78ab-46f9-b4ef-4d1942de002d",
   "metadata": {
    "tags": []
   },
   "source": [
    "## numpy"
   ]
  },
  {
   "cell_type": "code",
   "execution_count": 73,
   "id": "b037917c-5f72-480b-a2c1-58dc27f548dd",
   "metadata": {},
   "outputs": [],
   "source": [
    "import numpy as np\n",
    "vector = np.array([[1,2],[3,4],[5,6], [7,8]]) # создаем немножко матрицы"
   ]
  },
  {
   "cell_type": "code",
   "execution_count": 74,
   "id": "c35904a5-1865-49d1-9bbc-aae4e17e8646",
   "metadata": {},
   "outputs": [
    {
     "name": "stdout",
     "output_type": "stream",
     "text": [
      "[[1 2]\n",
      " [3 4]\n",
      " [5 6]\n",
      " [7 8]]\n"
     ]
    }
   ],
   "source": [
    "print(vector)"
   ]
  },
  {
   "cell_type": "code",
   "execution_count": 10,
   "id": "a24bc7e9-60ce-4ce1-bbcb-6332e9f4e748",
   "metadata": {},
   "outputs": [
    {
     "data": {
      "text/plain": [
       "dtype('int32')"
      ]
     },
     "execution_count": 10,
     "metadata": {},
     "output_type": "execute_result"
    }
   ],
   "source": [
    "vector.dtype # какие значения внутри матрицы, если даже один элемент будет другим (float) - все будет другим"
   ]
  },
  {
   "cell_type": "code",
   "execution_count": 11,
   "id": "71fa91ef-adc0-4b64-977c-7c73b59db9dc",
   "metadata": {},
   "outputs": [
    {
     "data": {
      "text/plain": [
       "numpy.ndarray"
      ]
     },
     "execution_count": 11,
     "metadata": {},
     "output_type": "execute_result"
    }
   ],
   "source": [
    "type(vector) # тип элемента - многомерный массив"
   ]
  },
  {
   "cell_type": "code",
   "execution_count": 12,
   "id": "9e80535e-670c-4bf7-8d5d-7f6d7e03501a",
   "metadata": {},
   "outputs": [
    {
     "data": {
      "text/plain": [
       "(4, 2)"
      ]
     },
     "execution_count": 12,
     "metadata": {},
     "output_type": "execute_result"
    }
   ],
   "source": [
    "vector.shape # размер массива"
   ]
  },
  {
   "cell_type": "code",
   "execution_count": 13,
   "id": "21ff5aa8-84f2-4814-857b-9ab57994be60",
   "metadata": {},
   "outputs": [
    {
     "data": {
      "text/plain": [
       "2"
      ]
     },
     "execution_count": 13,
     "metadata": {},
     "output_type": "execute_result"
    }
   ],
   "source": [
    "vector.ndim # число осей массива"
   ]
  },
  {
   "cell_type": "code",
   "execution_count": 14,
   "id": "8a57206c-83ea-412e-8730-5b04629cdd07",
   "metadata": {},
   "outputs": [
    {
     "data": {
      "text/plain": [
       "36"
      ]
     },
     "execution_count": 14,
     "metadata": {},
     "output_type": "execute_result"
    }
   ],
   "source": [
    "np.sum(vector) # суммирует все элементы массива"
   ]
  },
  {
   "cell_type": "code",
   "execution_count": 15,
   "id": "9ad8665f-194d-4cc1-ad3c-e0c250cc8609",
   "metadata": {},
   "outputs": [
    {
     "data": {
      "text/plain": [
       "array([16, 20])"
      ]
     },
     "execution_count": 15,
     "metadata": {},
     "output_type": "execute_result"
    }
   ],
   "source": [
    "np.sum(vector, axis = 0) # суммирует по столбкам"
   ]
  },
  {
   "cell_type": "code",
   "execution_count": 16,
   "id": "360c4968-4bb8-4125-ad15-613c3d4ececb",
   "metadata": {},
   "outputs": [
    {
     "data": {
      "text/plain": [
       "array([ 3,  7, 11, 15])"
      ]
     },
     "execution_count": 16,
     "metadata": {},
     "output_type": "execute_result"
    }
   ],
   "source": [
    "np.sum(vector, axis=1) # суммирует по строкам"
   ]
  },
  {
   "cell_type": "code",
   "execution_count": 17,
   "id": "92d0a959-a141-4419-8a65-962a1297851a",
   "metadata": {},
   "outputs": [
    {
     "data": {
      "text/plain": [
       "array([[1, 3, 5, 7],\n",
       "       [2, 4, 6, 8]])"
      ]
     },
     "execution_count": 17,
     "metadata": {},
     "output_type": "execute_result"
    }
   ],
   "source": [
    "vector.transpose() # транспонирование массива"
   ]
  },
  {
   "cell_type": "code",
   "execution_count": 18,
   "id": "5af523e6-fd11-434f-9168-ba9b1e2b2070",
   "metadata": {},
   "outputs": [
    {
     "data": {
      "text/plain": [
       "array([[1, 3, 5, 7],\n",
       "       [2, 4, 6, 8]])"
      ]
     },
     "execution_count": 18,
     "metadata": {},
     "output_type": "execute_result"
    }
   ],
   "source": [
    "vector.T # синтаксический сахар по транспонированию"
   ]
  },
  {
   "cell_type": "code",
   "execution_count": 19,
   "id": "448bf673-9207-44d8-8adc-b681be0cad99",
   "metadata": {},
   "outputs": [
    {
     "data": {
      "text/plain": [
       "array([[1, 2],\n",
       "       [3, 4],\n",
       "       [5, 6],\n",
       "       [7, 8]])"
      ]
     },
     "execution_count": 19,
     "metadata": {},
     "output_type": "execute_result"
    }
   ],
   "source": [
    "vector # при оперцаиях тнаспонирования сама переменная не изменяется"
   ]
  },
  {
   "cell_type": "code",
   "execution_count": 20,
   "id": "e4e3dab7-2c27-4500-8af2-a3f086b7477a",
   "metadata": {},
   "outputs": [
    {
     "ename": "ValueError",
     "evalue": "cannot reshape array of size 8 into shape (2,3)",
     "output_type": "error",
     "traceback": [
      "\u001b[1;31m---------------------------------------------------------------------------\u001b[0m",
      "\u001b[1;31mValueError\u001b[0m                                Traceback (most recent call last)",
      "\u001b[1;32m<ipython-input-20-2e7ce8e1372c>\u001b[0m in \u001b[0;36m<module>\u001b[1;34m\u001b[0m\n\u001b[1;32m----> 1\u001b[1;33m \u001b[0mvector\u001b[0m\u001b[1;33m.\u001b[0m\u001b[0mreshape\u001b[0m\u001b[1;33m(\u001b[0m\u001b[1;36m2\u001b[0m\u001b[1;33m,\u001b[0m\u001b[1;36m3\u001b[0m\u001b[1;33m)\u001b[0m \u001b[1;31m# изменение формы массива\u001b[0m\u001b[1;33m\u001b[0m\u001b[1;33m\u001b[0m\u001b[0m\n\u001b[0m",
      "\u001b[1;31mValueError\u001b[0m: cannot reshape array of size 8 into shape (2,3)"
     ]
    }
   ],
   "source": [
    "vector.reshape(2,3) # изменение формы массива"
   ]
  },
  {
   "cell_type": "code",
   "execution_count": null,
   "id": "c8553c83-fbf2-447f-abf0-08f03c2a72f1",
   "metadata": {},
   "outputs": [],
   "source": [
    "vector.reshape(3, -1)"
   ]
  },
  {
   "cell_type": "code",
   "execution_count": 21,
   "id": "e45d61d3-e3fd-4900-a55b-00e3409955e2",
   "metadata": {},
   "outputs": [
    {
     "data": {
      "text/plain": [
       "array([[1, 2, 3, 4],\n",
       "       [5, 6, 7, 8]])"
      ]
     },
     "execution_count": 21,
     "metadata": {},
     "output_type": "execute_result"
    }
   ],
   "source": [
    "vector.reshape(2, -1)"
   ]
  },
  {
   "cell_type": "code",
   "execution_count": 22,
   "id": "1ed79167-ca07-4f48-b000-b72ff5b63dee",
   "metadata": {},
   "outputs": [
    {
     "data": {
      "text/plain": [
       "array([2, 4, 6, 8])"
      ]
     },
     "execution_count": 22,
     "metadata": {},
     "output_type": "execute_result"
    }
   ],
   "source": [
    "vector[:, 1] # выдаем только второй столбец"
   ]
  },
  {
   "cell_type": "code",
   "execution_count": 23,
   "id": "9531b152-d877-43f9-89cd-6f9943117bb2",
   "metadata": {},
   "outputs": [
    {
     "data": {
      "text/plain": [
       "array([1, 2])"
      ]
     },
     "execution_count": 23,
     "metadata": {},
     "output_type": "execute_result"
    }
   ],
   "source": [
    "vector[0, :] # выдаем только первую строку"
   ]
  },
  {
   "cell_type": "code",
   "execution_count": 24,
   "id": "d63b147e-b5af-459b-be9f-21da67d2d8ce",
   "metadata": {},
   "outputs": [
    {
     "data": {
      "text/plain": [
       "array([[1, 2],\n",
       "       [5, 6]])"
      ]
     },
     "execution_count": 24,
     "metadata": {},
     "output_type": "execute_result"
    }
   ],
   "source": [
    "vector[::2, :] # выдает первую и еще какую надо"
   ]
  },
  {
   "cell_type": "code",
   "execution_count": 25,
   "id": "c611e5d5-f659-412c-a823-94d7e43d254c",
   "metadata": {},
   "outputs": [
    {
     "data": {
      "text/plain": [
       "array([[1, 2],\n",
       "       [3, 4],\n",
       "       [5, 6],\n",
       "       [7, 8]])"
      ]
     },
     "execution_count": 25,
     "metadata": {},
     "output_type": "execute_result"
    }
   ],
   "source": [
    "vector[::1,]"
   ]
  },
  {
   "cell_type": "code",
   "execution_count": 26,
   "id": "a700cca4-6545-44e9-864f-ad2c42d87891",
   "metadata": {},
   "outputs": [],
   "source": [
    "is_even = vector % 2 == 0 # превращение массива в булев массив"
   ]
  },
  {
   "cell_type": "code",
   "execution_count": 27,
   "id": "9bbdce63-0299-4b5f-b234-0c66270760c2",
   "metadata": {},
   "outputs": [
    {
     "name": "stdout",
     "output_type": "stream",
     "text": [
      "[[False  True]\n",
      " [False  True]\n",
      " [False  True]\n",
      " [False  True]]\n"
     ]
    }
   ],
   "source": [
    "print(is_even)"
   ]
  },
  {
   "cell_type": "code",
   "execution_count": 28,
   "id": "9fa21a5b-3e01-4398-992a-9fe5e3546d63",
   "metadata": {},
   "outputs": [
    {
     "data": {
      "text/plain": [
       "4"
      ]
     },
     "execution_count": 28,
     "metadata": {},
     "output_type": "execute_result"
    }
   ],
   "source": [
    "np.sum(is_even) # суммирует только True в массиве"
   ]
  },
  {
   "cell_type": "code",
   "execution_count": 29,
   "id": "1f69934f-f6ed-4c21-a6bd-bba6adadc4c8",
   "metadata": {},
   "outputs": [],
   "source": [
    "is_even[0, 0] = True"
   ]
  },
  {
   "cell_type": "code",
   "execution_count": 30,
   "id": "4d46cd1c-cf0a-4243-8f74-473305885821",
   "metadata": {},
   "outputs": [
    {
     "data": {
      "text/plain": [
       "5"
      ]
     },
     "execution_count": 30,
     "metadata": {},
     "output_type": "execute_result"
    }
   ],
   "source": [
    "np.sum(is_even) # проверка на то, как работает np.sum  с элементами массива"
   ]
  },
  {
   "cell_type": "code",
   "execution_count": 31,
   "id": "843d5f0d-7cc6-4a60-abee-d618937ffd16",
   "metadata": {},
   "outputs": [
    {
     "data": {
      "text/plain": [
       "array([2, 4, 6, 8])"
      ]
     },
     "execution_count": 31,
     "metadata": {},
     "output_type": "execute_result"
    }
   ],
   "source": [
    "vector[vector % 2 == 0] # вытащим только четные элементы из массива"
   ]
  },
  {
   "cell_type": "code",
   "execution_count": 32,
   "id": "83b84ef7-2ca8-42fa-ba27-0a26674c346b",
   "metadata": {},
   "outputs": [
    {
     "name": "stdout",
     "output_type": "stream",
     "text": [
      "[[0. 0. 0.]\n",
      " [0. 0. 0.]\n",
      " [0. 0. 0.]]\n"
     ]
    }
   ],
   "source": [
    "zero_array = np.zeros((3,3))\n",
    "print(zero_array) # создание массива, состоящего из нулей"
   ]
  },
  {
   "cell_type": "code",
   "execution_count": 33,
   "id": "8edf0fea-9bbe-414f-ac53-235f6c2d0eb6",
   "metadata": {},
   "outputs": [
    {
     "name": "stdout",
     "output_type": "stream",
     "text": [
      "[[1. 1. 1.]\n",
      " [1. 1. 1.]\n",
      " [1. 1. 1.]]\n"
     ]
    }
   ],
   "source": [
    "one_array = np.ones((3,3))\n",
    "print(one_array) # создание массива, состоящего из едниц"
   ]
  },
  {
   "cell_type": "code",
   "execution_count": 34,
   "id": "1edeb30b-b36a-4ebd-9633-d9302127f758",
   "metadata": {},
   "outputs": [
    {
     "name": "stdout",
     "output_type": "stream",
     "text": [
      "[[1. 0. 0. 0. 0.]\n",
      " [0. 1. 0. 0. 0.]\n",
      " [0. 0. 1. 0. 0.]\n",
      " [0. 0. 0. 1. 0.]\n",
      " [0. 0. 0. 0. 1.]]\n"
     ]
    }
   ],
   "source": [
    "unit_matrix = np.identity(5)\n",
    "print(unit_matrix) # создание единичной матрицы"
   ]
  },
  {
   "cell_type": "code",
   "execution_count": 35,
   "id": "d1ecc280-c648-4ec1-a6a2-58161bfc29ac",
   "metadata": {},
   "outputs": [
    {
     "data": {
      "text/plain": [
       "array([[[1., 2.],\n",
       "        [3., 4.],\n",
       "        [5., 6.],\n",
       "        [7., 8.]],\n",
       "\n",
       "       [[0., 0.],\n",
       "        [0., 0.],\n",
       "        [0., 0.],\n",
       "        [0., 0.]],\n",
       "\n",
       "       [[1., 1.],\n",
       "        [1., 1.],\n",
       "        [1., 1.],\n",
       "        [1., 1.]]])"
      ]
     },
     "execution_count": 35,
     "metadata": {},
     "output_type": "execute_result"
    }
   ],
   "source": [
    "# объединение нескольких массивов\n",
    "stacked_array = np.stack((vector, np.zeros(vector.shape),\n",
    "                         np.ones(vector.shape)))\n",
    "stacked_array"
   ]
  },
  {
   "cell_type": "markdown",
   "id": "5784bbf2-b214-41c6-9d99-9b886d280ab2",
   "metadata": {
    "tags": []
   },
   "source": [
    "## арифметические операции"
   ]
  },
  {
   "cell_type": "code",
   "execution_count": 36,
   "id": "5fc21943-5f81-40b1-a1eb-c38ac506909e",
   "metadata": {},
   "outputs": [
    {
     "data": {
      "text/plain": [
       "array([[2, 3],\n",
       "       [4, 5],\n",
       "       [6, 7],\n",
       "       [8, 9]])"
      ]
     },
     "execution_count": 36,
     "metadata": {},
     "output_type": "execute_result"
    }
   ],
   "source": [
    "vector+1 # прибавление к каждому элементу массива единицы"
   ]
  },
  {
   "cell_type": "code",
   "execution_count": 37,
   "id": "0801473b-5deb-4748-b126-87462c487ad3",
   "metadata": {},
   "outputs": [
    {
     "data": {
      "text/plain": [
       "array([[ 2,  4],\n",
       "       [ 6,  8],\n",
       "       [10, 12],\n",
       "       [14, 16]])"
      ]
     },
     "execution_count": 37,
     "metadata": {},
     "output_type": "execute_result"
    }
   ],
   "source": [
    "vector*2 # умножение каждого эемента массива"
   ]
  },
  {
   "cell_type": "code",
   "execution_count": 38,
   "id": "b6949ac9-e912-44fa-aab9-40a8d56d9b45",
   "metadata": {},
   "outputs": [
    {
     "data": {
      "text/plain": [
       "array([[ 1,  4],\n",
       "       [ 9, 16],\n",
       "       [25, 36],\n",
       "       [49, 64]], dtype=int32)"
      ]
     },
     "execution_count": 38,
     "metadata": {},
     "output_type": "execute_result"
    }
   ],
   "source": [
    "vector**2 # возведение в квадрат каждого элемента массива"
   ]
  },
  {
   "cell_type": "code",
   "execution_count": 39,
   "id": "69abb18e-7f92-4c27-b403-aacc12a500ab",
   "metadata": {},
   "outputs": [
    {
     "data": {
      "text/plain": [
       "array([[ 1,  4],\n",
       "       [ 9, 16],\n",
       "       [25, 36],\n",
       "       [49, 64]])"
      ]
     },
     "execution_count": 39,
     "metadata": {},
     "output_type": "execute_result"
    }
   ],
   "source": [
    "vector*vector"
   ]
  },
  {
   "cell_type": "code",
   "execution_count": 40,
   "id": "ed6d907e-e922-498b-ba52-5a03ae3b1b96",
   "metadata": {},
   "outputs": [
    {
     "data": {
      "text/plain": [
       "array([[ 2,  4],\n",
       "       [ 6,  8],\n",
       "       [10, 12],\n",
       "       [14, 16]])"
      ]
     },
     "execution_count": 40,
     "metadata": {},
     "output_type": "execute_result"
    }
   ],
   "source": [
    "vector+vector"
   ]
  },
  {
   "cell_type": "code",
   "execution_count": 41,
   "id": "b386b1ae-c551-4228-93ef-09e9694a060e",
   "metadata": {},
   "outputs": [
    {
     "data": {
      "text/plain": [
       "array([[ 0.84147098,  0.90929743],\n",
       "       [ 0.14112001, -0.7568025 ],\n",
       "       [-0.95892427, -0.2794155 ],\n",
       "       [ 0.6569866 ,  0.98935825]])"
      ]
     },
     "execution_count": 41,
     "metadata": {},
     "output_type": "execute_result"
    }
   ],
   "source": [
    "np.sin(vector) # синус от каждого элемента"
   ]
  },
  {
   "cell_type": "markdown",
   "id": "57f8623f-716b-4cf6-a18e-18d37f81c382",
   "metadata": {},
   "source": [
    "## матричное умножение"
   ]
  },
  {
   "cell_type": "code",
   "execution_count": 42,
   "id": "efdb17ae-cce5-43a5-8b07-bbf06974fbf9",
   "metadata": {},
   "outputs": [],
   "source": [
    "#для того, чтобы удалить строку в массиве\n",
    "# для удаления столбца указывает единичный аксис\n",
    "vector = np.delete(vector,(3), axis = 0)"
   ]
  },
  {
   "cell_type": "code",
   "execution_count": 64,
   "id": "de1caa31-cbe7-496b-8538-cd5ee83b3594",
   "metadata": {},
   "outputs": [
    {
     "ename": "ValueError",
     "evalue": "all the input array dimensions for the concatenation axis must match exactly, but along dimension 1, the array at index 0 has size 8 and the array at index 1 has size 2",
     "output_type": "error",
     "traceback": [
      "\u001b[1;31m---------------------------------------------------------------------------\u001b[0m",
      "\u001b[1;31mValueError\u001b[0m                                Traceback (most recent call last)",
      "\u001b[1;32m<ipython-input-64-33bce99f00d6>\u001b[0m in \u001b[0;36m<module>\u001b[1;34m\u001b[0m\n\u001b[0;32m      1\u001b[0m \u001b[1;31m# мне не сильно нравится, так как нельзя выбрать аксис\u001b[0m\u001b[1;33m\u001b[0m\u001b[1;33m\u001b[0m\u001b[1;33m\u001b[0m\u001b[0m\n\u001b[0;32m      2\u001b[0m \u001b[1;31m# но, добавление к массиву\u001b[0m\u001b[1;33m\u001b[0m\u001b[1;33m\u001b[0m\u001b[1;33m\u001b[0m\u001b[0m\n\u001b[1;32m----> 3\u001b[1;33m \u001b[0mvector\u001b[0m \u001b[1;33m=\u001b[0m \u001b[0mnp\u001b[0m\u001b[1;33m.\u001b[0m\u001b[0mvstack\u001b[0m\u001b[1;33m(\u001b[0m\u001b[1;33m[\u001b[0m\u001b[0mvector\u001b[0m\u001b[1;33m,\u001b[0m \u001b[1;33m(\u001b[0m\u001b[1;36m2\u001b[0m\u001b[1;33m,\u001b[0m\u001b[1;36m2\u001b[0m\u001b[1;33m)\u001b[0m \u001b[1;33m]\u001b[0m\u001b[1;33m)\u001b[0m\u001b[1;33m\u001b[0m\u001b[1;33m\u001b[0m\u001b[0m\n\u001b[0m",
      "\u001b[1;32m<__array_function__ internals>\u001b[0m in \u001b[0;36mvstack\u001b[1;34m(*args, **kwargs)\u001b[0m\n",
      "\u001b[1;32mC:\\ProgramData\\Anaconda3\\lib\\site-packages\\numpy\\core\\shape_base.py\u001b[0m in \u001b[0;36mvstack\u001b[1;34m(tup)\u001b[0m\n\u001b[0;32m    281\u001b[0m     \u001b[1;32mif\u001b[0m \u001b[1;32mnot\u001b[0m \u001b[0misinstance\u001b[0m\u001b[1;33m(\u001b[0m\u001b[0marrs\u001b[0m\u001b[1;33m,\u001b[0m \u001b[0mlist\u001b[0m\u001b[1;33m)\u001b[0m\u001b[1;33m:\u001b[0m\u001b[1;33m\u001b[0m\u001b[1;33m\u001b[0m\u001b[0m\n\u001b[0;32m    282\u001b[0m         \u001b[0marrs\u001b[0m \u001b[1;33m=\u001b[0m \u001b[1;33m[\u001b[0m\u001b[0marrs\u001b[0m\u001b[1;33m]\u001b[0m\u001b[1;33m\u001b[0m\u001b[1;33m\u001b[0m\u001b[0m\n\u001b[1;32m--> 283\u001b[1;33m     \u001b[1;32mreturn\u001b[0m \u001b[0m_nx\u001b[0m\u001b[1;33m.\u001b[0m\u001b[0mconcatenate\u001b[0m\u001b[1;33m(\u001b[0m\u001b[0marrs\u001b[0m\u001b[1;33m,\u001b[0m \u001b[1;36m0\u001b[0m\u001b[1;33m)\u001b[0m\u001b[1;33m\u001b[0m\u001b[1;33m\u001b[0m\u001b[0m\n\u001b[0m\u001b[0;32m    284\u001b[0m \u001b[1;33m\u001b[0m\u001b[0m\n\u001b[0;32m    285\u001b[0m \u001b[1;33m\u001b[0m\u001b[0m\n",
      "\u001b[1;32m<__array_function__ internals>\u001b[0m in \u001b[0;36mconcatenate\u001b[1;34m(*args, **kwargs)\u001b[0m\n",
      "\u001b[1;31mValueError\u001b[0m: all the input array dimensions for the concatenation axis must match exactly, but along dimension 1, the array at index 0 has size 8 and the array at index 1 has size 2"
     ]
    }
   ],
   "source": [
    "# мне не сильно нравится, так как нельзя выбрать аксис\n",
    "# но, добавление к массиву\n",
    "vector = np.vstack([vector, (2,2) ]) "
   ]
  },
  {
   "cell_type": "code",
   "execution_count": 45,
   "id": "e846d952-f3f7-4157-a3c9-e73531867732",
   "metadata": {},
   "outputs": [],
   "source": [
    "vector = np.c_[vector,[1,1,1,1]] # обавление столбца ну вот вообще огонь как удобно"
   ]
  },
  {
   "cell_type": "code",
   "execution_count": 53,
   "id": "6762bcf2-54c3-4a08-9204-aee882dcd6a5",
   "metadata": {},
   "outputs": [],
   "source": [
    "vector = np.c_[vector,[1,1,1,1]]"
   ]
  },
  {
   "cell_type": "code",
   "execution_count": 60,
   "id": "407c1047-34a7-4bbf-b3ad-61973a7f7177",
   "metadata": {},
   "outputs": [],
   "source": [
    "vector = np.c_[vector,[1,1,1,1]]"
   ]
  },
  {
   "cell_type": "code",
   "execution_count": 63,
   "id": "2af50a56-c823-43b2-a995-454aa94f6711",
   "metadata": {},
   "outputs": [
    {
     "ename": "ValueError",
     "evalue": "all the input arrays must have same number of dimensions, but the array at index 0 has 2 dimension(s) and the array at index 1 has 1 dimension(s)",
     "output_type": "error",
     "traceback": [
      "\u001b[1;31m---------------------------------------------------------------------------\u001b[0m",
      "\u001b[1;31mValueError\u001b[0m                                Traceback (most recent call last)",
      "\u001b[1;32m<ipython-input-63-7611a9bf28da>\u001b[0m in \u001b[0;36m<module>\u001b[1;34m\u001b[0m\n\u001b[1;32m----> 1\u001b[1;33m \u001b[0mvector\u001b[0m \u001b[1;33m=\u001b[0m \u001b[0mnp\u001b[0m\u001b[1;33m.\u001b[0m\u001b[0mr_\u001b[0m\u001b[1;33m[\u001b[0m\u001b[0mvector\u001b[0m\u001b[1;33m,\u001b[0m\u001b[1;33m[\u001b[0m\u001b[1;36m1\u001b[0m\u001b[1;33m]\u001b[0m\u001b[1;33m]\u001b[0m\u001b[1;33m\u001b[0m\u001b[1;33m\u001b[0m\u001b[0m\n\u001b[0m",
      "\u001b[1;32mC:\\ProgramData\\Anaconda3\\lib\\site-packages\\numpy\\lib\\index_tricks.py\u001b[0m in \u001b[0;36m__getitem__\u001b[1;34m(self, key)\u001b[0m\n\u001b[0;32m    405\u001b[0m                 \u001b[0mobjs\u001b[0m\u001b[1;33m[\u001b[0m\u001b[0mk\u001b[0m\u001b[1;33m]\u001b[0m \u001b[1;33m=\u001b[0m \u001b[0mobjs\u001b[0m\u001b[1;33m[\u001b[0m\u001b[0mk\u001b[0m\u001b[1;33m]\u001b[0m\u001b[1;33m.\u001b[0m\u001b[0mastype\u001b[0m\u001b[1;33m(\u001b[0m\u001b[0mfinal_dtype\u001b[0m\u001b[1;33m)\u001b[0m\u001b[1;33m\u001b[0m\u001b[1;33m\u001b[0m\u001b[0m\n\u001b[0;32m    406\u001b[0m \u001b[1;33m\u001b[0m\u001b[0m\n\u001b[1;32m--> 407\u001b[1;33m         \u001b[0mres\u001b[0m \u001b[1;33m=\u001b[0m \u001b[0mself\u001b[0m\u001b[1;33m.\u001b[0m\u001b[0mconcatenate\u001b[0m\u001b[1;33m(\u001b[0m\u001b[0mtuple\u001b[0m\u001b[1;33m(\u001b[0m\u001b[0mobjs\u001b[0m\u001b[1;33m)\u001b[0m\u001b[1;33m,\u001b[0m \u001b[0maxis\u001b[0m\u001b[1;33m=\u001b[0m\u001b[0maxis\u001b[0m\u001b[1;33m)\u001b[0m\u001b[1;33m\u001b[0m\u001b[1;33m\u001b[0m\u001b[0m\n\u001b[0m\u001b[0;32m    408\u001b[0m \u001b[1;33m\u001b[0m\u001b[0m\n\u001b[0;32m    409\u001b[0m         \u001b[1;32mif\u001b[0m \u001b[0mmatrix\u001b[0m\u001b[1;33m:\u001b[0m\u001b[1;33m\u001b[0m\u001b[1;33m\u001b[0m\u001b[0m\n",
      "\u001b[1;32m<__array_function__ internals>\u001b[0m in \u001b[0;36mconcatenate\u001b[1;34m(*args, **kwargs)\u001b[0m\n",
      "\u001b[1;31mValueError\u001b[0m: all the input arrays must have same number of dimensions, but the array at index 0 has 2 dimension(s) and the array at index 1 has 1 dimension(s)"
     ]
    }
   ],
   "source": [
    "vector = np.r_[vector,[1]]"
   ]
  },
  {
   "cell_type": "code",
   "execution_count": 84,
   "id": "3e6f8dc7-5e86-4055-8501-2d1d8ec3455e",
   "metadata": {},
   "outputs": [],
   "source": [
    "vector = np.array([[1,2],[3,4],[5,6]])"
   ]
  },
  {
   "cell_type": "code",
   "execution_count": 87,
   "id": "053b1ae0-fd67-4817-8a68-89da22cded5e",
   "metadata": {},
   "outputs": [],
   "source": [
    "vector = np.c_[vector, [1,1,1]]"
   ]
  },
  {
   "cell_type": "code",
   "execution_count": 91,
   "id": "911cc477-909e-4be3-9fca-d83153ac97c0",
   "metadata": {},
   "outputs": [
    {
     "data": {
      "text/plain": [
       "array([[ 44,  72,   4],\n",
       "       [ 64, 112,   8],\n",
       "       [ 84, 152,  12]])"
      ]
     },
     "execution_count": 91,
     "metadata": {},
     "output_type": "execute_result"
    }
   ],
   "source": [
    "vector.dot(vector**2) # матричное умножение"
   ]
  },
  {
   "cell_type": "code",
   "execution_count": 93,
   "id": "d19038dc-c854-413b-bc4e-e87441eefbfa",
   "metadata": {},
   "outputs": [
    {
     "data": {
      "text/plain": [
       "array([[ 10,  42,  98],\n",
       "       [ 20,  92, 220],\n",
       "       [ 30, 142, 342]])"
      ]
     },
     "execution_count": 93,
     "metadata": {},
     "output_type": "execute_result"
    }
   ],
   "source": [
    "vector.dot((vector**2).T) # транспонирование"
   ]
  },
  {
   "cell_type": "code",
   "execution_count": 95,
   "id": "3e67b0d7-be52-4cb3-a3eb-92278010cb3a",
   "metadata": {},
   "outputs": [
    {
     "data": {
      "text/plain": [
       "array([[ 10,  42,  98],\n",
       "       [ 20,  92, 220],\n",
       "       [ 30, 142, 342]])"
      ]
     },
     "execution_count": 95,
     "metadata": {},
     "output_type": "execute_result"
    }
   ],
   "source": [
    "vector @ (vector ** 2).T # ругой вариант записи"
   ]
  },
  {
   "attachments": {
    "cab66b64-9cec-419f-94c1-89c7604d8736.png": {
     "image/png": "[encoded data removed]"
    }
   },
   "cell_type": "markdown",
   "id": "23dcfaa6-326d-4d15-b40b-a127afcc6174",
   "metadata": {},
   "source": [
    "небольшой пояснение того, что происходит с матрицами при умножении их одна на другую \"точечное произведение вух массивов\"\n",
    "![image.png](attachment:cab66b64-9cec-419f-94c1-89c7604d8736.png)"
   ]
  },
  {
   "cell_type": "code",
   "execution_count": 99,
   "id": "beaf328a-64ef-42e6-be1c-60b705e6f80e",
   "metadata": {},
   "outputs": [
    {
     "data": {
      "text/plain": [
       "array([[1, 2, 1],\n",
       "       [3, 4, 1],\n",
       "       [5, 6, 1]])"
      ]
     },
     "execution_count": 99,
     "metadata": {},
     "output_type": "execute_result"
    }
   ],
   "source": [
    "vector # нетранспонированная матрица"
   ]
  },
  {
   "cell_type": "code",
   "execution_count": 100,
   "id": "dce1483a-91e2-4779-b05b-99d44a6831b1",
   "metadata": {},
   "outputs": [
    {
     "data": {
      "text/plain": [
       "array([[1, 3, 5],\n",
       "       [2, 4, 6],\n",
       "       [1, 1, 1]])"
      ]
     },
     "execution_count": 100,
     "metadata": {},
     "output_type": "execute_result"
    }
   ],
   "source": [
    "vector.T # транспонированная матрица"
   ]
  },
  {
   "attachments": {
    "a6bf6322-c84a-4973-b32e-ac349189c750.png": {
     "image/png": "[encoded data removed]"
    }
   },
   "cell_type": "markdown",
   "id": "9e1ec6d4-2b19-4353-93fd-a4c4a1881555",
   "metadata": {},
   "source": [
    "пример для транспонирования матриц:\n",
    "![image.png](attachment:a6bf6322-c84a-4973-b32e-ac349189c750.png)"
   ]
  },
  {
   "cell_type": "markdown",
   "id": "b89e7c52-117b-4183-839d-9a49d15d33f9",
   "metadata": {},
   "source": [
    "__в анализе данных транспонирование применяется для того, чтобы в таблицах сделать столбцы строками, а строки столбцами__\n",
    "- это преследует : сделать более удобным визуальный анализт таблиц\n",
    "- для подготовки данных в том случае, если таблица повернута неудобоваримым форматом"
   ]
  },
  {
   "cell_type": "code",
   "execution_count": 101,
   "id": "c3c79876-0946-4964-8024-69651c3b917b",
   "metadata": {},
   "outputs": [
    {
     "data": {
      "text/plain": [
       "array([[0.4799076 , 0.9994569 , 0.06676922],\n",
       "       [0.88025046, 0.63149187, 0.21096478]])"
      ]
     },
     "execution_count": 101,
     "metadata": {},
     "output_type": "execute_result"
    }
   ],
   "source": [
    "np.random.rand(2,3) # генерация случайных чисел"
   ]
  },
  {
   "cell_type": "code",
   "execution_count": 102,
   "id": "748c91aa-6452-4ff9-9ecb-1c213adae297",
   "metadata": {},
   "outputs": [],
   "source": [
    "np.random.seed(2019)"
   ]
  },
  {
   "cell_type": "code",
   "execution_count": 103,
   "id": "40a4bcfd-3d04-4eb7-b506-8ad929576728",
   "metadata": {},
   "outputs": [
    {
     "data": {
      "text/plain": [
       "array([[0.90348221, 0.39308051, 0.62396996],\n",
       "       [0.6378774 , 0.88049907, 0.29917202]])"
      ]
     },
     "execution_count": 103,
     "metadata": {},
     "output_type": "execute_result"
    }
   ],
   "source": [
    "np.random.rand(2,3)"
   ]
  },
  {
   "cell_type": "code",
   "execution_count": 111,
   "id": "4a19534d-6389-4114-b165-a69de669f38a",
   "metadata": {},
   "outputs": [
    {
     "data": {
      "text/plain": [
       "array([2.41092825, 2.48668927, 1.46447029, 1.16109206, 1.18762518])"
      ]
     },
     "execution_count": 111,
     "metadata": {},
     "output_type": "execute_result"
    }
   ],
   "source": [
    "np.random.normal(2,1, size=5) # нормальное распределение???"
   ]
  },
  {
   "cell_type": "code",
   "execution_count": null,
   "id": "1a9b06b0-d164-44db-b537-b66fde5f6f15",
   "metadata": {},
   "outputs": [],
   "source": []
  }
 ],
 "metadata": {
  "kernelspec": {
   "display_name": "Python 3",
   "language": "python",
   "name": "python3"
  },
  "language_info": {
   "codemirror_mode": {
    "name": "ipython",
    "version": 3
   },
   "file_extension": ".py",
   "mimetype": "text/x-python",
   "name": "python",
   "nbconvert_exporter": "python",
   "pygments_lexer": "ipython3",
   "version": "3.8.8"
  }
 },
 "nbformat": 4,
 "nbformat_minor": 5
}
