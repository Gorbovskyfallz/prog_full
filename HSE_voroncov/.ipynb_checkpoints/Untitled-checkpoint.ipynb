{
 "cells": [
  {
   "cell_type": "markdown",
   "id": "19152a48-8bc6-4d5e-aef6-11f913d174af",
   "metadata": {},
   "source": [
    "# kek\n"
   ]
  },
  {
   "cell_type": "code",
   "execution_count": null,
   "id": "c61083a2-a248-4869-a45e-83cc5ed57519",
   "metadata": {},
   "outputs": [],
   "source": []
  },
  {
   "cell_type": "code",
   "execution_count": null,
   "id": "81d5e53c-64f8-4f96-b7a2-7acb15a224a5",
   "metadata": {},
   "outputs": [],
   "source": []
  }
 ],
 "metadata": {
  "kernelspec": {
   "display_name": "Python 3 (ipykernel)",
   "language": "python",
   "name": "python3"
  },
  "language_info": {
   "codemirror_mode": {
    "name": "ipython",
    "version": 3
   },
   "file_extension": ".py",
   "mimetype": "text/x-python",
   "name": "python",
   "nbconvert_exporter": "python",
   "pygments_lexer": "ipython3",
   "version": "3.9.7"
  }
 },
 "nbformat": 4,
 "nbformat_minor": 5
}
