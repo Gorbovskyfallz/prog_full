{
 "cells": [
  {
   "cell_type": "markdown",
   "id": "5a7152fe-58c1-4768-8957-a28cc2dcf4c1",
   "metadata": {},
   "source": [
    " # **чтение данных из файла, встроенная функция open**"
   ]
  },
  {
   "cell_type": "markdown",
   "id": "0a68fbeb-fe12-4ea3-966c-7edb83b4b8b4",
   "metadata": {},
   "source": [
    "для открытия файла будет использована встроенная функция open? для того, чтобы посмотрреть ее мануал, нам потребуется ввести в кернел ?open"
   ]
  },
  {
   "cell_type": "code",
   "execution_count": 33,
   "id": "4d6239bb-7ac0-4ee8-8edd-8d81ec3f7a30",
   "metadata": {},
   "outputs": [],
   "source": [
    "file_ob = open('kek.txt')"
   ]
  },
  {
   "cell_type": "code",
   "execution_count": 34,
   "id": "34d344c6-e20e-4787-86cf-be6c81c67fa6",
   "metadata": {},
   "outputs": [
    {
     "data": {
      "text/plain": [
       "_io.TextIOWrapper"
      ]
     },
     "execution_count": 34,
     "metadata": {},
     "output_type": "execute_result"
    }
   ],
   "source": [
    "type(file_ob)"
   ]
  },
  {
   "cell_type": "code",
   "execution_count": 35,
   "id": "dad6cb8c-1b86-4555-a8f5-035b5d9d2e58",
   "metadata": {},
   "outputs": [
    {
     "name": "stdout",
     "output_type": "stream",
     "text": [
      "hello kek!\n",
      "kek hello!\n"
     ]
    }
   ],
   "source": [
    "print(file_ob.read())"
   ]
  },
  {
   "cell_type": "code",
   "execution_count": 36,
   "id": "7b71caf8-395b-4e33-8b45-5ea7b5ba934d",
   "metadata": {},
   "outputs": [],
   "source": [
    "file_obj = open('kek.txt')"
   ]
  },
  {
   "cell_type": "code",
   "execution_count": 42,
   "id": "5f79d94a-a573-4f44-9bb5-a6a819226379",
   "metadata": {},
   "outputs": [
    {
     "name": "stdout",
     "output_type": "stream",
     "text": [
      "\n"
     ]
    }
   ],
   "source": [
    "print(file_obj.readline())"
   ]
  },
  {
   "cell_type": "code",
   "execution_count": 43,
   "id": "62a15565-f4e8-4517-afb9-50a363907c50",
   "metadata": {},
   "outputs": [],
   "source": [
    "file_obj = open('kek.txt')"
   ]
  },
  {
   "cell_type": "code",
   "execution_count": 44,
   "id": "b98700f8-389a-42e1-bef6-e7807e34ceda",
   "metadata": {},
   "outputs": [
    {
     "name": "stdout",
     "output_type": "stream",
     "text": [
      "hello kek!\n",
      "\n"
     ]
    }
   ],
   "source": [
    "print(file_obj.readline())"
   ]
  },
  {
   "cell_type": "code",
   "execution_count": 56,
   "id": "48f1d059-0172-41ca-8003-0eb81196ed14",
   "metadata": {},
   "outputs": [],
   "source": [
    "file_obj = open('kek.txt')"
   ]
  },
  {
   "cell_type": "code",
   "execution_count": 50,
   "id": "1bb560a5-1fa8-4d3c-a8ba-f9b3a7f9a1bf",
   "metadata": {},
   "outputs": [
    {
     "name": "stdout",
     "output_type": "stream",
     "text": [
      "hello kek!\n",
      "kek hello!\n"
     ]
    }
   ],
   "source": [
    "for line in file_obj:  # выводим текст методом генератора\n",
    "    print(line.strip())  # используем функцию, которая будет отсекать спецсимволы"
   ]
  },
  {
   "cell_type": "code",
   "execution_count": 57,
   "id": "6ccfe724-20db-4727-88f8-8a6c6ce391b4",
   "metadata": {},
   "outputs": [
    {
     "name": "stdout",
     "output_type": "stream",
     "text": [
      "hello kek!\n",
      "\n",
      "kek hello!\n"
     ]
    }
   ],
   "source": [
    "for line in file_obj:  # выводим текст методом генератора\n",
    "    print(line)  # не используем функцию и видим пробел"
   ]
  },
  {
   "cell_type": "code",
   "execution_count": 58,
   "id": "5dcb63cb-6201-4ecf-83ee-9e074f3fb973",
   "metadata": {},
   "outputs": [],
   "source": [
    "file_obj = open('kek.txt')\n",
    "data_list = list(file_obj)"
   ]
  },
  {
   "cell_type": "code",
   "execution_count": 63,
   "id": "2825ddc6-ec7c-4dac-8cd5-d8ab5f952c5c",
   "metadata": {},
   "outputs": [
    {
     "name": "stdout",
     "output_type": "stream",
     "text": [
      "['hello kek!\\n', 'kek hello!']\n"
     ]
    }
   ],
   "source": [
    "print(data_list)  # в данном случае мы увижем сырой вывод со всем, чем только можно"
   ]
  },
  {
   "cell_type": "code",
   "execution_count": 65,
   "id": "dce12352-69c8-4e67-947f-5208c9b2fcef",
   "metadata": {},
   "outputs": [
    {
     "name": "stdout",
     "output_type": "stream",
     "text": [
      "hello kek!\n",
      "kek hello!\n"
     ]
    }
   ],
   "source": [
    "for line in data_list:\n",
    "    # снова воспользуемся функцией стрип для очистки строк от спецсимволов\n",
    "    print(line.strip())"
   ]
  },
  {
   "cell_type": "code",
   "execution_count": 76,
   "id": "1f6c0161-68f6-4a1b-89fe-0064050e0075",
   "metadata": {},
   "outputs": [],
   "source": [
    "file_obj = open('kek.txt')\n",
    "data_list = file_obj.readlines()  # вывод с помощью readlines()"
   ]
  },
  {
   "cell_type": "code",
   "execution_count": 73,
   "id": "1a9e9054-6147-43e2-8107-788a4a226d11",
   "metadata": {},
   "outputs": [
    {
     "name": "stdout",
     "output_type": "stream",
     "text": [
      "['hello kek!\\n', 'kek hello!']\n"
     ]
    }
   ],
   "source": [
    "print(data_list)"
   ]
  },
  {
   "cell_type": "code",
   "execution_count": 74,
   "id": "e42dabe2-b743-4f34-bc14-fb718a465470",
   "metadata": {},
   "outputs": [
    {
     "data": {
      "text/plain": [
       "list"
      ]
     },
     "execution_count": 74,
     "metadata": {},
     "output_type": "execute_result"
    }
   ],
   "source": [
    "type(data_list)"
   ]
  },
  {
   "cell_type": "code",
   "execution_count": 75,
   "id": "3067461b-30fa-4c18-be6a-98f94a0397e6",
   "metadata": {},
   "outputs": [
    {
     "name": "stdout",
     "output_type": "stream",
     "text": [
      "hello kek!\n",
      "kek hello!\n"
     ]
    }
   ],
   "source": [
    "for line in data_list:\n",
    "    print(line.strip())"
   ]
  },
  {
   "cell_type": "markdown",
   "id": "59177e35-4786-41ae-aabb-cbc0a6f4e277",
   "metadata": {},
   "source": [
    "**главное отличие readline от readlines в том, что первая считывает только одну строку и с ней и работает!!!**"
   ]
  },
  {
   "cell_type": "code",
   "execution_count": 77,
   "id": "c1569f80-3ab2-4382-b471-378a3da4ee43",
   "metadata": {},
   "outputs": [
    {
     "ename": "AttributeError",
     "evalue": "'list' object has no attribute 'close'",
     "output_type": "error",
     "traceback": [
      "\u001b[1;31m---------------------------------------------------------------------------\u001b[0m",
      "\u001b[1;31mAttributeError\u001b[0m                            Traceback (most recent call last)",
      "\u001b[1;32m<ipython-input-77-a55ce5546f89>\u001b[0m in \u001b[0;36m<module>\u001b[1;34m\u001b[0m\n\u001b[1;32m----> 1\u001b[1;33m \u001b[0mdata_list\u001b[0m\u001b[1;33m.\u001b[0m\u001b[0mclose\u001b[0m\u001b[1;33m(\u001b[0m\u001b[1;33m)\u001b[0m\u001b[1;33m\u001b[0m\u001b[1;33m\u001b[0m\u001b[0m\n\u001b[0m",
      "\u001b[1;31mAttributeError\u001b[0m: 'list' object has no attribute 'close'"
     ]
    }
   ],
   "source": []
  },
  {
   "cell_type": "code",
   "execution_count": 82,
   "id": "f7f76b3e-b9c4-478d-af62-7286ee7101a2",
   "metadata": {},
   "outputs": [],
   "source": [
    "file_obj = open('kek.txt')\n",
    "file_obj.close()  # функция для закрытия файла\n",
    "# file_obj.read()"
   ]
  },
  {
   "cell_type": "code",
   "execution_count": 83,
   "id": "10e35936-a335-4d28-afc6-bfa57982fe9c",
   "metadata": {},
   "outputs": [
    {
     "data": {
      "text/plain": [
       "_io.TextIOWrapper"
      ]
     },
     "execution_count": 83,
     "metadata": {},
     "output_type": "execute_result"
    }
   ],
   "source": [
    "type(file_obj)"
   ]
  },
  {
   "cell_type": "code",
   "execution_count": 86,
   "id": "41b5ac22-7c43-403e-b644-5458a0f42539",
   "metadata": {},
   "outputs": [],
   "source": [
    "file_koi = open('koi.txt')"
   ]
  },
  {
   "cell_type": "code",
   "execution_count": 87,
   "id": "0cf98358-2d16-453b-8707-42c28ef8df43",
   "metadata": {},
   "outputs": [
    {
     "name": "stdout",
     "output_type": "stream",
     "text": [
      "РџСЂРёРІРµС‚, РјРёСЂ!\n",
      "Р­С‚Рѕ С‚РµСЃС‚РѕРІС‹Р№ С„Р°Р№Р»\n",
      "РљРѕРґРёСЂРѕРІРєР° koi8-r\n",
      "РЈСЂРѕРє \"С‡С‚РµРЅРёРµ РґР°РЅРЅС‹С… РІ python\"\n"
     ]
    }
   ],
   "source": [
    "print(file_koi.read())"
   ]
  },
  {
   "cell_type": "markdown",
   "id": "7e8e39b5-3677-467a-89cd-54a86163dee9",
   "metadata": {},
   "source": [
    "**работа с кодировка с помощью библиотеки codecs**"
   ]
  },
  {
   "cell_type": "code",
   "execution_count": 88,
   "id": "7e1cf023-84bb-470b-b070-80c0e1c2f336",
   "metadata": {},
   "outputs": [],
   "source": [
    "import codecs"
   ]
  },
  {
   "cell_type": "code",
   "execution_count": 95,
   "id": "453dac42-6d3e-4ec8-85dd-c68db8a85677",
   "metadata": {},
   "outputs": [],
   "source": [
    "# у меня не читается кодировка кои -8, но, при прочтнеии в утф все норм\n",
    "data_object = codecs.open('koi.txt', 'r', encoding='utf-8')"
   ]
  },
  {
   "cell_type": "code",
   "execution_count": 94,
   "id": "9de1a06a-e725-43d0-a152-045256587b64",
   "metadata": {},
   "outputs": [
    {
     "name": "stdout",
     "output_type": "stream",
     "text": [
      "Привет, мир!\n",
      "Это тестовый файл\n",
      "Кодировка koi8-r\n",
      "Урок \"чтение данных в python\"\n"
     ]
    }
   ],
   "source": [
    "print(data_object.read())"
   ]
  },
  {
   "cell_type": "markdown",
   "id": "e67b227e-a531-433d-9441-61ea10a802f5",
   "metadata": {},
   "source": [
    " # **запись данных в файл**"
   ]
  },
  {
   "cell_type": "code",
   "execution_count": 152,
   "id": "ef251c17-0cd4-4e7f-88ae-1d7f7efbda8f",
   "metadata": {},
   "outputs": [],
   "source": [
    "data_write = open('write.txt', 'w')"
   ]
  },
  {
   "cell_type": "code",
   "execution_count": 153,
   "id": "f8598abe-3e0b-4662-b473-2525c3f0b629",
   "metadata": {},
   "outputs": [],
   "source": [
    "string1 = \"строка для записи 1\\n\"\n",
    "string2 = 'строка для записи 2'"
   ]
  },
  {
   "cell_type": "code",
   "execution_count": 154,
   "id": "31777633-b292-4c81-8989-f6ce20e5ee1e",
   "metadata": {},
   "outputs": [
    {
     "data": {
      "text/plain": [
       "19"
      ]
     },
     "execution_count": 154,
     "metadata": {},
     "output_type": "execute_result"
    }
   ],
   "source": [
    "data_write.write(string1)\n",
    "data_write.write(string2)"
   ]
  },
  {
   "cell_type": "code",
   "execution_count": 155,
   "id": "6c6cdfa3-ef76-4014-91fe-0440e52da6d4",
   "metadata": {},
   "outputs": [],
   "source": [
    "data_write.close()\n",
    "data_write = open('write.txt')"
   ]
  },
  {
   "cell_type": "code",
   "execution_count": 156,
   "id": "fa613368-b4b9-4911-9ed9-a91137457734",
   "metadata": {},
   "outputs": [],
   "source": [
    "# не забываем, что для прочитываения всех строчек нам нужен ридлайнс\n",
    "data_list = list(data_write.readlines())"
   ]
  },
  {
   "cell_type": "code",
   "execution_count": 157,
   "id": "a7a0e3e8-528f-4dd8-9dcc-6d9c5b4bb3eb",
   "metadata": {},
   "outputs": [
    {
     "name": "stdout",
     "output_type": "stream",
     "text": [
      "строка для записи 1\n",
      "строка для записи 2\n"
     ]
    }
   ],
   "source": [
    "for line in data_list:\n",
    "    print(line.strip())"
   ]
  },
  {
   "cell_type": "markdown",
   "id": "61141a21-394d-485d-9294-8cfcc3122754",
   "metadata": {},
   "source": [
    "можем глянуть и с помощью командной строки, че там да как лежит в файлек, в который мы записывали строчки"
   ]
  },
  {
   "cell_type": "code",
   "execution_count": 159,
   "id": "1362fcbc-ef93-454c-bbef-fd9637fd95d6",
   "metadata": {},
   "outputs": [
    {
     "name": "stdout",
     "output_type": "stream",
     "text": [
      "строка для записи 1\n",
      "строка для записи 2\n"
     ]
    }
   ],
   "source": [
    "!type write.txt"
   ]
  },
  {
   "cell_type": "markdown",
   "id": "56455484-1283-43cc-b620-68be7289c84e",
   "metadata": {},
   "source": [
    "**если мы сейчас откроем на запись этот же файл, то он перепишется поверх, для записи в конец файла нам потребуется использовать аргумент а**"
   ]
  },
  {
   "cell_type": "code",
   "execution_count": 164,
   "id": "a5aafcc1-55ca-4b51-b717-93d06eb3d787",
   "metadata": {},
   "outputs": [],
   "source": [
    "data_write = open('write.txt', 'a')\n",
    "string3 = 'запишем еще одну строку в конец файла\\n'"
   ]
  },
  {
   "cell_type": "code",
   "execution_count": 165,
   "id": "494db85b-94c4-4792-bf24-6c155fa63818",
   "metadata": {},
   "outputs": [
    {
     "data": {
      "text/plain": [
       "38"
      ]
     },
     "execution_count": 165,
     "metadata": {},
     "output_type": "execute_result"
    }
   ],
   "source": [
    "data_write.write(string3)"
   ]
  },
  {
   "cell_type": "code",
   "execution_count": 166,
   "id": "801d17ad-16ea-48b2-8ace-a35a594dc069",
   "metadata": {},
   "outputs": [],
   "source": [
    "data_write.close()"
   ]
  },
  {
   "cell_type": "code",
   "execution_count": 167,
   "id": "0bfe252a-df01-4b10-8c46-10e35552b482",
   "metadata": {},
   "outputs": [
    {
     "name": "stdout",
     "output_type": "stream",
     "text": [
      "строка для записи 1\n",
      "строка для записи 2\n",
      "строка для записи 2запишем еще одну строку в конец файла\n"
     ]
    }
   ],
   "source": [
    "!type write.txt"
   ]
  },
  {
   "cell_type": "code",
   "execution_count": 171,
   "id": "5a3bc03f-e45d-447f-b0b0-0a6f25332a62",
   "metadata": {},
   "outputs": [],
   "source": [
    "digits = range(1, 11)"
   ]
  },
  {
   "cell_type": "code",
   "execution_count": 176,
   "id": "ee6fed87-6dab-452d-aa8d-9e19c68547a1",
   "metadata": {},
   "outputs": [],
   "source": [
    "digits2 = list(digits)"
   ]
  },
  {
   "cell_type": "code",
   "execution_count": 185,
   "id": "766673a8-f217-4428-8ca6-962e4bd5147a",
   "metadata": {},
   "outputs": [],
   "source": [
    "# такая структура позволяет не заморачиваться по поводу закрытия файла, после выхода их блока файл будет закрыт\n",
    "with open('second_file_to_write.txt', 'w') as data_file:\n",
    "    # к какждой строке мы прибавляем знак переноса строки или пробел, не важно\n",
    "    data_file.writelines(digits2+' ' for digits2 in map(str, digits)) # функция записи строк в файл"
   ]
  },
  {
   "cell_type": "code",
   "execution_count": 186,
   "id": "2dab7e3c-c54c-4d7a-96ff-1554d5c2f055",
   "metadata": {},
   "outputs": [
    {
     "name": "stdout",
     "output_type": "stream",
     "text": [
      "1 2 3 4 5 6 7 8 9 10 \n"
     ]
    }
   ],
   "source": [
    "!type second_file_to_write.txt"
   ]
  },
  {
   "cell_type": "markdown",
   "id": "f4e0eaa4-e790-447c-8553-689cc073d423",
   "metadata": {},
   "source": [
    "**небольшое отсутпление по поводу использования map**"
   ]
  },
  {
   "cell_type": "code",
   "execution_count": 198,
   "id": "8999af8c-55d7-4112-a8e9-3e952acfe846",
   "metadata": {},
   "outputs": [
    {
     "name": "stdout",
     "output_type": "stream",
     "text": [
      "[1, 3, 5, 7, 9]\n",
      "<class 'range'>\n"
     ]
    }
   ],
   "source": [
    "numbers_list = range(1,10,2)\n",
    "print(list(numbers_list))\n",
    "print(type(numbers_list))"
   ]
  },
  {
   "cell_type": "code",
   "execution_count": 201,
   "id": "d19883fb-cb9e-4e57-8939-d8e6d197ec89",
   "metadata": {},
   "outputs": [],
   "source": [
    "numbers_true_list = map(lambda x: x+1, numbers_list)"
   ]
  },
  {
   "cell_type": "code",
   "execution_count": 202,
   "id": "83b8d589-4cf4-4d1f-90ad-f36f35398e7a",
   "metadata": {},
   "outputs": [
    {
     "data": {
      "text/plain": [
       "map"
      ]
     },
     "execution_count": 202,
     "metadata": {},
     "output_type": "execute_result"
    }
   ],
   "source": [
    "type(numbers_true_list)"
   ]
  },
  {
   "cell_type": "code",
   "execution_count": 203,
   "id": "c307843b-abd4-4fee-bde6-b6ce7c0ffbc5",
   "metadata": {},
   "outputs": [
    {
     "data": {
      "text/plain": [
       "[2, 4, 6, 8, 10]"
      ]
     },
     "execution_count": 203,
     "metadata": {},
     "output_type": "execute_result"
    }
   ],
   "source": [
    "list(numbers_true_list)"
   ]
  },
  {
   "cell_type": "code",
   "execution_count": 222,
   "id": "52a7a57d-2942-4483-ab6c-dd272702172a",
   "metadata": {},
   "outputs": [],
   "source": [
    "with open('lambda_test_write_file.txt', 'w') as file_lambda:\n",
    "    test_string = range(1,10)\n",
    "    file_lambda.writelines(test_string+' 'for test_string in map(str,test_string))"
   ]
  },
  {
   "cell_type": "code",
   "execution_count": 223,
   "id": "42620ebf-4d72-4032-93df-9bec52724cae",
   "metadata": {},
   "outputs": [
    {
     "name": "stdout",
     "output_type": "stream",
     "text": [
      "1 2 3 4 5 6 7 8 9 \n"
     ]
    }
   ],
   "source": [
    "!type lambda_test_write_file.txt\n"
   ]
  },
  {
   "cell_type": "code",
   "execution_count": 233,
   "id": "0edc83bc-cf76-4158-88e4-ecef6591d6cd",
   "metadata": {},
   "outputs": [],
   "source": [
    "kek = ['   ', 'kok', 'kek', 1]"
   ]
  },
  {
   "cell_type": "code",
   "execution_count": 234,
   "id": "6ad61c8b-3d26-47da-a28f-9d10237bd937",
   "metadata": {},
   "outputs": [
    {
     "data": {
      "text/plain": [
       "list"
      ]
     },
     "execution_count": 234,
     "metadata": {},
     "output_type": "execute_result"
    }
   ],
   "source": [
    "type(kek)"
   ]
  },
  {
   "cell_type": "code",
   "execution_count": 235,
   "id": "0ee6f0c9-789e-4c65-b749-05e5946703f3",
   "metadata": {},
   "outputs": [],
   "source": [
    "kek.append('kekek')"
   ]
  },
  {
   "cell_type": "code",
   "execution_count": 236,
   "id": "c9a61b22-f2d9-49a7-92d8-e99bd9267022",
   "metadata": {},
   "outputs": [
    {
     "name": "stdout",
     "output_type": "stream",
     "text": [
      "['   ', 'kok', 'kek', 1, 'kekek']\n"
     ]
    }
   ],
   "source": [
    "print(kek)"
   ]
  },
  {
   "cell_type": "code",
   "execution_count": 237,
   "id": "4dbde949-d725-4e8d-b9a0-55d39a4ff20d",
   "metadata": {},
   "outputs": [],
   "source": [
    "function = lambda x, y: x**2"
   ]
  },
  {
   "cell_type": "code",
   "execution_count": 240,
   "id": "827456c3-30bf-40b0-8808-523d46b9fcb7",
   "metadata": {},
   "outputs": [
    {
     "data": {
      "text/plain": [
       "16"
      ]
     },
     "execution_count": 240,
     "metadata": {},
     "output_type": "execute_result"
    }
   ],
   "source": [
    "function(4,4)"
   ]
  },
  {
   "cell_type": "code",
   "execution_count": 242,
   "id": "98040a16-d3e4-4782-a4af-a6bf4b092da7",
   "metadata": {},
   "outputs": [
    {
     "data": {
      "text/plain": [
       "1"
      ]
     },
     "execution_count": 242,
     "metadata": {},
     "output_type": "execute_result"
    }
   ],
   "source": [
    "1%2"
   ]
  },
  {
   "cell_type": "code",
   "execution_count": 248,
   "id": "2cbee628-795d-4984-a5cf-a38ff7dae04d",
   "metadata": {},
   "outputs": [
    {
     "data": {
      "text/plain": [
       "set"
      ]
     },
     "execution_count": 248,
     "metadata": {},
     "output_type": "execute_result"
    }
   ],
   "source": [
    "a = {1,2,' '}\n",
    "type(a)"
   ]
  },
  {
   "cell_type": "markdown",
   "id": "9cbb6430-5de3-4471-b16f-8fe82cc058ad",
   "metadata": {},
   "source": [
    "### некоторые моменты по типам данных"
   ]
  },
  {
   "cell_type": "markdown",
   "id": "d70cd78e-f98f-4c6d-8679-0d9e91ba9c72",
   "metadata": {},
   "source": [
    "в словарях ключами могут быть неизменяемые объекты - строки, числовые значения, либо кортежи, списки использовать невозможно, так как они являются зименяемыми объектами"
   ]
  },
  {
   "cell_type": "code",
   "execution_count": null,
   "id": "320b0ece-7d67-49f8-b210-4d60d789439a",
   "metadata": {},
   "outputs": [],
   "source": []
  }
 ],
 "metadata": {
  "kernelspec": {
   "display_name": "Python 3",
   "language": "python",
   "name": "python3"
  },
  "language_info": {
   "codemirror_mode": {
    "name": "ipython",
    "version": 3
   },
   "file_extension": ".py",
   "mimetype": "text/x-python",
   "name": "python",
   "nbconvert_exporter": "python",
   "pygments_lexer": "ipython3",
   "version": "3.8.8"
  }
 },
 "nbformat": 4,
 "nbformat_minor": 5
}
