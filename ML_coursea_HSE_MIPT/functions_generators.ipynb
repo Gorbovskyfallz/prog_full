{
 "cells": [
  {
   "cell_type": "markdown",
   "id": "149feb4b-1aa8-410b-b98a-cf53226ca8ac",
   "metadata": {},
   "source": [
    "**условные операторы:**"
   ]
  },
  {
   "cell_type": "code",
   "execution_count": null,
   "id": "4496649c-5cf5-4bc3-bdee-10af71e50190",
   "metadata": {},
   "outputs": [],
   "source": [
    "x = True\n",
    "if x:\n",
    "    print('ok')\n",
    "else:\n",
    "    print('not ok')\n",
    "        "
   ]
  },
  {
   "cell_type": "markdown",
   "id": "a2d02d3e-0f44-4d6d-9053-78e65d15ba61",
   "metadata": {},
   "source": [
    "**циклы :**"
   ]
  },
  {
   "cell_type": "code",
   "execution_count": null,
   "id": "5aeaf9b0-c752-43a2-aee3-9bfde5b82c84",
   "metadata": {},
   "outputs": [],
   "source": [
    "for i in range(10):\n",
    "    print(i, end = \" \") # вторая часть оператора существует тут для того, чтобы вывод всех чисел был на одной строке"
   ]
  },
  {
   "cell_type": "code",
   "execution_count": null,
   "id": "631d8b0d-06d6-4c5f-b611-e3dd3cb24f42",
   "metadata": {},
   "outputs": [],
   "source": [
    "for i in range(2,10):\n",
    "    print(i, end = \" \") # вывод начинается с двойки"
   ]
  },
  {
   "cell_type": "code",
   "execution_count": null,
   "id": "478b0dfa-739b-49a5-bbe2-83b241714f35",
   "metadata": {},
   "outputs": [],
   "source": [
    "for i in range(1, 20, 2):\n",
    "    print(i, end = \" \") # вывод с интервалом 2"
   ]
  },
  {
   "cell_type": "code",
   "execution_count": null,
   "id": "8d2c7a1e-9e9f-4a33-8955-0838ed2ae17b",
   "metadata": {},
   "outputs": [],
   "source": [
    "range(2,10)"
   ]
  },
  {
   "cell_type": "code",
   "execution_count": null,
   "id": "e81cf5e9-c06e-450c-91c4-93a9fda60713",
   "metadata": {},
   "outputs": [],
   "source": [
    "type(range(2,10))"
   ]
  },
  {
   "cell_type": "code",
   "execution_count": null,
   "id": "8a10555a-1fb0-4497-9437-e96296e2832b",
   "metadata": {},
   "outputs": [],
   "source": [
    "range(2,10, 1)"
   ]
  },
  {
   "cell_type": "code",
   "execution_count": null,
   "id": "8fd132c8-a73b-4869-bdd8-1953af988863",
   "metadata": {},
   "outputs": [],
   "source": [
    "xrange(2,10)"
   ]
  },
  {
   "cell_type": "markdown",
   "id": "6de96d73-9f9b-4973-82d6-a6292e04e2c5",
   "metadata": {},
   "source": [
    "**list comprehension - составление списков**"
   ]
  },
  {
   "cell_type": "code",
   "execution_count": null,
   "id": "f067ace5-50f3-4024-891a-817446b9cddc",
   "metadata": {},
   "outputs": [],
   "source": [
    "x =([x**2 for x in range(1,11) if x%2 == 0]) #выводим сразу списком числа, нагереренные range и так же отсекаем нечетные числа"
   ]
  },
  {
   "cell_type": "code",
   "execution_count": null,
   "id": "358fcfcd-eb8f-4a77-b61d-f95433dfccbc",
   "metadata": {},
   "outputs": [],
   "source": [
    "type(x) # все нагеренные числа в этом случае генерируются всегда заново"
   ]
  },
  {
   "cell_type": "code",
   "execution_count": null,
   "id": "241f619b-89ef-4b4c-b2cf-ba967b4ced1f",
   "metadata": {},
   "outputs": [],
   "source": [
    "x =(x**2 for x in range(1,11) if x%2 == 0) #выводим сразу списком числа, нагереренные range и так же отсекаем нечетные числа"
   ]
  },
  {
   "cell_type": "code",
   "execution_count": null,
   "id": "8bc50dd5-ed68-464b-b661-ad19a207aea8",
   "metadata": {},
   "outputs": [],
   "source": [
    "type(x) # если мы заменим квадратные скобки на круглые, то мы получим тип генератор"
   ]
  },
  {
   "cell_type": "markdown",
   "id": "c240270f-a8c6-4387-9212-0db6e594c625",
   "metadata": {},
   "source": [
    "**цикл while**"
   ]
  },
  {
   "cell_type": "code",
   "execution_count": null,
   "id": "adf29cc3-9859-4e36-b665-28cd0e8615d4",
   "metadata": {},
   "outputs": [],
   "source": [
    "x = True\n",
    "s = 0\n",
    "while x:\n",
    "    s +=1\n",
    "    print(s)\n",
    "    if s < 10:\n",
    "        continue # продолжаем цикл, какие-то промежуточные проверочные условия\n",
    "    else:\n",
    "        break # прерывание и выход из цикла"
   ]
  },
  {
   "cell_type": "markdown",
   "id": "61bb7998-3c29-4b72-8fd0-f793f88fd39f",
   "metadata": {},
   "source": [
    "**функции в питоне**"
   ]
  },
  {
   "cell_type": "code",
   "execution_count": null,
   "id": "b530454d-d7d4-46a9-8557-42abbf0c8793",
   "metadata": {},
   "outputs": [],
   "source": [
    "def my_range(a,b):\n",
    "    res = []\n",
    "    s = a\n",
    "    while s !=b:\n",
    "        res.append(s)\n",
    "        s+=1\n",
    "    return res"
   ]
  },
  {
   "cell_type": "code",
   "execution_count": null,
   "id": "c8a55204-bee8-4026-8ff5-821e13429d23",
   "metadata": {},
   "outputs": [],
   "source": [
    "my_range(2,7)"
   ]
  },
  {
   "cell_type": "code",
   "execution_count": 1,
   "id": "5e9d1255-bfaf-4434-9f8f-7703d828f89d",
   "metadata": {},
   "outputs": [],
   "source": [
    "def sqr(a):  # функция возведения в квадрат\n",
    "    a = a**2\n",
    "    return(a)\n",
    "\n"
   ]
  },
  {
   "cell_type": "code",
   "execution_count": 2,
   "id": "097893b4-43d6-4478-9088-607dc5d4f7da",
   "metadata": {},
   "outputs": [],
   "source": [
    "total = list(map(sqr, range(1,10))) # пример использования фунции map для применения другой функции к некоторому количеству значений"
   ]
  },
  {
   "cell_type": "code",
   "execution_count": 3,
   "id": "e7734432-3ee2-4a3d-bf67-c917b6a9eb30",
   "metadata": {},
   "outputs": [
    {
     "data": {
      "text/plain": [
       "[1, 4, 9, 16, 25, 36, 49, 64, 81]"
      ]
     },
     "execution_count": 3,
     "metadata": {},
     "output_type": "execute_result"
    }
   ],
   "source": [
    "total"
   ]
  },
  {
   "cell_type": "markdown",
   "id": "30cb1ade-880a-4d03-82c6-d65d583019a6",
   "metadata": {},
   "source": [
    "_ни при каких обстоятельствах не стоит называть переменные именами функций, иначе будет очень плохо в конце_"
   ]
  },
  {
   "cell_type": "code",
   "execution_count": 10,
   "id": "d2892b96-9baa-47f7-8a2b-880140a808fa",
   "metadata": {},
   "outputs": [],
   "source": [
    "lambda_total = list(map(lambda x: x ** 2, range(10,15))) # c помощью лямбда функции мы можешь прописать требуемую функцию, которая будет применениа к диапазону значений сразу же"
   ]
  },
  {
   "cell_type": "code",
   "execution_count": 27,
   "id": "98e0d123-b3b1-4283-bff1-1a110ef4f51c",
   "metadata": {},
   "outputs": [
    {
     "data": {
      "text/plain": [
       "[100, 121, 144, 169, 196]"
      ]
     },
     "execution_count": 27,
     "metadata": {},
     "output_type": "execute_result"
    }
   ],
   "source": [
    "lambda_total"
   ]
  },
  {
   "cell_type": "code",
   "execution_count": 30,
   "id": "aa4b94b7-a519-44d6-a169-4f69b6ac81ac",
   "metadata": {},
   "outputs": [],
   "source": [
    "test = lambda x, y: x *y "
   ]
  },
  {
   "cell_type": "code",
   "execution_count": 32,
   "id": "af976f3e-c5c8-4aff-a919-c7fa20d6f7b1",
   "metadata": {},
   "outputs": [
    {
     "data": {
      "text/plain": [
       "10"
      ]
     },
     "execution_count": 32,
     "metadata": {},
     "output_type": "execute_result"
    }
   ],
   "source": [
    "test(10, 1)"
   ]
  },
  {
   "cell_type": "code",
   "execution_count": null,
   "id": "cbff91ce-8e39-4581-8fc4-4a4d48735ca5",
   "metadata": {},
   "outputs": [],
   "source": []
  }
 ],
 "metadata": {
  "kernelspec": {
   "display_name": "Python 3",
   "language": "python",
   "name": "python3"
  },
  "language_info": {
   "codemirror_mode": {
    "name": "ipython",
    "version": 3
   },
   "file_extension": ".py",
   "mimetype": "text/x-python",
   "name": "python",
   "nbconvert_exporter": "python",
   "pygments_lexer": "ipython3",
   "version": "3.8.8"
  }
 },
 "nbformat": 4,
 "nbformat_minor": 5
}
