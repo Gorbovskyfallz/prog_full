{
 "cells": [
  {
   "cell_type": "code",
   "execution_count": 2,
   "id": "52a3f557-6fc5-4b64-87b2-9c77c3dc1be8",
   "metadata": {},
   "outputs": [],
   "source": [
    "import numpy as np\n",
    "import scipy \n",
    "import pandas\n",
    "import matplotlib"
   ]
  },
  {
   "cell_type": "code",
   "execution_count": 3,
   "id": "9f9fd713-ca0c-4473-a49f-8146e4a80d4e",
   "metadata": {},
   "outputs": [
    {
     "data": {
      "text/plain": [
       "'1.20.1'"
      ]
     },
     "execution_count": 3,
     "metadata": {},
     "output_type": "execute_result"
    }
   ],
   "source": [
    "np.__version__"
   ]
  },
  {
   "cell_type": "code",
   "execution_count": 4,
   "id": "4c485a39-567d-47af-afad-f1dd280e3723",
   "metadata": {},
   "outputs": [
    {
     "data": {
      "text/plain": [
       "'1.6.2'"
      ]
     },
     "execution_count": 4,
     "metadata": {},
     "output_type": "execute_result"
    }
   ],
   "source": [
    "scipy.__version__"
   ]
  },
  {
   "cell_type": "code",
   "execution_count": 5,
   "id": "af3f78d5-0020-4082-a06e-20f819254aea",
   "metadata": {},
   "outputs": [
    {
     "data": {
      "text/plain": [
       "'1.2.4'"
      ]
     },
     "execution_count": 5,
     "metadata": {},
     "output_type": "execute_result"
    }
   ],
   "source": [
    "pandas.__version__"
   ]
  },
  {
   "cell_type": "code",
   "execution_count": 6,
   "id": "ee5ef807-7b95-422b-9a51-248960188cbe",
   "metadata": {},
   "outputs": [
    {
     "data": {
      "text/plain": [
       "'3.3.4'"
      ]
     },
     "execution_count": 6,
     "metadata": {},
     "output_type": "execute_result"
    }
   ],
   "source": [
    "matplotlib.__version__"
   ]
  },
  {
   "cell_type": "markdown",
   "id": "63c9a2c2-a4ff-42f6-900a-89f6e0e29898",
   "metadata": {
    "tags": []
   },
   "source": [
    "# машинное обучение и анализ данных\n",
    "## математика и python\n",
    "Задание 1"
   ]
  },
  {
   "cell_type": "markdown",
   "id": "13327373-670c-40d3-9462-43af69a65f0c",
   "metadata": {},
   "source": [
    "# =========================== типы данных ============================"
   ]
  },
  {
   "cell_type": "markdown",
   "id": "33baa117-446c-4158-a29f-c78ae4df51b1",
   "metadata": {
    "tags": []
   },
   "source": [
    "## 1. числовые типы данных в питоне"
   ]
  },
  {
   "cell_type": "markdown",
   "id": "b30517b2-a016-452e-a44c-09ea1dd48b4d",
   "metadata": {},
   "source": [
    "**int**"
   ]
  },
  {
   "cell_type": "code",
   "execution_count": 7,
   "id": "e89dcb75-d766-4e26-ac0c-024de0083fcf",
   "metadata": {},
   "outputs": [],
   "source": [
    "x = 5"
   ]
  },
  {
   "cell_type": "code",
   "execution_count": 9,
   "id": "9b430b63-a38d-4b87-ae32-5684e03dd508",
   "metadata": {},
   "outputs": [
    {
     "name": "stdout",
     "output_type": "stream",
     "text": [
      "5\n"
     ]
    }
   ],
   "source": [
    "print(x)"
   ]
  },
  {
   "cell_type": "code",
   "execution_count": 12,
   "id": "2454d218-2627-42f3-b116-9bda4cda4d69",
   "metadata": {},
   "outputs": [
    {
     "data": {
      "text/plain": [
       "int"
      ]
     },
     "execution_count": 12,
     "metadata": {},
     "output_type": "execute_result"
    }
   ],
   "source": [
    "type(x) # узнать тип переменной, в отличие от питона второй версии, в третьей нам не нужно  функции print"
   ]
  },
  {
   "cell_type": "markdown",
   "id": "c3263ff4-eba8-403a-9362-6f6f401bbcf4",
   "metadata": {},
   "source": [
    " - в случае, если мы производим операции деления между двумя целочисленными переменными, то третий питон будет сразу выдавать число с плавающей точкой:"
   ]
  },
  {
   "cell_type": "code",
   "execution_count": 13,
   "id": "f94122da-81bb-4c91-8706-e975dcffa2c5",
   "metadata": {},
   "outputs": [],
   "source": [
    "x = 5/4"
   ]
  },
  {
   "cell_type": "code",
   "execution_count": 14,
   "id": "026c8f55-aa6f-4ecb-857d-28e59deeb000",
   "metadata": {},
   "outputs": [
    {
     "data": {
      "text/plain": [
       "1.25"
      ]
     },
     "execution_count": 14,
     "metadata": {},
     "output_type": "execute_result"
    }
   ],
   "source": [
    "x"
   ]
  },
  {
   "cell_type": "code",
   "execution_count": 15,
   "id": "cefb3549-6449-4c10-93a2-4cc2b656cf04",
   "metadata": {},
   "outputs": [
    {
     "data": {
      "text/plain": [
       "float"
      ]
     },
     "execution_count": 15,
     "metadata": {},
     "output_type": "execute_result"
    }
   ],
   "source": [
    "type(x)"
   ]
  },
  {
   "cell_type": "markdown",
   "id": "d9589ab1-0316-4e21-a6f3-07cda6a6002a",
   "metadata": {},
   "source": [
    "**long** - следует понимать, что питон имеет динамическую типизацию переменных, поэтому, он сам меняет ту или иную переменную в том случае, если она не удовлетвояет предидущему условию:"
   ]
  },
  {
   "cell_type": "code",
   "execution_count": 48,
   "id": "04842c22-4c01-42b6-bbcb-94f8ba0c7d3f",
   "metadata": {},
   "outputs": [],
   "source": [
    "z = 5 * 1000000 * 1000000 * 1000000 * 1000000 * 1000000 * 10000000 +1"
   ]
  },
  {
   "cell_type": "code",
   "execution_count": 49,
   "id": "2865bcd8-819b-40d1-9bc1-d05515c7398f",
   "metadata": {},
   "outputs": [
    {
     "name": "stdout",
     "output_type": "stream",
     "text": [
      "50000000000000000000000000000000000001\n"
     ]
    },
    {
     "data": {
      "text/plain": [
       "int"
      ]
     },
     "execution_count": 49,
     "metadata": {},
     "output_type": "execute_result"
    }
   ],
   "source": [
    "print(z)\n",
    "type(z)"
   ]
  },
  {
   "cell_type": "code",
   "execution_count": 50,
   "id": "71fd7c79-531d-4796-bfe0-1721565bec14",
   "metadata": {},
   "outputs": [
    {
     "data": {
      "text/plain": [
       "int"
      ]
     },
     "execution_count": 50,
     "metadata": {},
     "output_type": "execute_result"
    }
   ],
   "source": [
    "type(65536*65536)"
   ]
  },
  {
   "cell_type": "markdown",
   "id": "3105b971-1d57-426f-80c5-8b9c7ff1ed66",
   "metadata": {},
   "source": [
    "как мы видим, в третьем питоне исключен тип лонг и теперь тут везде инт"
   ]
  },
  {
   "cell_type": "markdown",
   "id": "c377920c-df49-4eb6-bca2-451f521699a2",
   "metadata": {},
   "source": [
    "**float** - числа с плавающейй точкой  \n",
    "**bool** - бинарные числа, где Ъ+Ъ равно двум  \n",
    "**None** -спец тип, означающий отсутствие значения"
   ]
  },
  {
   "cell_type": "markdown",
   "id": "0432b291-9008-417d-8e7b-8f1a2f2042a6",
   "metadata": {},
   "source": [
    "**String** - строки, строки можно складывать:"
   ]
  },
  {
   "cell_type": "code",
   "execution_count": 85,
   "id": "c06be1c1-8ea3-4826-96a8-453ea4875bce",
   "metadata": {},
   "outputs": [],
   "source": [
    "a = 'kek'\n",
    "b = 'kek'\n",
    "c = a + \" \" + b"
   ]
  },
  {
   "cell_type": "code",
   "execution_count": 86,
   "id": "bb4cefd5-4b34-4fff-ba78-762bd9be99ab",
   "metadata": {},
   "outputs": [
    {
     "data": {
      "text/plain": [
       "'kek kek'"
      ]
     },
     "execution_count": 86,
     "metadata": {},
     "output_type": "execute_result"
    }
   ],
   "source": [
    "c"
   ]
  },
  {
   "cell_type": "markdown",
   "id": "6b6a8290-1699-4b68-ae2c-dabb201e986e",
   "metadata": {},
   "source": [
    "у строк можно менять регистр сразу:"
   ]
  },
  {
   "cell_type": "code",
   "execution_count": 87,
   "id": "f33cbc22-6c03-4149-965e-8b5e0c6b6e9e",
   "metadata": {},
   "outputs": [
    {
     "data": {
      "text/plain": [
       "'kek kek'"
      ]
     },
     "execution_count": 87,
     "metadata": {},
     "output_type": "execute_result"
    }
   ],
   "source": [
    "c.upper()\n",
    "c.lower()"
   ]
  },
  {
   "cell_type": "markdown",
   "id": "88bdc95c-97bf-4f9b-8c82-011cd3476902",
   "metadata": {},
   "source": [
    "можно узнать длину строки:"
   ]
  },
  {
   "cell_type": "code",
   "execution_count": 88,
   "id": "9cb88390-c5db-4ff3-9ecf-83575f0c7d93",
   "metadata": {},
   "outputs": [
    {
     "data": {
      "text/plain": [
       "7"
      ]
     },
     "execution_count": 88,
     "metadata": {},
     "output_type": "execute_result"
    }
   ],
   "source": [
    "len(c)"
   ]
  },
  {
   "cell_type": "markdown",
   "id": "ef6d56c8-f347-462a-892f-90d189dd5b2d",
   "metadata": {},
   "source": [
    "**получение некоторых элементов строки:**"
   ]
  },
  {
   "cell_type": "code",
   "execution_count": 93,
   "id": "74cdfcb2-0999-4ea1-ad59-59ef4ada03fa",
   "metadata": {},
   "outputs": [
    {
     "data": {
      "text/plain": [
       "'kek perekek'"
      ]
     },
     "execution_count": 93,
     "metadata": {},
     "output_type": "execute_result"
    }
   ],
   "source": [
    "c = 'kek perekek'\n",
    "c"
   ]
  },
  {
   "cell_type": "code",
   "execution_count": 94,
   "id": "6b7c5080-d8de-4882-a5c2-88aa6022ee49",
   "metadata": {},
   "outputs": [
    {
     "data": {
      "text/plain": [
       "'kek'"
      ]
     },
     "execution_count": 94,
     "metadata": {},
     "output_type": "execute_result"
    }
   ],
   "source": [
    "c[0:3]"
   ]
  },
  {
   "cell_type": "markdown",
   "id": "02f8c362-d854-4882-a995-2f6da37ecffb",
   "metadata": {},
   "source": [
    "**работа с кодировками** -- мало ли - пригодится"
   ]
  },
  {
   "cell_type": "code",
   "execution_count": 95,
   "id": "314fc95e-ebad-4607-931e-fd5aa9a7ce7e",
   "metadata": {},
   "outputs": [],
   "source": [
    "x = u'Элеонора Михайловна'"
   ]
  },
  {
   "cell_type": "code",
   "execution_count": 98,
   "id": "cec4db0b-5039-407d-9dc1-63f4bdd01d37",
   "metadata": {},
   "outputs": [
    {
     "data": {
      "text/plain": [
       "str"
      ]
     },
     "execution_count": 98,
     "metadata": {},
     "output_type": "execute_result"
    }
   ],
   "source": [
    "type(x)"
   ]
  },
  {
   "cell_type": "code",
   "execution_count": 117,
   "id": "2e2e0b4d-ce70-49cb-a357-aef06fa12e25",
   "metadata": {},
   "outputs": [
    {
     "data": {
      "text/plain": [
       "b'\\xd0\\xad\\xd0\\xbb\\xd0\\xb5\\xd0\\xbe\\xd0\\xbd\\xd0\\xbe\\xd1\\x80\\xd0\\xb0 \\xd0\\x9c\\xd0\\xb8\\xd1\\x85\\xd0\\xb0\\xd0\\xb9\\xd0\\xbb\\xd0\\xbe\\xd0\\xb2\\xd0\\xbd\\xd0\\xb0'"
      ]
     },
     "execution_count": 117,
     "metadata": {},
     "output_type": "execute_result"
    }
   ],
   "source": [
    "y = x.encode('utf-8')\n",
    "y"
   ]
  },
  {
   "cell_type": "markdown",
   "id": "2db03ff2-05d1-4ed5-8108-875d42b17071",
   "metadata": {},
   "source": [
    "**смотрим, как перекидывать кодировки из одной в другую**"
   ]
  },
  {
   "cell_type": "code",
   "execution_count": 116,
   "id": "a59ff003-7e0e-49a0-bbda-02c8d09910df",
   "metadata": {},
   "outputs": [
    {
     "name": "stdout",
     "output_type": "stream",
     "text": [
      "b'\\xd0\\xad\\xd0\\xbb\\xd0\\xb5\\xd0\\xbe\\xd0\\xbd\\xd0\\xbe\\xd1\\x80\\xd0\\xb0 \\xd0\\x9c\\xd0\\xb8\\xd1\\x85\\xd0\\xb0\\xd0\\xb9\\xd0\\xbb\\xd0\\xbe\\xd0\\xb2\\xd0\\xbd\\xd0\\xb0'\n",
      "<class 'bytes'>\n",
      "Элеонора Михайловна\n",
      "<class 'str'>\n"
     ]
    }
   ],
   "source": [
    "z = x.encode('utf-8')\n",
    "print(z)\n",
    "print(type(z))\n",
    "q = z.decode('utf-8')\n",
    "print(q)\n",
    "print(type(q))"
   ]
  },
  {
   "cell_type": "markdown",
   "id": "c637f719-aa8a-4cb5-9ca7-7d09f0000168",
   "metadata": {},
   "source": [
    "при разделении строчек с помощью сплита по какому-то признаку мы получает из стринга формат листа - массива"
   ]
  },
  {
   "cell_type": "code",
   "execution_count": 122,
   "id": "9679fecb-9d06-4672-9c68-44acbceea530",
   "metadata": {},
   "outputs": [
    {
     "name": "stdout",
     "output_type": "stream",
     "text": [
      "<class 'list'>\n",
      "варвара ивановна\n",
      "['варвара', 'ивановна']\n"
     ]
    }
   ],
   "source": [
    "string = 'варвара ивановна'\n",
    "string2 = string.split(\" \")\n",
    "print(type(string2))\n",
    "print(string)\n",
    "print(string2)"
   ]
  },
  {
   "cell_type": "markdown",
   "id": "1c507a23-b616-4e7a-b7bc-0b742e72f88f",
   "metadata": {},
   "source": [
    "**массивы**  \n",
    "list"
   ]
  },
  {
   "cell_type": "code",
   "execution_count": 123,
   "id": "f5ddc86b-900d-4de0-9e77-b262ed9d8001",
   "metadata": {},
   "outputs": [
    {
     "name": "stdout",
     "output_type": "stream",
     "text": [
      "[100, 200, 300]\n",
      "['аносов', 'фигусов', 'хренусов']\n"
     ]
    }
   ],
   "source": [
    "money = [100, 200, 300]\n",
    "names = ['аносов','фигусов','хренусов']\n",
    "print(money)\n",
    "print(names)"
   ]
  },
  {
   "cell_type": "code",
   "execution_count": 124,
   "id": "a8be3e84-ce20-4eb1-a53a-c9146abfcc28",
   "metadata": {},
   "outputs": [
    {
     "name": "stdout",
     "output_type": "stream",
     "text": [
      "[100, 200, 300, 'аносов', 'фигусов', 'хренусов']\n"
     ]
    }
   ],
   "source": [
    "all = money + names\n",
    "print (all)"
   ]
  },
  {
   "cell_type": "markdown",
   "id": "8530871f-9b43-48d0-ae35-50ec93ab98e5",
   "metadata": {},
   "source": [
    "можем немножко дорабатывать уже имеющиеся переменные:"
   ]
  },
  {
   "cell_type": "code",
   "execution_count": 129,
   "id": "0443cf6d-ef50-427c-945c-295439bf2322",
   "metadata": {},
   "outputs": [
    {
     "data": {
      "text/plain": [
       "'аносов...фигусов...хренусов'"
      ]
     },
     "execution_count": 129,
     "metadata": {},
     "output_type": "execute_result"
    }
   ],
   "source": [
    "\"...\".join(names) "
   ]
  },
  {
   "cell_type": "code",
   "execution_count": 131,
   "id": "9127a079-5895-4b92-a083-075ed6301193",
   "metadata": {},
   "outputs": [],
   "source": [
    "features = ['петя', 'петечка', 'петюня', 500, 12]"
   ]
  },
  {
   "cell_type": "code",
   "execution_count": 132,
   "id": "5931f37f-fad1-4da8-b95a-a68072a5df18",
   "metadata": {},
   "outputs": [
    {
     "name": "stdout",
     "output_type": "stream",
     "text": [
      "['петя', 'петечка', 'петюня', 500, 12]\n"
     ]
    }
   ],
   "source": [
    "print(features)"
   ]
  },
  {
   "cell_type": "code",
   "execution_count": 133,
   "id": "d965517c-32c0-4f0a-9533-3d369847998c",
   "metadata": {},
   "outputs": [
    {
     "name": "stdout",
     "output_type": "stream",
     "text": [
      "петюня\n"
     ]
    }
   ],
   "source": [
    "print(features[2])"
   ]
  },
  {
   "cell_type": "code",
   "execution_count": 135,
   "id": "d0d62a9c-4748-4e67-81e5-f4c6b68f0767",
   "metadata": {},
   "outputs": [
    {
     "name": "stdout",
     "output_type": "stream",
     "text": [
      "['петечка', 'петюня', 500, 12]\n"
     ]
    }
   ],
   "source": [
    "print(features[1:]) # начиная с первого элемента:"
   ]
  },
  {
   "cell_type": "code",
   "execution_count": 137,
   "id": "45d71a16-5abf-42e0-81a7-7e9b6e3af138",
   "metadata": {},
   "outputs": [
    {
     "name": "stdout",
     "output_type": "stream",
     "text": [
      "['петюня', 500]\n"
     ]
    }
   ],
   "source": [
    "print(features[2:4]) # со второго по четверый:"
   ]
  },
  {
   "cell_type": "code",
   "execution_count": 140,
   "id": "4558b13a-70b5-496f-b9f9-5833ff7d6384",
   "metadata": {},
   "outputs": [
    {
     "name": "stdout",
     "output_type": "stream",
     "text": [
      "['петя', 'петечка', 'петюня']\n"
     ]
    }
   ],
   "source": [
    "print(features[:-2]) # без последних двух:"
   ]
  },
  {
   "cell_type": "code",
   "execution_count": 143,
   "id": "2e46e083-2dbd-4e95-9e4a-c5dfdc3c40d1",
   "metadata": {},
   "outputs": [],
   "source": [
    "features.append('петрушечка') # добавить еще один элемент к массиву:"
   ]
  },
  {
   "cell_type": "code",
   "execution_count": 144,
   "id": "3c8bdc1b-f3f9-4151-b588-65a32ed81a98",
   "metadata": {},
   "outputs": [
    {
     "name": "stdout",
     "output_type": "stream",
     "text": [
      "['петя', 'петечка', 'петюня', 500, 12, 'петрушечка', 'петрушечка']\n"
     ]
    }
   ],
   "source": [
    "print(features)"
   ]
  },
  {
   "cell_type": "code",
   "execution_count": 151,
   "id": "71dc61cf-dea5-4cc8-b263-321109d77d98",
   "metadata": {},
   "outputs": [
    {
     "data": {
      "text/plain": [
       "['петрушечка']"
      ]
     },
     "execution_count": 151,
     "metadata": {},
     "output_type": "execute_result"
    }
   ],
   "source": [
    "del features[-2]\n",
    "features"
   ]
  },
  {
   "cell_type": "code",
   "execution_count": 146,
   "id": "a353da8b-3533-4ef0-994c-9e8403fe7d66",
   "metadata": {},
   "outputs": [
    {
     "data": {
      "text/plain": [
       "['петя', 'петечка', 'петюня', 500, 12, 'петрушечка']"
      ]
     },
     "execution_count": 146,
     "metadata": {},
     "output_type": "execute_result"
    }
   ],
   "source": []
  },
  {
   "cell_type": "markdown",
   "id": "1cc4b155-28d7-4977-803c-71f990b190fc",
   "metadata": {},
   "source": [
    "**МАССИВЫ - КОРТЕЖИ TURPLE - МЫ НЕ МОЖЕМ ДОБАВЛЯТЬ В ЭТОТ МАССИВ НОВЫЕ ЗНАЧЕНИЯ**"
   ]
  },
  {
   "cell_type": "markdown",
   "id": "f0dbed29-3428-4b1d-a95b-e38616ab2e47",
   "metadata": {},
   "source": [
    "**МНОЖЕСТВА И СЛОВАРИ**"
   ]
  },
  {
   "cell_type": "markdown",
   "id": "c7db0e2a-2a93-4a96-9746-bb91cb6f6b4b",
   "metadata": {},
   "source": [
    "SET ака множества"
   ]
  },
  {
   "cell_type": "code",
   "execution_count": 154,
   "id": "cf46311c-0c25-4263-8f3c-d9a945b28917",
   "metadata": {},
   "outputs": [
    {
     "name": "stdout",
     "output_type": "stream",
     "text": [
      "{'кекарь', 'кеково', 'кекует'}\n"
     ]
    }
   ],
   "source": [
    "names = {'кекарь','кекует','кеково'}\n",
    "print(names)"
   ]
  },
  {
   "cell_type": "code",
   "execution_count": 155,
   "id": "634e2e5b-4e7f-42e6-8ba6-fedfe82fa00c",
   "metadata": {},
   "outputs": [
    {
     "data": {
      "text/plain": [
       "set"
      ]
     },
     "execution_count": 155,
     "metadata": {},
     "output_type": "execute_result"
    }
   ],
   "source": [
    "type(names)"
   ]
  },
  {
   "cell_type": "code",
   "execution_count": 158,
   "id": "01f35287-47a9-4eb6-aca8-1cf7f15c73a4",
   "metadata": {},
   "outputs": [],
   "source": [
    "names.add('раскекало')"
   ]
  },
  {
   "cell_type": "code",
   "execution_count": 159,
   "id": "44f695f8-6839-4527-a0f3-7cf59027917b",
   "metadata": {},
   "outputs": [
    {
     "data": {
      "text/plain": [
       "{'кекарь', 'кеково', 'кекует', 'раскекало'}"
      ]
     },
     "execution_count": 159,
     "metadata": {},
     "output_type": "execute_result"
    }
   ],
   "source": [
    "names"
   ]
  },
  {
   "cell_type": "code",
   "execution_count": 160,
   "id": "c2b2a719-3b90-4c64-907e-a550e396886d",
   "metadata": {},
   "outputs": [],
   "source": [
    "names.remove('кеково')"
   ]
  },
  {
   "cell_type": "code",
   "execution_count": 161,
   "id": "62daf098-72c7-49b7-b9ce-f6101fe7e1b5",
   "metadata": {},
   "outputs": [
    {
     "data": {
      "text/plain": [
       "{'кекарь', 'кекует', 'раскекало'}"
      ]
     },
     "execution_count": 161,
     "metadata": {},
     "output_type": "execute_result"
    }
   ],
   "source": [
    "names"
   ]
  },
  {
   "cell_type": "code",
   "execution_count": 163,
   "id": "3ca789a6-0a96-4e00-8a26-74f7f781bbd9",
   "metadata": {},
   "outputs": [
    {
     "ename": "TypeError",
     "evalue": "unhashable type: 'list'",
     "output_type": "error",
     "traceback": [
      "\u001b[1;31m---------------------------------------------------------------------------\u001b[0m",
      "\u001b[1;31mTypeError\u001b[0m                                 Traceback (most recent call last)",
      "\u001b[1;32m<ipython-input-163-1942aeff9753>\u001b[0m in \u001b[0;36m<module>\u001b[1;34m\u001b[0m\n\u001b[1;32m----> 1\u001b[1;33m \u001b[0mnames\u001b[0m\u001b[1;33m.\u001b[0m\u001b[0madd\u001b[0m\u001b[1;33m(\u001b[0m\u001b[1;33m[\u001b[0m\u001b[1;34m'лол'\u001b[0m\u001b[1;33m,\u001b[0m\u001b[1;34m'лел'\u001b[0m\u001b[1;33m,\u001b[0m\u001b[1;34m'лул'\u001b[0m\u001b[1;33m]\u001b[0m\u001b[1;33m)\u001b[0m\u001b[1;33m\u001b[0m\u001b[1;33m\u001b[0m\u001b[0m\n\u001b[0m",
      "\u001b[1;31mTypeError\u001b[0m: unhashable type: 'list'"
     ]
    }
   ],
   "source": [
    "names.add(['лол','лел','лул'])"
   ]
  },
  {
   "cell_type": "markdown",
   "id": "3aebef4c-8272-4727-87a3-2e48e7c23417",
   "metadata": {},
   "source": [
    "множества работают медленнее:"
   ]
  },
  {
   "cell_type": "code",
   "execution_count": 181,
   "id": "ce574ed9-fe9f-485f-9ca6-922dd8b42aef",
   "metadata": {},
   "outputs": [],
   "source": [
    "a = range(10000)\n",
    "b = range(1000000)\n",
    "b = set(b) # перевели из листа во множество"
   ]
  },
  {
   "cell_type": "code",
   "execution_count": 182,
   "id": "642f0229-1642-4391-9a13-f8feeda09cf8",
   "metadata": {},
   "outputs": [
    {
     "name": "stdout",
     "output_type": "stream",
     "text": [
      "True\n",
      "Wall time: 0 ns\n"
     ]
    }
   ],
   "source": [
    "%%time\n",
    "print (9999 in a)"
   ]
  },
  {
   "cell_type": "code",
   "execution_count": 190,
   "id": "21e1318f-1bb0-4659-baa1-5cf829b168fc",
   "metadata": {},
   "outputs": [],
   "source": [
    "from math import factorial"
   ]
  },
  {
   "cell_type": "code",
   "execution_count": 199,
   "id": "4916324f-8502-4d99-ad1a-09a7baf685c9",
   "metadata": {},
   "outputs": [
    {
     "name": "stdout",
     "output_type": "stream",
     "text": [
      "Wall time: 0 ns\n"
     ]
    },
    {
     "data": {
      "text/plain": [
       "93326215443944152681699238856266700490715968264381621468592963895217599993229915608941463976156518286253697920827223758251185210916864000000000000000000000000"
      ]
     },
     "execution_count": 199,
     "metadata": {},
     "output_type": "execute_result"
    }
   ],
   "source": [
    "%%time\n",
    "factorial(100) "
   ]
  },
  {
   "cell_type": "markdown",
   "id": "059461c6-a2ed-4b54-872c-ce94c31cf8ce",
   "metadata": {},
   "source": [
    "в примере было вычисление скорости нахождения элемента в множестве сильно выше, так как множества используют хеш таблицы, по которым нахождение элемента происходит намного быстрее, нежели в листах"
   ]
  },
  {
   "cell_type": "code",
   "execution_count": null,
   "id": "f555b31e-fd5a-4b67-b058-21d30209d2bd",
   "metadata": {},
   "outputs": [],
   "source": []
  }
 ],
 "metadata": {
  "kernelspec": {
   "display_name": "Python 3",
   "language": "python",
   "name": "python3"
  },
  "language_info": {
   "codemirror_mode": {
    "name": "ipython",
    "version": 3
   },
   "file_extension": ".py",
   "mimetype": "text/x-python",
   "name": "python",
   "nbconvert_exporter": "python",
   "pygments_lexer": "ipython3",
   "version": "3.8.8"
  }
 },
 "nbformat": 4,
 "nbformat_minor": 5
}
