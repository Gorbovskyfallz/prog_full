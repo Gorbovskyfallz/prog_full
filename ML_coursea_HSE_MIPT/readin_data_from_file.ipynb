{
 "cells": [
  {
   "cell_type": "markdown",
   "id": "5a7152fe-58c1-4768-8957-a28cc2dcf4c1",
   "metadata": {},
   "source": [
    " # **чтение данных из файла, встроенная функция open**"
   ]
  },
  {
   "cell_type": "markdown",
   "id": "0a68fbeb-fe12-4ea3-966c-7edb83b4b8b4",
   "metadata": {},
   "source": [
    "для открытия файла будет использована встроенная функция open? для того, чтобы посмотрреть ее мануал, нам потребуется ввести в кернел ?open"
   ]
  },
  {
   "cell_type": "code",
   "execution_count": 33,
   "id": "4d6239bb-7ac0-4ee8-8edd-8d81ec3f7a30",
   "metadata": {},
   "outputs": [],
   "source": [
    "file_ob = open('kek.txt')"
   ]
  },
  {
   "cell_type": "code",
   "execution_count": 34,
   "id": "34d344c6-e20e-4787-86cf-be6c81c67fa6",
   "metadata": {},
   "outputs": [
    {
     "data": {
      "text/plain": [
       "_io.TextIOWrapper"
      ]
     },
     "execution_count": 34,
     "metadata": {},
     "output_type": "execute_result"
    }
   ],
   "source": [
    "type(file_ob)"
   ]
  },
  {
   "cell_type": "code",
   "execution_count": 35,
   "id": "dad6cb8c-1b86-4555-a8f5-035b5d9d2e58",
   "metadata": {},
   "outputs": [
    {
     "name": "stdout",
     "output_type": "stream",
     "text": [
      "hello kek!\n",
      "kek hello!\n"
     ]
    }
   ],
   "source": [
    "print(file_ob.read())"
   ]
  },
  {
   "cell_type": "code",
   "execution_count": 36,
   "id": "7b71caf8-395b-4e33-8b45-5ea7b5ba934d",
   "metadata": {},
   "outputs": [],
   "source": [
    "file_obj = open('kek.txt')"
   ]
  },
  {
   "cell_type": "code",
   "execution_count": 42,
   "id": "5f79d94a-a573-4f44-9bb5-a6a819226379",
   "metadata": {},
   "outputs": [
    {
     "name": "stdout",
     "output_type": "stream",
     "text": [
      "\n"
     ]
    }
   ],
   "source": [
    "print(file_obj.readline())"
   ]
  },
  {
   "cell_type": "code",
   "execution_count": 43,
   "id": "62a15565-f4e8-4517-afb9-50a363907c50",
   "metadata": {},
   "outputs": [],
   "source": [
    "file_obj = open('kek.txt')"
   ]
  },
  {
   "cell_type": "code",
   "execution_count": 44,
   "id": "b98700f8-389a-42e1-bef6-e7807e34ceda",
   "metadata": {},
   "outputs": [
    {
     "name": "stdout",
     "output_type": "stream",
     "text": [
      "hello kek!\n",
      "\n"
     ]
    }
   ],
   "source": [
    "print(file_obj.readline())"
   ]
  },
  {
   "cell_type": "code",
   "execution_count": 56,
   "id": "48f1d059-0172-41ca-8003-0eb81196ed14",
   "metadata": {},
   "outputs": [],
   "source": [
    "file_obj = open('kek.txt')"
   ]
  },
  {
   "cell_type": "code",
   "execution_count": 50,
   "id": "1bb560a5-1fa8-4d3c-a8ba-f9b3a7f9a1bf",
   "metadata": {},
   "outputs": [
    {
     "name": "stdout",
     "output_type": "stream",
     "text": [
      "hello kek!\n",
      "kek hello!\n"
     ]
    }
   ],
   "source": [
    "for line in file_obj:  # выводим текст методом генератора\n",
    "    print(line.strip())  # используем функцию, которая будет отсекать спецсимволы"
   ]
  },
  {
   "cell_type": "code",
   "execution_count": 57,
   "id": "6ccfe724-20db-4727-88f8-8a6c6ce391b4",
   "metadata": {},
   "outputs": [
    {
     "name": "stdout",
     "output_type": "stream",
     "text": [
      "hello kek!\n",
      "\n",
      "kek hello!\n"
     ]
    }
   ],
   "source": [
    "for line in file_obj:  # выводим текст методом генератора\n",
    "    print(line)  # не используем функцию и видим пробел"
   ]
  },
  {
   "cell_type": "code",
   "execution_count": 58,
   "id": "5dcb63cb-6201-4ecf-83ee-9e074f3fb973",
   "metadata": {},
   "outputs": [],
   "source": [
    "file_obj = open('kek.txt')\n",
    "data_list = list(file_obj)"
   ]
  },
  {
   "cell_type": "code",
   "execution_count": 63,
   "id": "2825ddc6-ec7c-4dac-8cd5-d8ab5f952c5c",
   "metadata": {},
   "outputs": [
    {
     "name": "stdout",
     "output_type": "stream",
     "text": [
      "['hello kek!\\n', 'kek hello!']\n"
     ]
    }
   ],
   "source": [
    "print(data_list)  # в данном случае мы увижем сырой вывод со всем, чем только можно"
   ]
  },
  {
   "cell_type": "code",
   "execution_count": 65,
   "id": "dce12352-69c8-4e67-947f-5208c9b2fcef",
   "metadata": {},
   "outputs": [
    {
     "name": "stdout",
     "output_type": "stream",
     "text": [
      "hello kek!\n",
      "kek hello!\n"
     ]
    }
   ],
   "source": [
    "for line in data_list:\n",
    "    # снова воспользуемся функцией стрип для очистки строк от спецсимволов\n",
    "    print(line.strip())"
   ]
  },
  {
   "cell_type": "code",
   "execution_count": 76,
   "id": "1f6c0161-68f6-4a1b-89fe-0064050e0075",
   "metadata": {},
   "outputs": [],
   "source": [
    "file_obj = open('kek.txt')\n",
    "data_list = file_obj.readlines()  # вывод с помощью readlines()"
   ]
  },
  {
   "cell_type": "code",
   "execution_count": 73,
   "id": "1a9e9054-6147-43e2-8107-788a4a226d11",
   "metadata": {},
   "outputs": [
    {
     "name": "stdout",
     "output_type": "stream",
     "text": [
      "['hello kek!\\n', 'kek hello!']\n"
     ]
    }
   ],
   "source": [
    "print(data_list)"
   ]
  },
  {
   "cell_type": "code",
   "execution_count": 74,
   "id": "e42dabe2-b743-4f34-bc14-fb718a465470",
   "metadata": {},
   "outputs": [
    {
     "data": {
      "text/plain": [
       "list"
      ]
     },
     "execution_count": 74,
     "metadata": {},
     "output_type": "execute_result"
    }
   ],
   "source": [
    "type(data_list)"
   ]
  },
  {
   "cell_type": "code",
   "execution_count": 75,
   "id": "3067461b-30fa-4c18-be6a-98f94a0397e6",
   "metadata": {},
   "outputs": [
    {
     "name": "stdout",
     "output_type": "stream",
     "text": [
      "hello kek!\n",
      "kek hello!\n"
     ]
    }
   ],
   "source": [
    "for line in data_list:\n",
    "    print(line.strip())"
   ]
  },
  {
   "cell_type": "markdown",
   "id": "59177e35-4786-41ae-aabb-cbc0a6f4e277",
   "metadata": {},
   "source": [
    "**главное отличие readline от readlines в том, что первая считывает только одну строку и с ней и работает!!!**"
   ]
  },
  {
   "cell_type": "code",
   "execution_count": 77,
   "id": "c1569f80-3ab2-4382-b471-378a3da4ee43",
   "metadata": {},
   "outputs": [
    {
     "ename": "AttributeError",
     "evalue": "'list' object has no attribute 'close'",
     "output_type": "error",
     "traceback": [
      "\u001b[1;31m---------------------------------------------------------------------------\u001b[0m",
      "\u001b[1;31mAttributeError\u001b[0m                            Traceback (most recent call last)",
      "\u001b[1;32m<ipython-input-77-a55ce5546f89>\u001b[0m in \u001b[0;36m<module>\u001b[1;34m\u001b[0m\n\u001b[1;32m----> 1\u001b[1;33m \u001b[0mdata_list\u001b[0m\u001b[1;33m.\u001b[0m\u001b[0mclose\u001b[0m\u001b[1;33m(\u001b[0m\u001b[1;33m)\u001b[0m\u001b[1;33m\u001b[0m\u001b[1;33m\u001b[0m\u001b[0m\n\u001b[0m",
      "\u001b[1;31mAttributeError\u001b[0m: 'list' object has no attribute 'close'"
     ]
    }
   ],
   "source": []
  },
  {
   "cell_type": "code",
   "execution_count": 82,
   "id": "f7f76b3e-b9c4-478d-af62-7286ee7101a2",
   "metadata": {},
   "outputs": [],
   "source": [
    "file_obj = open('kek.txt')\n",
    "file_obj.close()  # функция для закрытия файла\n",
    "# file_obj.read()"
   ]
  },
  {
   "cell_type": "code",
   "execution_count": 83,
   "id": "10e35936-a335-4d28-afc6-bfa57982fe9c",
   "metadata": {},
   "outputs": [
    {
     "data": {
      "text/plain": [
       "_io.TextIOWrapper"
      ]
     },
     "execution_count": 83,
     "metadata": {},
     "output_type": "execute_result"
    }
   ],
   "source": [
    "type(file_obj)"
   ]
  },
  {
   "cell_type": "code",
   "execution_count": 86,
   "id": "41b5ac22-7c43-403e-b644-5458a0f42539",
   "metadata": {},
   "outputs": [],
   "source": [
    "file_koi = open('koi.txt')"
   ]
  },
  {
   "cell_type": "code",
   "execution_count": 87,
   "id": "0cf98358-2d16-453b-8707-42c28ef8df43",
   "metadata": {},
   "outputs": [
    {
     "name": "stdout",
     "output_type": "stream",
     "text": [
      "РџСЂРёРІРµС‚, РјРёСЂ!\n",
      "Р­С‚Рѕ С‚РµСЃС‚РѕРІС‹Р№ С„Р°Р№Р»\n",
      "РљРѕРґРёСЂРѕРІРєР° koi8-r\n",
      "РЈСЂРѕРє \"С‡С‚РµРЅРёРµ РґР°РЅРЅС‹С… РІ python\"\n"
     ]
    }
   ],
   "source": [
    "print(file_koi.read())"
   ]
  },
  {
   "cell_type": "markdown",
   "id": "7e8e39b5-3677-467a-89cd-54a86163dee9",
   "metadata": {},
   "source": [
    "**работа с кодировка с помощью библиотеки codecs**"
   ]
  },
  {
   "cell_type": "code",
   "execution_count": 88,
   "id": "7e1cf023-84bb-470b-b070-80c0e1c2f336",
   "metadata": {},
   "outputs": [],
   "source": [
    "import codecs"
   ]
  },
  {
   "cell_type": "code",
   "execution_count": 95,
   "id": "453dac42-6d3e-4ec8-85dd-c68db8a85677",
   "metadata": {},
   "outputs": [],
   "source": [
    "# у меня не читается кодировка кои -8, но, при прочтнеии в утф все норм\n",
    "data_object = codecs.open('koi.txt', 'r', encoding='utf-8')"
   ]
  },
  {
   "cell_type": "code",
   "execution_count": 94,
   "id": "9de1a06a-e725-43d0-a152-045256587b64",
   "metadata": {},
   "outputs": [
    {
     "name": "stdout",
     "output_type": "stream",
     "text": [
      "Привет, мир!\n",
      "Это тестовый файл\n",
      "Кодировка koi8-r\n",
      "Урок \"чтение данных в python\"\n"
     ]
    }
   ],
   "source": [
    "print(data_object.read())"
   ]
  },
  {
   "cell_type": "markdown",
   "id": "e67b227e-a531-433d-9441-61ea10a802f5",
   "metadata": {},
   "source": [
    " # **запись данных в файл**"
   ]
  },
  {
   "cell_type": "code",
   "execution_count": 152,
   "id": "ef251c17-0cd4-4e7f-88ae-1d7f7efbda8f",
   "metadata": {},
   "outputs": [],
   "source": [
    "data_write = open('write.txt', 'w')"
   ]
  },
  {
   "cell_type": "code",
   "execution_count": 153,
   "id": "f8598abe-3e0b-4662-b473-2525c3f0b629",
   "metadata": {},
   "outputs": [],
   "source": [
    "string1 = \"строка для записи 1\\n\"\n",
    "string2 = 'строка для записи 2'"
   ]
  },
  {
   "cell_type": "code",
   "execution_count": 154,
   "id": "31777633-b292-4c81-8989-f6ce20e5ee1e",
   "metadata": {},
   "outputs": [
    {
     "data": {
      "text/plain": [
       "19"
      ]
     },
     "execution_count": 154,
     "metadata": {},
     "output_type": "execute_result"
    }
   ],
   "source": [
    "data_write.write(string1)\n",
    "data_write.write(string2)"
   ]
  },
  {
   "cell_type": "code",
   "execution_count": 155,
   "id": "6c6cdfa3-ef76-4014-91fe-0440e52da6d4",
   "metadata": {},
   "outputs": [],
   "source": [
    "data_write.close()\n",
    "data_write = open('write.txt')"
   ]
  },
  {
   "cell_type": "code",
   "execution_count": 156,
   "id": "fa613368-b4b9-4911-9ed9-a91137457734",
   "metadata": {},
   "outputs": [],
   "source": [
    "# не забываем, что для прочитываения всех строчек нам нужен ридлайнс\n",
    "data_list = list(data_write.readlines())"
   ]
  },
  {
   "cell_type": "code",
   "execution_count": 157,
   "id": "a7a0e3e8-528f-4dd8-9dcc-6d9c5b4bb3eb",
   "metadata": {},
   "outputs": [
    {
     "name": "stdout",
     "output_type": "stream",
     "text": [
      "строка для записи 1\n",
      "строка для записи 2\n"
     ]
    }
   ],
   "source": [
    "for line in data_list:\n",
    "    print(line.strip())"
   ]
  },
  {
   "cell_type": "markdown",
   "id": "61141a21-394d-485d-9294-8cfcc3122754",
   "metadata": {},
   "source": [
    "можем глянуть и с помощью командной строки, че там да как лежит в файлек, в который мы записывали строчки"
   ]
  },
  {
   "cell_type": "code",
   "execution_count": 159,
   "id": "1362fcbc-ef93-454c-bbef-fd9637fd95d6",
   "metadata": {},
   "outputs": [
    {
     "name": "stdout",
     "output_type": "stream",
     "text": [
      "строка для записи 1\n",
      "строка для записи 2\n"
     ]
    }
   ],
   "source": [
    "!type write.txt"
   ]
  },
  {
   "cell_type": "markdown",
   "id": "56455484-1283-43cc-b620-68be7289c84e",
   "metadata": {},
   "source": [
    "**если мы сейчас откроем на запись этот же файл, то он перепишется поверх, для записи в конец файла нам потребуется использовать аргумент а**"
   ]
  },
  {
   "cell_type": "code",
   "execution_count": 164,
   "id": "a5aafcc1-55ca-4b51-b717-93d06eb3d787",
   "metadata": {},
   "outputs": [],
   "source": [
    "data_write = open('write.txt', 'a')\n",
    "string3 = 'запишем еще одну строку в конец файла\\n'"
   ]
  },
  {
   "cell_type": "code",
   "execution_count": 165,
   "id": "494db85b-94c4-4792-bf24-6c155fa63818",
   "metadata": {},
   "outputs": [
    {
     "data": {
      "text/plain": [
       "38"
      ]
     },
     "execution_count": 165,
     "metadata": {},
     "output_type": "execute_result"
    }
   ],
   "source": [
    "data_write.write(string3)"
   ]
  },
  {
   "cell_type": "code",
   "execution_count": 166,
   "id": "801d17ad-16ea-48b2-8ace-a35a594dc069",
   "metadata": {},
   "outputs": [],
   "source": [
    "data_write.close()"
   ]
  },
  {
   "cell_type": "code",
   "execution_count": 167,
   "id": "0bfe252a-df01-4b10-8c46-10e35552b482",
   "metadata": {},
   "outputs": [
    {
     "name": "stdout",
     "output_type": "stream",
     "text": [
      "строка для записи 1\n",
      "строка для записи 2\n",
      "строка для записи 2запишем еще одну строку в конец файла\n"
     ]
    }
   ],
   "source": [
    "!type write.txt"
   ]
  },
  {
   "cell_type": "code",
   "execution_count": 171,
   "id": "5a3bc03f-e45d-447f-b0b0-0a6f25332a62",
   "metadata": {},
   "outputs": [],
   "source": [
    "digits = range(1, 11)"
   ]
  },
  {
   "cell_type": "code",
   "execution_count": 176,
   "id": "ee6fed87-6dab-452d-aa8d-9e19c68547a1",
   "metadata": {},
   "outputs": [],
   "source": [
    "digits2 = list(digits)"
   ]
  },
  {
   "cell_type": "code",
   "execution_count": 185,
   "id": "766673a8-f217-4428-8ca6-962e4bd5147a",
   "metadata": {},
   "outputs": [],
   "source": [
    "# такая структура позволяет не заморачиваться по поводу закрытия файла, после выхода их блока файл будет закрыт\n",
    "with open('second_file_to_write.txt', 'w') as data_file:\n",
    "    # к какждой строке мы прибавляем знак переноса строки или пробел, не важно\n",
    "    data_file.writelines(digits2+' ' for digits2 in map(str, digits)) # функция записи строк в файл"
   ]
  },
  {
   "cell_type": "code",
   "execution_count": 186,
   "id": "2dab7e3c-c54c-4d7a-96ff-1554d5c2f055",
   "metadata": {},
   "outputs": [
    {
     "name": "stdout",
     "output_type": "stream",
     "text": [
      "1 2 3 4 5 6 7 8 9 10 \n"
     ]
    }
   ],
   "source": [
    "!type second_file_to_write.txt"
   ]
  },
  {
   "cell_type": "markdown",
   "id": "f4e0eaa4-e790-447c-8553-689cc073d423",
   "metadata": {},
   "source": [
    "**небольшое отсутпление по поводу использования map**"
   ]
  },
  {
   "cell_type": "code",
   "execution_count": 198,
   "id": "8999af8c-55d7-4112-a8e9-3e952acfe846",
   "metadata": {},
   "outputs": [
    {
     "name": "stdout",
     "output_type": "stream",
     "text": [
      "[1, 3, 5, 7, 9]\n",
      "<class 'range'>\n"
     ]
    }
   ],
   "source": [
    "numbers_list = range(1,10,2)\n",
    "print(list(numbers_list))\n",
    "print(type(numbers_list))"
   ]
  },
  {
   "cell_type": "code",
   "execution_count": 201,
   "id": "d19883fb-cb9e-4e57-8939-d8e6d197ec89",
   "metadata": {},
   "outputs": [],
   "source": [
    "numbers_true_list = map(lambda x: x+1, numbers_list)"
   ]
  },
  {
   "cell_type": "code",
   "execution_count": 202,
   "id": "83b8d589-4cf4-4d1f-90ad-f36f35398e7a",
   "metadata": {},
   "outputs": [
    {
     "data": {
      "text/plain": [
       "map"
      ]
     },
     "execution_count": 202,
     "metadata": {},
     "output_type": "execute_result"
    }
   ],
   "source": [
    "type(numbers_true_list)"
   ]
  },
  {
   "cell_type": "code",
   "execution_count": 203,
   "id": "c307843b-abd4-4fee-bde6-b6ce7c0ffbc5",
   "metadata": {},
   "outputs": [
    {
     "data": {
      "text/plain": [
       "[2, 4, 6, 8, 10]"
      ]
     },
     "execution_count": 203,
     "metadata": {},
     "output_type": "execute_result"
    }
   ],
   "source": [
    "list(numbers_true_list)"
   ]
  },
  {
   "cell_type": "code",
   "execution_count": 222,
   "id": "52a7a57d-2942-4483-ab6c-dd272702172a",
   "metadata": {},
   "outputs": [],
   "source": [
    "with open('lambda_test_write_file.txt', 'w') as file_lambda:\n",
    "    test_string = range(1,10)\n",
    "    file_lambda.writelines(test_string+' 'for test_string in map(str,test_string))"
   ]
  },
  {
   "cell_type": "code",
   "execution_count": 223,
   "id": "42620ebf-4d72-4032-93df-9bec52724cae",
   "metadata": {},
   "outputs": [
    {
     "name": "stdout",
     "output_type": "stream",
     "text": [
      "1 2 3 4 5 6 7 8 9 \n"
     ]
    }
   ],
   "source": [
    "!type lambda_test_write_file.txt\n"
   ]
  },
  {
   "cell_type": "code",
   "execution_count": 233,
   "id": "0edc83bc-cf76-4158-88e4-ecef6591d6cd",
   "metadata": {},
   "outputs": [],
   "source": [
    "kek = ['   ', 'kok', 'kek', 1]"
   ]
  },
  {
   "cell_type": "code",
   "execution_count": 234,
   "id": "6ad61c8b-3d26-47da-a28f-9d10237bd937",
   "metadata": {},
   "outputs": [
    {
     "data": {
      "text/plain": [
       "list"
      ]
     },
     "execution_count": 234,
     "metadata": {},
     "output_type": "execute_result"
    }
   ],
   "source": [
    "type(kek)"
   ]
  },
  {
   "cell_type": "code",
   "execution_count": 235,
   "id": "0ee6f0c9-789e-4c65-b749-05e5946703f3",
   "metadata": {},
   "outputs": [],
   "source": [
    "kek.append('kekek')"
   ]
  },
  {
   "cell_type": "code",
   "execution_count": 236,
   "id": "c9a61b22-f2d9-49a7-92d8-e99bd9267022",
   "metadata": {},
   "outputs": [
    {
     "name": "stdout",
     "output_type": "stream",
     "text": [
      "['   ', 'kok', 'kek', 1, 'kekek']\n"
     ]
    }
   ],
   "source": [
    "print(kek)"
   ]
  },
  {
   "cell_type": "code",
   "execution_count": 237,
   "id": "4dbde949-d725-4e8d-b9a0-55d39a4ff20d",
   "metadata": {},
   "outputs": [],
   "source": [
    "function = lambda x, y: x**2"
   ]
  },
  {
   "cell_type": "code",
   "execution_count": 240,
   "id": "827456c3-30bf-40b0-8808-523d46b9fcb7",
   "metadata": {},
   "outputs": [
    {
     "data": {
      "text/plain": [
       "16"
      ]
     },
     "execution_count": 240,
     "metadata": {},
     "output_type": "execute_result"
    }
   ],
   "source": [
    "function(4,4)"
   ]
  },
  {
   "cell_type": "code",
   "execution_count": 242,
   "id": "98040a16-d3e4-4782-a4af-a6bf4b092da7",
   "metadata": {},
   "outputs": [
    {
     "data": {
      "text/plain": [
       "1"
      ]
     },
     "execution_count": 242,
     "metadata": {},
     "output_type": "execute_result"
    }
   ],
   "source": [
    "1%2"
   ]
  },
  {
   "cell_type": "code",
   "execution_count": 248,
   "id": "2cbee628-795d-4984-a5cf-a38ff7dae04d",
   "metadata": {},
   "outputs": [
    {
     "data": {
      "text/plain": [
       "set"
      ]
     },
     "execution_count": 248,
     "metadata": {},
     "output_type": "execute_result"
    }
   ],
   "source": [
    "a = {1,2,' '}\n",
    "type(a)"
   ]
  },
  {
   "cell_type": "markdown",
   "id": "9cbb6430-5de3-4471-b16f-8fe82cc058ad",
   "metadata": {},
   "source": [
    "### некоторые моменты по типам данных"
   ]
  },
  {
   "cell_type": "markdown",
   "id": "d70cd78e-f98f-4c6d-8679-0d9e91ba9c72",
   "metadata": {},
   "source": [
    "в словарях ключами могут быть неизменяемые объекты - строки, числовые значения, либо кортежи, списки использовать невозможно, так как они являются зименяемыми объектами"
   ]
  },
  {
   "cell_type": "code",
   "execution_count": 254,
   "id": "320b0ece-7d67-49f8-b210-4d60d789439a",
   "metadata": {},
   "outputs": [
    {
     "data": {
      "text/plain": [
       "0.125"
      ]
     },
     "execution_count": 254,
     "metadata": {},
     "output_type": "execute_result"
    }
   ],
   "source": [
    "2** "
   ]
  },
  {
   "cell_type": "code",
   "execution_count": 255,
   "id": "bdb930f5-f26a-4f7b-b145-ef7b3fb5e291",
   "metadata": {},
   "outputs": [],
   "source": [
    "def function_limit(x):\n",
    "    y = (1+x)**(1/x)\n",
    "    return(y)"
   ]
  },
  {
   "cell_type": "code",
   "execution_count": 288,
   "id": "60254a62-a69c-49db-bb34-9288bb894026",
   "metadata": {},
   "outputs": [],
   "source": [
    "import numpy as np\n",
    "x_test = np.arange(1, 0, -0.0001)"
   ]
  },
  {
   "cell_type": "code",
   "execution_count": 284,
   "id": "01bcfa7d-2119-4bb3-b695-36e6488f4c2a",
   "metadata": {},
   "outputs": [
    {
     "data": {
      "text/plain": [
       "array([1.00e+00, 9.99e-01, 9.98e-01, 9.97e-01, 9.96e-01, 9.95e-01,\n",
       "       9.94e-01, 9.93e-01, 9.92e-01, 9.91e-01, 9.90e-01, 9.89e-01,\n",
       "       9.88e-01, 9.87e-01, 9.86e-01, 9.85e-01, 9.84e-01, 9.83e-01,\n",
       "       9.82e-01, 9.81e-01, 9.80e-01, 9.79e-01, 9.78e-01, 9.77e-01,\n",
       "       9.76e-01, 9.75e-01, 9.74e-01, 9.73e-01, 9.72e-01, 9.71e-01,\n",
       "       9.70e-01, 9.69e-01, 9.68e-01, 9.67e-01, 9.66e-01, 9.65e-01,\n",
       "       9.64e-01, 9.63e-01, 9.62e-01, 9.61e-01, 9.60e-01, 9.59e-01,\n",
       "       9.58e-01, 9.57e-01, 9.56e-01, 9.55e-01, 9.54e-01, 9.53e-01,\n",
       "       9.52e-01, 9.51e-01, 9.50e-01, 9.49e-01, 9.48e-01, 9.47e-01,\n",
       "       9.46e-01, 9.45e-01, 9.44e-01, 9.43e-01, 9.42e-01, 9.41e-01,\n",
       "       9.40e-01, 9.39e-01, 9.38e-01, 9.37e-01, 9.36e-01, 9.35e-01,\n",
       "       9.34e-01, 9.33e-01, 9.32e-01, 9.31e-01, 9.30e-01, 9.29e-01,\n",
       "       9.28e-01, 9.27e-01, 9.26e-01, 9.25e-01, 9.24e-01, 9.23e-01,\n",
       "       9.22e-01, 9.21e-01, 9.20e-01, 9.19e-01, 9.18e-01, 9.17e-01,\n",
       "       9.16e-01, 9.15e-01, 9.14e-01, 9.13e-01, 9.12e-01, 9.11e-01,\n",
       "       9.10e-01, 9.09e-01, 9.08e-01, 9.07e-01, 9.06e-01, 9.05e-01,\n",
       "       9.04e-01, 9.03e-01, 9.02e-01, 9.01e-01, 9.00e-01, 8.99e-01,\n",
       "       8.98e-01, 8.97e-01, 8.96e-01, 8.95e-01, 8.94e-01, 8.93e-01,\n",
       "       8.92e-01, 8.91e-01, 8.90e-01, 8.89e-01, 8.88e-01, 8.87e-01,\n",
       "       8.86e-01, 8.85e-01, 8.84e-01, 8.83e-01, 8.82e-01, 8.81e-01,\n",
       "       8.80e-01, 8.79e-01, 8.78e-01, 8.77e-01, 8.76e-01, 8.75e-01,\n",
       "       8.74e-01, 8.73e-01, 8.72e-01, 8.71e-01, 8.70e-01, 8.69e-01,\n",
       "       8.68e-01, 8.67e-01, 8.66e-01, 8.65e-01, 8.64e-01, 8.63e-01,\n",
       "       8.62e-01, 8.61e-01, 8.60e-01, 8.59e-01, 8.58e-01, 8.57e-01,\n",
       "       8.56e-01, 8.55e-01, 8.54e-01, 8.53e-01, 8.52e-01, 8.51e-01,\n",
       "       8.50e-01, 8.49e-01, 8.48e-01, 8.47e-01, 8.46e-01, 8.45e-01,\n",
       "       8.44e-01, 8.43e-01, 8.42e-01, 8.41e-01, 8.40e-01, 8.39e-01,\n",
       "       8.38e-01, 8.37e-01, 8.36e-01, 8.35e-01, 8.34e-01, 8.33e-01,\n",
       "       8.32e-01, 8.31e-01, 8.30e-01, 8.29e-01, 8.28e-01, 8.27e-01,\n",
       "       8.26e-01, 8.25e-01, 8.24e-01, 8.23e-01, 8.22e-01, 8.21e-01,\n",
       "       8.20e-01, 8.19e-01, 8.18e-01, 8.17e-01, 8.16e-01, 8.15e-01,\n",
       "       8.14e-01, 8.13e-01, 8.12e-01, 8.11e-01, 8.10e-01, 8.09e-01,\n",
       "       8.08e-01, 8.07e-01, 8.06e-01, 8.05e-01, 8.04e-01, 8.03e-01,\n",
       "       8.02e-01, 8.01e-01, 8.00e-01, 7.99e-01, 7.98e-01, 7.97e-01,\n",
       "       7.96e-01, 7.95e-01, 7.94e-01, 7.93e-01, 7.92e-01, 7.91e-01,\n",
       "       7.90e-01, 7.89e-01, 7.88e-01, 7.87e-01, 7.86e-01, 7.85e-01,\n",
       "       7.84e-01, 7.83e-01, 7.82e-01, 7.81e-01, 7.80e-01, 7.79e-01,\n",
       "       7.78e-01, 7.77e-01, 7.76e-01, 7.75e-01, 7.74e-01, 7.73e-01,\n",
       "       7.72e-01, 7.71e-01, 7.70e-01, 7.69e-01, 7.68e-01, 7.67e-01,\n",
       "       7.66e-01, 7.65e-01, 7.64e-01, 7.63e-01, 7.62e-01, 7.61e-01,\n",
       "       7.60e-01, 7.59e-01, 7.58e-01, 7.57e-01, 7.56e-01, 7.55e-01,\n",
       "       7.54e-01, 7.53e-01, 7.52e-01, 7.51e-01, 7.50e-01, 7.49e-01,\n",
       "       7.48e-01, 7.47e-01, 7.46e-01, 7.45e-01, 7.44e-01, 7.43e-01,\n",
       "       7.42e-01, 7.41e-01, 7.40e-01, 7.39e-01, 7.38e-01, 7.37e-01,\n",
       "       7.36e-01, 7.35e-01, 7.34e-01, 7.33e-01, 7.32e-01, 7.31e-01,\n",
       "       7.30e-01, 7.29e-01, 7.28e-01, 7.27e-01, 7.26e-01, 7.25e-01,\n",
       "       7.24e-01, 7.23e-01, 7.22e-01, 7.21e-01, 7.20e-01, 7.19e-01,\n",
       "       7.18e-01, 7.17e-01, 7.16e-01, 7.15e-01, 7.14e-01, 7.13e-01,\n",
       "       7.12e-01, 7.11e-01, 7.10e-01, 7.09e-01, 7.08e-01, 7.07e-01,\n",
       "       7.06e-01, 7.05e-01, 7.04e-01, 7.03e-01, 7.02e-01, 7.01e-01,\n",
       "       7.00e-01, 6.99e-01, 6.98e-01, 6.97e-01, 6.96e-01, 6.95e-01,\n",
       "       6.94e-01, 6.93e-01, 6.92e-01, 6.91e-01, 6.90e-01, 6.89e-01,\n",
       "       6.88e-01, 6.87e-01, 6.86e-01, 6.85e-01, 6.84e-01, 6.83e-01,\n",
       "       6.82e-01, 6.81e-01, 6.80e-01, 6.79e-01, 6.78e-01, 6.77e-01,\n",
       "       6.76e-01, 6.75e-01, 6.74e-01, 6.73e-01, 6.72e-01, 6.71e-01,\n",
       "       6.70e-01, 6.69e-01, 6.68e-01, 6.67e-01, 6.66e-01, 6.65e-01,\n",
       "       6.64e-01, 6.63e-01, 6.62e-01, 6.61e-01, 6.60e-01, 6.59e-01,\n",
       "       6.58e-01, 6.57e-01, 6.56e-01, 6.55e-01, 6.54e-01, 6.53e-01,\n",
       "       6.52e-01, 6.51e-01, 6.50e-01, 6.49e-01, 6.48e-01, 6.47e-01,\n",
       "       6.46e-01, 6.45e-01, 6.44e-01, 6.43e-01, 6.42e-01, 6.41e-01,\n",
       "       6.40e-01, 6.39e-01, 6.38e-01, 6.37e-01, 6.36e-01, 6.35e-01,\n",
       "       6.34e-01, 6.33e-01, 6.32e-01, 6.31e-01, 6.30e-01, 6.29e-01,\n",
       "       6.28e-01, 6.27e-01, 6.26e-01, 6.25e-01, 6.24e-01, 6.23e-01,\n",
       "       6.22e-01, 6.21e-01, 6.20e-01, 6.19e-01, 6.18e-01, 6.17e-01,\n",
       "       6.16e-01, 6.15e-01, 6.14e-01, 6.13e-01, 6.12e-01, 6.11e-01,\n",
       "       6.10e-01, 6.09e-01, 6.08e-01, 6.07e-01, 6.06e-01, 6.05e-01,\n",
       "       6.04e-01, 6.03e-01, 6.02e-01, 6.01e-01, 6.00e-01, 5.99e-01,\n",
       "       5.98e-01, 5.97e-01, 5.96e-01, 5.95e-01, 5.94e-01, 5.93e-01,\n",
       "       5.92e-01, 5.91e-01, 5.90e-01, 5.89e-01, 5.88e-01, 5.87e-01,\n",
       "       5.86e-01, 5.85e-01, 5.84e-01, 5.83e-01, 5.82e-01, 5.81e-01,\n",
       "       5.80e-01, 5.79e-01, 5.78e-01, 5.77e-01, 5.76e-01, 5.75e-01,\n",
       "       5.74e-01, 5.73e-01, 5.72e-01, 5.71e-01, 5.70e-01, 5.69e-01,\n",
       "       5.68e-01, 5.67e-01, 5.66e-01, 5.65e-01, 5.64e-01, 5.63e-01,\n",
       "       5.62e-01, 5.61e-01, 5.60e-01, 5.59e-01, 5.58e-01, 5.57e-01,\n",
       "       5.56e-01, 5.55e-01, 5.54e-01, 5.53e-01, 5.52e-01, 5.51e-01,\n",
       "       5.50e-01, 5.49e-01, 5.48e-01, 5.47e-01, 5.46e-01, 5.45e-01,\n",
       "       5.44e-01, 5.43e-01, 5.42e-01, 5.41e-01, 5.40e-01, 5.39e-01,\n",
       "       5.38e-01, 5.37e-01, 5.36e-01, 5.35e-01, 5.34e-01, 5.33e-01,\n",
       "       5.32e-01, 5.31e-01, 5.30e-01, 5.29e-01, 5.28e-01, 5.27e-01,\n",
       "       5.26e-01, 5.25e-01, 5.24e-01, 5.23e-01, 5.22e-01, 5.21e-01,\n",
       "       5.20e-01, 5.19e-01, 5.18e-01, 5.17e-01, 5.16e-01, 5.15e-01,\n",
       "       5.14e-01, 5.13e-01, 5.12e-01, 5.11e-01, 5.10e-01, 5.09e-01,\n",
       "       5.08e-01, 5.07e-01, 5.06e-01, 5.05e-01, 5.04e-01, 5.03e-01,\n",
       "       5.02e-01, 5.01e-01, 5.00e-01, 4.99e-01, 4.98e-01, 4.97e-01,\n",
       "       4.96e-01, 4.95e-01, 4.94e-01, 4.93e-01, 4.92e-01, 4.91e-01,\n",
       "       4.90e-01, 4.89e-01, 4.88e-01, 4.87e-01, 4.86e-01, 4.85e-01,\n",
       "       4.84e-01, 4.83e-01, 4.82e-01, 4.81e-01, 4.80e-01, 4.79e-01,\n",
       "       4.78e-01, 4.77e-01, 4.76e-01, 4.75e-01, 4.74e-01, 4.73e-01,\n",
       "       4.72e-01, 4.71e-01, 4.70e-01, 4.69e-01, 4.68e-01, 4.67e-01,\n",
       "       4.66e-01, 4.65e-01, 4.64e-01, 4.63e-01, 4.62e-01, 4.61e-01,\n",
       "       4.60e-01, 4.59e-01, 4.58e-01, 4.57e-01, 4.56e-01, 4.55e-01,\n",
       "       4.54e-01, 4.53e-01, 4.52e-01, 4.51e-01, 4.50e-01, 4.49e-01,\n",
       "       4.48e-01, 4.47e-01, 4.46e-01, 4.45e-01, 4.44e-01, 4.43e-01,\n",
       "       4.42e-01, 4.41e-01, 4.40e-01, 4.39e-01, 4.38e-01, 4.37e-01,\n",
       "       4.36e-01, 4.35e-01, 4.34e-01, 4.33e-01, 4.32e-01, 4.31e-01,\n",
       "       4.30e-01, 4.29e-01, 4.28e-01, 4.27e-01, 4.26e-01, 4.25e-01,\n",
       "       4.24e-01, 4.23e-01, 4.22e-01, 4.21e-01, 4.20e-01, 4.19e-01,\n",
       "       4.18e-01, 4.17e-01, 4.16e-01, 4.15e-01, 4.14e-01, 4.13e-01,\n",
       "       4.12e-01, 4.11e-01, 4.10e-01, 4.09e-01, 4.08e-01, 4.07e-01,\n",
       "       4.06e-01, 4.05e-01, 4.04e-01, 4.03e-01, 4.02e-01, 4.01e-01,\n",
       "       4.00e-01, 3.99e-01, 3.98e-01, 3.97e-01, 3.96e-01, 3.95e-01,\n",
       "       3.94e-01, 3.93e-01, 3.92e-01, 3.91e-01, 3.90e-01, 3.89e-01,\n",
       "       3.88e-01, 3.87e-01, 3.86e-01, 3.85e-01, 3.84e-01, 3.83e-01,\n",
       "       3.82e-01, 3.81e-01, 3.80e-01, 3.79e-01, 3.78e-01, 3.77e-01,\n",
       "       3.76e-01, 3.75e-01, 3.74e-01, 3.73e-01, 3.72e-01, 3.71e-01,\n",
       "       3.70e-01, 3.69e-01, 3.68e-01, 3.67e-01, 3.66e-01, 3.65e-01,\n",
       "       3.64e-01, 3.63e-01, 3.62e-01, 3.61e-01, 3.60e-01, 3.59e-01,\n",
       "       3.58e-01, 3.57e-01, 3.56e-01, 3.55e-01, 3.54e-01, 3.53e-01,\n",
       "       3.52e-01, 3.51e-01, 3.50e-01, 3.49e-01, 3.48e-01, 3.47e-01,\n",
       "       3.46e-01, 3.45e-01, 3.44e-01, 3.43e-01, 3.42e-01, 3.41e-01,\n",
       "       3.40e-01, 3.39e-01, 3.38e-01, 3.37e-01, 3.36e-01, 3.35e-01,\n",
       "       3.34e-01, 3.33e-01, 3.32e-01, 3.31e-01, 3.30e-01, 3.29e-01,\n",
       "       3.28e-01, 3.27e-01, 3.26e-01, 3.25e-01, 3.24e-01, 3.23e-01,\n",
       "       3.22e-01, 3.21e-01, 3.20e-01, 3.19e-01, 3.18e-01, 3.17e-01,\n",
       "       3.16e-01, 3.15e-01, 3.14e-01, 3.13e-01, 3.12e-01, 3.11e-01,\n",
       "       3.10e-01, 3.09e-01, 3.08e-01, 3.07e-01, 3.06e-01, 3.05e-01,\n",
       "       3.04e-01, 3.03e-01, 3.02e-01, 3.01e-01, 3.00e-01, 2.99e-01,\n",
       "       2.98e-01, 2.97e-01, 2.96e-01, 2.95e-01, 2.94e-01, 2.93e-01,\n",
       "       2.92e-01, 2.91e-01, 2.90e-01, 2.89e-01, 2.88e-01, 2.87e-01,\n",
       "       2.86e-01, 2.85e-01, 2.84e-01, 2.83e-01, 2.82e-01, 2.81e-01,\n",
       "       2.80e-01, 2.79e-01, 2.78e-01, 2.77e-01, 2.76e-01, 2.75e-01,\n",
       "       2.74e-01, 2.73e-01, 2.72e-01, 2.71e-01, 2.70e-01, 2.69e-01,\n",
       "       2.68e-01, 2.67e-01, 2.66e-01, 2.65e-01, 2.64e-01, 2.63e-01,\n",
       "       2.62e-01, 2.61e-01, 2.60e-01, 2.59e-01, 2.58e-01, 2.57e-01,\n",
       "       2.56e-01, 2.55e-01, 2.54e-01, 2.53e-01, 2.52e-01, 2.51e-01,\n",
       "       2.50e-01, 2.49e-01, 2.48e-01, 2.47e-01, 2.46e-01, 2.45e-01,\n",
       "       2.44e-01, 2.43e-01, 2.42e-01, 2.41e-01, 2.40e-01, 2.39e-01,\n",
       "       2.38e-01, 2.37e-01, 2.36e-01, 2.35e-01, 2.34e-01, 2.33e-01,\n",
       "       2.32e-01, 2.31e-01, 2.30e-01, 2.29e-01, 2.28e-01, 2.27e-01,\n",
       "       2.26e-01, 2.25e-01, 2.24e-01, 2.23e-01, 2.22e-01, 2.21e-01,\n",
       "       2.20e-01, 2.19e-01, 2.18e-01, 2.17e-01, 2.16e-01, 2.15e-01,\n",
       "       2.14e-01, 2.13e-01, 2.12e-01, 2.11e-01, 2.10e-01, 2.09e-01,\n",
       "       2.08e-01, 2.07e-01, 2.06e-01, 2.05e-01, 2.04e-01, 2.03e-01,\n",
       "       2.02e-01, 2.01e-01, 2.00e-01, 1.99e-01, 1.98e-01, 1.97e-01,\n",
       "       1.96e-01, 1.95e-01, 1.94e-01, 1.93e-01, 1.92e-01, 1.91e-01,\n",
       "       1.90e-01, 1.89e-01, 1.88e-01, 1.87e-01, 1.86e-01, 1.85e-01,\n",
       "       1.84e-01, 1.83e-01, 1.82e-01, 1.81e-01, 1.80e-01, 1.79e-01,\n",
       "       1.78e-01, 1.77e-01, 1.76e-01, 1.75e-01, 1.74e-01, 1.73e-01,\n",
       "       1.72e-01, 1.71e-01, 1.70e-01, 1.69e-01, 1.68e-01, 1.67e-01,\n",
       "       1.66e-01, 1.65e-01, 1.64e-01, 1.63e-01, 1.62e-01, 1.61e-01,\n",
       "       1.60e-01, 1.59e-01, 1.58e-01, 1.57e-01, 1.56e-01, 1.55e-01,\n",
       "       1.54e-01, 1.53e-01, 1.52e-01, 1.51e-01, 1.50e-01, 1.49e-01,\n",
       "       1.48e-01, 1.47e-01, 1.46e-01, 1.45e-01, 1.44e-01, 1.43e-01,\n",
       "       1.42e-01, 1.41e-01, 1.40e-01, 1.39e-01, 1.38e-01, 1.37e-01,\n",
       "       1.36e-01, 1.35e-01, 1.34e-01, 1.33e-01, 1.32e-01, 1.31e-01,\n",
       "       1.30e-01, 1.29e-01, 1.28e-01, 1.27e-01, 1.26e-01, 1.25e-01,\n",
       "       1.24e-01, 1.23e-01, 1.22e-01, 1.21e-01, 1.20e-01, 1.19e-01,\n",
       "       1.18e-01, 1.17e-01, 1.16e-01, 1.15e-01, 1.14e-01, 1.13e-01,\n",
       "       1.12e-01, 1.11e-01, 1.10e-01, 1.09e-01, 1.08e-01, 1.07e-01,\n",
       "       1.06e-01, 1.05e-01, 1.04e-01, 1.03e-01, 1.02e-01, 1.01e-01,\n",
       "       1.00e-01, 9.90e-02, 9.80e-02, 9.70e-02, 9.60e-02, 9.50e-02,\n",
       "       9.40e-02, 9.30e-02, 9.20e-02, 9.10e-02, 9.00e-02, 8.90e-02,\n",
       "       8.80e-02, 8.70e-02, 8.60e-02, 8.50e-02, 8.40e-02, 8.30e-02,\n",
       "       8.20e-02, 8.10e-02, 8.00e-02, 7.90e-02, 7.80e-02, 7.70e-02,\n",
       "       7.60e-02, 7.50e-02, 7.40e-02, 7.30e-02, 7.20e-02, 7.10e-02,\n",
       "       7.00e-02, 6.90e-02, 6.80e-02, 6.70e-02, 6.60e-02, 6.50e-02,\n",
       "       6.40e-02, 6.30e-02, 6.20e-02, 6.10e-02, 6.00e-02, 5.90e-02,\n",
       "       5.80e-02, 5.70e-02, 5.60e-02, 5.50e-02, 5.40e-02, 5.30e-02,\n",
       "       5.20e-02, 5.10e-02, 5.00e-02, 4.90e-02, 4.80e-02, 4.70e-02,\n",
       "       4.60e-02, 4.50e-02, 4.40e-02, 4.30e-02, 4.20e-02, 4.10e-02,\n",
       "       4.00e-02, 3.90e-02, 3.80e-02, 3.70e-02, 3.60e-02, 3.50e-02,\n",
       "       3.40e-02, 3.30e-02, 3.20e-02, 3.10e-02, 3.00e-02, 2.90e-02,\n",
       "       2.80e-02, 2.70e-02, 2.60e-02, 2.50e-02, 2.40e-02, 2.30e-02,\n",
       "       2.20e-02, 2.10e-02, 2.00e-02, 1.90e-02, 1.80e-02, 1.70e-02,\n",
       "       1.60e-02, 1.50e-02, 1.40e-02, 1.30e-02, 1.20e-02, 1.10e-02,\n",
       "       1.00e-02, 9.00e-03, 8.00e-03, 7.00e-03, 6.00e-03, 5.00e-03,\n",
       "       4.00e-03, 3.00e-03, 2.00e-03, 1.00e-03])"
      ]
     },
     "execution_count": 284,
     "metadata": {},
     "output_type": "execute_result"
    }
   ],
   "source": [
    "x_test"
   ]
  },
  {
   "cell_type": "code",
   "execution_count": 289,
   "id": "d573a3b3-a8dd-4574-9edc-5ed16d6af431",
   "metadata": {},
   "outputs": [
    {
     "data": {
      "text/plain": [
       "array([2.        , 2.00003863, 2.00007727, ..., 2.7178742 , 2.71801005,\n",
       "       2.71814593])"
      ]
     },
     "execution_count": 289,
     "metadata": {},
     "output_type": "execute_result"
    }
   ],
   "source": [
    "function_limit(x_test)"
   ]
  },
  {
   "cell_type": "code",
   "execution_count": 286,
   "id": "b5e1bf8b-bdd2-4d4c-a6cc-5c943d30dff3",
   "metadata": {},
   "outputs": [],
   "source": [
    "import matplotlib.pyplot as plt"
   ]
  },
  {
   "cell_type": "code",
   "execution_count": 287,
   "id": "450b3596-dea5-4523-9ade-f3f0a86bc2ad",
   "metadata": {},
   "outputs": [
    {
     "data": {
      "text/plain": [
       "[<matplotlib.lines.Line2D at 0x1c3e5c689a0>]"
      ]
     },
     "execution_count": 287,
     "metadata": {},
     "output_type": "execute_result"
    },
    {
     "data": {
      "image/png": "[encoded data removed]",
      "text/plain": [
       "<Figure size 432x288 with 1 Axes>"
      ]
     },
     "metadata": {
      "needs_background": "light"
     },
     "output_type": "display_data"
    }
   ],
   "source": [
    "plt.plot(function_limit(x_test))"
   ]
  },
  {
   "cell_type": "code",
   "execution_count": 290,
   "id": "2b115abd-d2b9-408c-aa0b-37e0b58ee5f7",
   "metadata": {},
   "outputs": [],
   "source": [
    "import sympy as sym"
   ]
  },
  {
   "cell_type": "code",
   "execution_count": 297,
   "id": "b7ec775d-6f8b-4c79-aa45-3a948537baa4",
   "metadata": {},
   "outputs": [
    {
     "data": {
      "text/latex": [
       "$\\displaystyle 2.71828169413208$"
      ],
      "text/plain": [
       "2.71828169413208"
      ]
     },
     "execution_count": 297,
     "metadata": {},
     "output_type": "execute_result"
    }
   ],
   "source": [
    "sym.limit(function_limit(0.0000001),0.0000001 , 0)"
   ]
  },
  {
   "cell_type": "code",
   "execution_count": 298,
   "id": "4a5f8509-cae1-485f-98bb-7d5d74258a70",
   "metadata": {},
   "outputs": [],
   "source": [
    "def func_2(x):\n",
    "    y = 1/x\n",
    "    return(y)"
   ]
  },
  {
   "cell_type": "code",
   "execution_count": 299,
   "id": "bb5b33fd-f367-4ee1-a146-f2efd6e2a756",
   "metadata": {},
   "outputs": [
    {
     "data": {
      "text/plain": [
       "[<matplotlib.lines.Line2D at 0x1c3e5c9ba60>]"
      ]
     },
     "execution_count": 299,
     "metadata": {},
     "output_type": "execute_result"
    },
    {
     "data": {
      "image/png": "[encoded data removed]",
      "text/plain": [
       "<Figure size 432x288 with 1 Axes>"
      ]
     },
     "metadata": {
      "needs_background": "light"
     },
     "output_type": "display_data"
    }
   ],
   "source": [
    "plt.plot(func_2(x_test))"
   ]
  },
  {
   "cell_type": "code",
   "execution_count": 305,
   "id": "5efe3226-01d8-4e83-ad02-a3e03a9b4f79",
   "metadata": {},
   "outputs": [
    {
     "data": {
      "text/latex": [
       "$\\displaystyle 1000000000.0$"
      ],
      "text/plain": [
       "1000000000.00000"
      ]
     },
     "execution_count": 305,
     "metadata": {},
     "output_type": "execute_result"
    }
   ],
   "source": [
    "sym.limit(func_2(0.000000001), 0.000000001, 0)"
   ]
  },
  {
   "cell_type": "code",
   "execution_count": 335,
   "id": "82ddac0d-47fe-456f-b441-83aa62bb741e",
   "metadata": {},
   "outputs": [],
   "source": [
    "def func_ex(x):\n",
    "    y = 2/((2**(1/x)) - 2)\n",
    "    return(y)"
   ]
  },
  {
   "cell_type": "code",
   "execution_count": 336,
   "id": "32cced5e-4634-4a8d-b947-72adad10513e",
   "metadata": {},
   "outputs": [
    {
     "data": {
      "text/plain": [
       "-1.3333333333333333"
      ]
     },
     "execution_count": 336,
     "metadata": {},
     "output_type": "execute_result"
    }
   ],
   "source": [
    "func_ex(-1)"
   ]
  },
  {
   "cell_type": "code",
   "execution_count": 337,
   "id": "b9807294-989e-4924-8e8d-cdcdd9308c6b",
   "metadata": {},
   "outputs": [],
   "source": [
    "import numpy as np\n",
    "list_os_values_before_0 = np.arange(-10, -0.1, 0.1)\n",
    "between_0_1 = np.arange(0.1, 0.9, 0.1)\n",
    "after_1 = np.arange(1.1, 10, 0.1)"
   ]
  },
  {
   "cell_type": "code",
   "execution_count": 326,
   "id": "a4c5c606-58f2-4988-b843-7c406746ebc1",
   "metadata": {},
   "outputs": [
    {
     "name": "stdout",
     "output_type": "stream",
     "text": [
      "[1.1 1.2 1.3 1.4 1.5 1.6 1.7 1.8 1.9 2.  2.1 2.2 2.3 2.4 2.5 2.6 2.7 2.8\n",
      " 2.9 3.  3.1 3.2 3.3 3.4 3.5 3.6 3.7 3.8 3.9 4.  4.1 4.2 4.3 4.4 4.5 4.6\n",
      " 4.7 4.8 4.9 5.  5.1 5.2 5.3 5.4 5.5 5.6 5.7 5.8 5.9 6.  6.1 6.2 6.3 6.4\n",
      " 6.5 6.6 6.7 6.8 6.9 7.  7.1 7.2 7.3 7.4 7.5 7.6 7.7 7.8 7.9 8.  8.1 8.2\n",
      " 8.3 8.4 8.5 8.6 8.7 8.8 8.9 9.  9.1 9.2 9.3 9.4 9.5 9.6 9.7 9.8 9.9]\n"
     ]
    }
   ],
   "source": []
  },
  {
   "cell_type": "code",
   "execution_count": 328,
   "id": "7cc60715-677f-4517-bdf4-294983902a86",
   "metadata": {},
   "outputs": [],
   "source": [
    "func_ex(list_os_values_before_0)"
   ]
  },
  {
   "cell_type": "code",
   "execution_count": 342,
   "id": "5682cff1-f63b-41bb-93ef-3e64301fba46",
   "metadata": {},
   "outputs": [
    {
     "data": {
      "text/plain": [
       "[<matplotlib.lines.Line2D at 0x1c3e75b2220>]"
      ]
     },
     "execution_count": 342,
     "metadata": {},
     "output_type": "execute_result"
    },
    {
     "data": {
      "image/png": "[encoded data removed]",
      "text/plain": [
       "<Figure size 432x288 with 1 Axes>"
      ]
     },
     "metadata": {
      "needs_background": "light"
     },
     "output_type": "display_data"
    }
   ],
   "source": [
    "plt.plot(func_ex(after_1))"
   ]
  },
  {
   "cell_type": "code",
   "execution_count": null,
   "id": "8ce19d5d-4407-47cf-b1f7-8240d0f06f92",
   "metadata": {},
   "outputs": [],
   "source": []
  }
 ],
 "metadata": {
  "kernelspec": {
   "display_name": "Python 3",
   "language": "python",
   "name": "python3"
  },
  "language_info": {
   "codemirror_mode": {
    "name": "ipython",
    "version": 3
   },
   "file_extension": ".py",
   "mimetype": "text/x-python",
   "name": "python",
   "nbconvert_exporter": "python",
   "pygments_lexer": "ipython3",
   "version": "3.8.8"
  }
 },
 "nbformat": 4,
 "nbformat_minor": 5
}
