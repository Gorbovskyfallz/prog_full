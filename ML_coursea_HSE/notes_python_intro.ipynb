{
 "cells": [
  {
   "cell_type": "code",
   "execution_count": 4,
   "id": "2919b54f-0f12-4612-8814-a6e277ebd0ec",
   "metadata": {},
   "outputs": [
    {
     "data": {
      "text/plain": [
       "479001600"
      ]
     },
     "execution_count": 4,
     "metadata": {},
     "output_type": "execute_result"
    }
   ],
   "source": [
    "import numpy as np\n",
    "from math import factorial\n",
    "factorial(12) # нахождение факториала числа\n"
   ]
  },
  {
   "cell_type": "code",
   "execution_count": 6,
   "id": "705f3128-c683-4954-938e-1420531bba33",
   "metadata": {},
   "outputs": [
    {
     "data": {
      "text/plain": [
       "8.333"
      ]
     },
     "execution_count": 6,
     "metadata": {},
     "output_type": "execute_result"
    }
   ],
   "source": [
    "unrounded_number = 100/12\n",
    "round(unrounded_number, 3) # округление числа"
   ]
  },
  {
   "cell_type": "markdown",
   "id": "b401240c-b515-4023-8228-976363f565c7",
   "metadata": {},
   "source": [
    "для того, чтобы сделать хедер первого уровня:\n",
    "# 1st level header"
   ]
  },
  {
   "cell_type": "markdown",
   "id": "645cbf9b-9a00-4631-a161-a04cfcbdfb13",
   "metadata": {},
   "source": [
    "для того, чтобы красиво оформить фомулу в маркдауне:\n",
    "\n",
    "$$ x = \\sqrt{x+y} $$"
   ]
  },
  {
   "cell_type": "code",
   "execution_count": 8,
   "id": "ebd1ecf2-9dcd-44c1-80e5-e2bc65fe4e84",
   "metadata": {},
   "outputs": [
    {
     "name": "stdout",
     "output_type": "stream",
     "text": [
      "hello kek\n"
     ]
    }
   ],
   "source": [
    "! echo hello kek # обычно бля эхо"
   ]
  },
  {
   "cell_type": "code",
   "execution_count": 13,
   "id": "61472b88-8623-45af-9c9b-69769a7e663c",
   "metadata": {},
   "outputs": [],
   "source": [
    "echo = 'kek'"
   ]
  },
  {
   "cell_type": "code",
   "execution_count": 14,
   "id": "acc99965-a103-4195-996f-c1661f5e7e87",
   "metadata": {},
   "outputs": [
    {
     "name": "stdout",
     "output_type": "stream",
     "text": [
      "kek\n"
     ]
    }
   ],
   "source": [
    "!echo $echo # просто эхо переменной бля"
   ]
  },
  {
   "cell_type": "code",
   "execution_count": null,
   "id": "9a684c6d-8c51-45fd-8fad-203eb1279e77",
   "metadata": {},
   "outputs": [],
   "source": []
  }
 ],
 "metadata": {
  "kernelspec": {
   "display_name": "Python 3",
   "language": "python",
   "name": "python3"
  },
  "language_info": {
   "codemirror_mode": {
    "name": "ipython",
    "version": 3
   },
   "file_extension": ".py",
   "mimetype": "text/x-python",
   "name": "python",
   "nbconvert_exporter": "python",
   "pygments_lexer": "ipython3",
   "version": "3.8.8"
  }
 },
 "nbformat": 4,
 "nbformat_minor": 5
}
