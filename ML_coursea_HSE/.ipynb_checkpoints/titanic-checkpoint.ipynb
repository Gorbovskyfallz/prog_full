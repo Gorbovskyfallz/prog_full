{
 "cells": [
  {
   "cell_type": "code",
   "execution_count": 57,
   "id": "242cc219-4b26-4793-b6e3-94f7d3668711",
   "metadata": {},
   "outputs": [],
   "source": [
    "# модулей загружено достаточно много просто для того, чтобы можно было попробовать разные варианты для отображения\n",
    "import pandas as pd\n",
    "import numpy as np\n",
    "import matplotlib.pyplot as plt\n",
    "import seaborn as sb\n",
    "data_of_pass = pd.read_csv('titanic.csv', index_col = 'PassengerId')"
   ]
  },
  {
   "cell_type": "code",
   "execution_count": 73,
   "id": "868fde60-4308-45c4-9b03-9fae04bfcb31",
   "metadata": {},
   "outputs": [
    {
     "data": {
      "text/html": [
       "<div>\n",
       "<style scoped>\n",
       "    .dataframe tbody tr th:only-of-type {\n",
       "        vertical-align: middle;\n",
       "    }\n",
       "\n",
       "    .dataframe tbody tr th {\n",
       "        vertical-align: top;\n",
       "    }\n",
       "\n",
       "    .dataframe thead th {\n",
       "        text-align: right;\n",
       "    }\n",
       "</style>\n",
       "<table border=\"1\" class=\"dataframe\">\n",
       "  <thead>\n",
       "    <tr style=\"text-align: right;\">\n",
       "      <th></th>\n",
       "      <th>Survived</th>\n",
       "      <th>Pclass</th>\n",
       "      <th>Name</th>\n",
       "      <th>Sex</th>\n",
       "      <th>Age</th>\n",
       "      <th>SibSp</th>\n",
       "      <th>Parch</th>\n",
       "      <th>Ticket</th>\n",
       "      <th>Fare</th>\n",
       "      <th>Cabin</th>\n",
       "      <th>Embarked</th>\n",
       "    </tr>\n",
       "    <tr>\n",
       "      <th>PassengerId</th>\n",
       "      <th></th>\n",
       "      <th></th>\n",
       "      <th></th>\n",
       "      <th></th>\n",
       "      <th></th>\n",
       "      <th></th>\n",
       "      <th></th>\n",
       "      <th></th>\n",
       "      <th></th>\n",
       "      <th></th>\n",
       "      <th></th>\n",
       "    </tr>\n",
       "  </thead>\n",
       "  <tbody>\n",
       "    <tr>\n",
       "      <th>1</th>\n",
       "      <td>0</td>\n",
       "      <td>3</td>\n",
       "      <td>Braund, Mr. Owen Harris</td>\n",
       "      <td>male</td>\n",
       "      <td>22.0</td>\n",
       "      <td>1</td>\n",
       "      <td>0</td>\n",
       "      <td>A/5 21171</td>\n",
       "      <td>7.2500</td>\n",
       "      <td>NaN</td>\n",
       "      <td>S</td>\n",
       "    </tr>\n",
       "    <tr>\n",
       "      <th>2</th>\n",
       "      <td>1</td>\n",
       "      <td>1</td>\n",
       "      <td>Cumings, Mrs. John Bradley (Florence Briggs Th...</td>\n",
       "      <td>female</td>\n",
       "      <td>38.0</td>\n",
       "      <td>1</td>\n",
       "      <td>0</td>\n",
       "      <td>PC 17599</td>\n",
       "      <td>71.2833</td>\n",
       "      <td>C85</td>\n",
       "      <td>C</td>\n",
       "    </tr>\n",
       "    <tr>\n",
       "      <th>3</th>\n",
       "      <td>1</td>\n",
       "      <td>3</td>\n",
       "      <td>Heikkinen, Miss. Laina</td>\n",
       "      <td>female</td>\n",
       "      <td>26.0</td>\n",
       "      <td>0</td>\n",
       "      <td>0</td>\n",
       "      <td>STON/O2. 3101282</td>\n",
       "      <td>7.9250</td>\n",
       "      <td>NaN</td>\n",
       "      <td>S</td>\n",
       "    </tr>\n",
       "    <tr>\n",
       "      <th>4</th>\n",
       "      <td>1</td>\n",
       "      <td>1</td>\n",
       "      <td>Futrelle, Mrs. Jacques Heath (Lily May Peel)</td>\n",
       "      <td>female</td>\n",
       "      <td>35.0</td>\n",
       "      <td>1</td>\n",
       "      <td>0</td>\n",
       "      <td>113803</td>\n",
       "      <td>53.1000</td>\n",
       "      <td>C123</td>\n",
       "      <td>S</td>\n",
       "    </tr>\n",
       "    <tr>\n",
       "      <th>5</th>\n",
       "      <td>0</td>\n",
       "      <td>3</td>\n",
       "      <td>Allen, Mr. William Henry</td>\n",
       "      <td>male</td>\n",
       "      <td>35.0</td>\n",
       "      <td>0</td>\n",
       "      <td>0</td>\n",
       "      <td>373450</td>\n",
       "      <td>8.0500</td>\n",
       "      <td>NaN</td>\n",
       "      <td>S</td>\n",
       "    </tr>\n",
       "    <tr>\n",
       "      <th>6</th>\n",
       "      <td>0</td>\n",
       "      <td>3</td>\n",
       "      <td>Moran, Mr. James</td>\n",
       "      <td>male</td>\n",
       "      <td>NaN</td>\n",
       "      <td>0</td>\n",
       "      <td>0</td>\n",
       "      <td>330877</td>\n",
       "      <td>8.4583</td>\n",
       "      <td>NaN</td>\n",
       "      <td>Q</td>\n",
       "    </tr>\n",
       "    <tr>\n",
       "      <th>7</th>\n",
       "      <td>0</td>\n",
       "      <td>1</td>\n",
       "      <td>McCarthy, Mr. Timothy J</td>\n",
       "      <td>male</td>\n",
       "      <td>54.0</td>\n",
       "      <td>0</td>\n",
       "      <td>0</td>\n",
       "      <td>17463</td>\n",
       "      <td>51.8625</td>\n",
       "      <td>E46</td>\n",
       "      <td>S</td>\n",
       "    </tr>\n",
       "    <tr>\n",
       "      <th>8</th>\n",
       "      <td>0</td>\n",
       "      <td>3</td>\n",
       "      <td>Palsson, Master. Gosta Leonard</td>\n",
       "      <td>male</td>\n",
       "      <td>2.0</td>\n",
       "      <td>3</td>\n",
       "      <td>1</td>\n",
       "      <td>349909</td>\n",
       "      <td>21.0750</td>\n",
       "      <td>NaN</td>\n",
       "      <td>S</td>\n",
       "    </tr>\n",
       "    <tr>\n",
       "      <th>9</th>\n",
       "      <td>1</td>\n",
       "      <td>3</td>\n",
       "      <td>Johnson, Mrs. Oscar W (Elisabeth Vilhelmina Berg)</td>\n",
       "      <td>female</td>\n",
       "      <td>27.0</td>\n",
       "      <td>0</td>\n",
       "      <td>2</td>\n",
       "      <td>347742</td>\n",
       "      <td>11.1333</td>\n",
       "      <td>NaN</td>\n",
       "      <td>S</td>\n",
       "    </tr>\n",
       "    <tr>\n",
       "      <th>10</th>\n",
       "      <td>1</td>\n",
       "      <td>2</td>\n",
       "      <td>Nasser, Mrs. Nicholas (Adele Achem)</td>\n",
       "      <td>female</td>\n",
       "      <td>14.0</td>\n",
       "      <td>1</td>\n",
       "      <td>0</td>\n",
       "      <td>237736</td>\n",
       "      <td>30.0708</td>\n",
       "      <td>NaN</td>\n",
       "      <td>C</td>\n",
       "    </tr>\n",
       "  </tbody>\n",
       "</table>\n",
       "</div>"
      ],
      "text/plain": [
       "             Survived  Pclass  \\\n",
       "PassengerId                     \n",
       "1                   0       3   \n",
       "2                   1       1   \n",
       "3                   1       3   \n",
       "4                   1       1   \n",
       "5                   0       3   \n",
       "6                   0       3   \n",
       "7                   0       1   \n",
       "8                   0       3   \n",
       "9                   1       3   \n",
       "10                  1       2   \n",
       "\n",
       "                                                          Name     Sex   Age  \\\n",
       "PassengerId                                                                    \n",
       "1                                      Braund, Mr. Owen Harris    male  22.0   \n",
       "2            Cumings, Mrs. John Bradley (Florence Briggs Th...  female  38.0   \n",
       "3                                       Heikkinen, Miss. Laina  female  26.0   \n",
       "4                 Futrelle, Mrs. Jacques Heath (Lily May Peel)  female  35.0   \n",
       "5                                     Allen, Mr. William Henry    male  35.0   \n",
       "6                                             Moran, Mr. James    male   NaN   \n",
       "7                                      McCarthy, Mr. Timothy J    male  54.0   \n",
       "8                               Palsson, Master. Gosta Leonard    male   2.0   \n",
       "9            Johnson, Mrs. Oscar W (Elisabeth Vilhelmina Berg)  female  27.0   \n",
       "10                         Nasser, Mrs. Nicholas (Adele Achem)  female  14.0   \n",
       "\n",
       "             SibSp  Parch            Ticket     Fare Cabin Embarked  \n",
       "PassengerId                                                          \n",
       "1                1      0         A/5 21171   7.2500   NaN        S  \n",
       "2                1      0          PC 17599  71.2833   C85        C  \n",
       "3                0      0  STON/O2. 3101282   7.9250   NaN        S  \n",
       "4                1      0            113803  53.1000  C123        S  \n",
       "5                0      0            373450   8.0500   NaN        S  \n",
       "6                0      0            330877   8.4583   NaN        Q  \n",
       "7                0      0             17463  51.8625   E46        S  \n",
       "8                3      1            349909  21.0750   NaN        S  \n",
       "9                0      2            347742  11.1333   NaN        S  \n",
       "10               1      0            237736  30.0708   NaN        C  "
      ]
     },
     "execution_count": 73,
     "metadata": {},
     "output_type": "execute_result"
    }
   ],
   "source": [
    "data_of_pass.head(10) #показывает первые 10 строк файла\n"
   ]
  },
  {
   "cell_type": "code",
   "execution_count": 4,
   "id": "f1649b12-1c3f-4b88-bf13-ec446fa2fd7f",
   "metadata": {},
   "outputs": [
    {
     "data": {
      "text/plain": [
       "male      577\n",
       "female    314\n",
       "Name: Sex, dtype: int64"
      ]
     },
     "execution_count": 4,
     "metadata": {},
     "output_type": "execute_result"
    }
   ],
   "source": [
    "# Задание 1 - сколько мужчин и женщик ехать на корабле?\n",
    "x = data_of_pass['Sex'].value_counts(dropna = False) # на всякий случай проверяем, если ли наны\n",
    "x\n",
    "#  ОТВЕТ: мужчин - 577 ; женщин - 314"
   ]
  },
  {
   "cell_type": "code",
   "execution_count": 5,
   "id": "49b94351-1dc5-469d-af4e-a3c63bc6c1ca",
   "metadata": {},
   "outputs": [
    {
     "data": {
      "text/plain": [
       "'38.38 процентов выжило'"
      ]
     },
     "execution_count": 5,
     "metadata": {},
     "output_type": "execute_result"
    }
   ],
   "source": [
    "# задание 2 - какой части пассажиров удалось выжить? ответ привести в процентах с округлением до двух знаков\n",
    "# заменим единичку на слово, которое удобнее парсить inplace = true означает, что данные реально меняются в источнике\n",
    "data_of_pass['Survived'].replace(1, 'yes', inplace = True)\n",
    "# то же самое сделаем с отрицательным результатом\n",
    "data_of_pass['Survived'].replace(0, 'no', inplace = True) \n",
    "#  выбираем сколько было выживших и нет\n",
    "surv_passengers = data_of_pass['Survived'].value_counts(dropna = False) \n",
    "# общее число пассажиров, которые находились на борту\n",
    "total_passengers = sum([surv_passengers.yes, surv_passengers.no]) \n",
    "# расчет доли выживших на корабле\n",
    "percent_of_survd_passengers = (100/total_passengers)*surv_passengers.yes \n",
    "# форматированный вывод строки с числом процентов с точностью до двух знаков\n",
    "\"%.2f процентов выжило\"%percent_of_survd_passengers \n",
    "\n",
    "# Ответ : 38.38 процентов выжило"
   ]
  },
  {
   "cell_type": "code",
   "execution_count": 12,
   "id": "d057820c-263d-4cb3-9362-05ce4fa98f83",
   "metadata": {},
   "outputs": [
    {
     "data": {
      "text/plain": [
       "'24.24 процентов было первого класса'"
      ]
     },
     "execution_count": 12,
     "metadata": {},
     "output_type": "execute_result"
    }
   ],
   "source": [
    "# задание 3 - какую долю составляли пассажиры первого класса?\n",
    "data_of_pass['Pclass'].replace(1, 'top', inplace = True)\n",
    "class_passsangers =  data_of_pass['Pclass'].value_counts(dropna = False)\n",
    "percent_of_first_class = (100/total_passengers)*class_passsangers.top\n",
    "\"%.2f процентов было первого класса\"%percent_of_first_class\n",
    "# Ответ - пассажирова первого класса было 24,24 процента"
   ]
  },
  {
   "cell_type": "code",
   "execution_count": 42,
   "id": "04d9a2a0-b41c-40b4-a36c-83876e434096",
   "metadata": {},
   "outputs": [
    {
     "name": "stdout",
     "output_type": "stream",
     "text": [
      "медиана возраста равна 28  средний возраст равен 29.70\n"
     ]
    }
   ],
   "source": [
    "# Задание 4 - какого возраста были пассажиры? посчитать среднее значение и медиану возрастов.\n",
    "age_median = data_of_pass['Age'].median() # расчет медианы по возрасту, медиана - срединное значение возраста пассажиров\n",
    "age_mean =  data_of_pass['Age'].mean() # расчет среднего значения возрастов пассажиров\n",
    "print (\"медиана возраста равна \" \"%.f\"%age_median, \" средний возраст равен \" \"%.2f\"%age_mean)\n",
    "\n",
    "# ответ - средний возраст равен 29,70 , медиана равна 28 лет"
   ]
  },
  {
   "cell_type": "code",
   "execution_count": 84,
   "id": "a1cc8ec8-4c13-4326-952d-11a621f3182a",
   "metadata": {},
   "outputs": [],
   "source": [
    "# подсчет корреляции Пирсона между признаками SibSp и Parch\n",
    "data_of_pass['Pclass'].replace('top', 1, inplace = True)\n",
    "data_of_pass['Survived'].replace('yes', 1, inplace = True)\n",
    "data_of_pass['Survived'].replace('no', 0, inplace = True)\n",
    "corr = np.corrcoef(data_of_pass['Pclass'], data_of_pass['Survived'])\n",
    "\n",
    "corr_2 = data_of_pass['SibSp'].corr(data_of_pass['Parch'])\n",
    "\n",
    "# корреляция 0,41\n"
   ]
  },
  {
   "cell_type": "code",
   "execution_count": 99,
   "id": "465db7e5-0fe7-4ed1-bcd1-3732b1ee1d8f",
   "metadata": {},
   "outputs": [],
   "source": [
    "# разделение столбца по разделителю - в данном случае разделителем является точка после мистера или миссис\n",
    "# expand = true означает, что по разделителю будут сразу созданы дополнительные столбцы\n",
    "splitted_surname_name =  data_of_pass['Name'].str.split('.', expand = True) \n",
    "# после этого уже деленный датасет мы поделим по пробелу, тем самым получив отдельные слова в столбцах\n",
    "splittig_name = splitted_surname_name[1].str.split(' ', expand = True)\n",
    "\n"
   ]
  },
  {
   "cell_type": "code",
   "execution_count": 107,
   "id": "af841c60-9730-413d-aa8c-db676966c230",
   "metadata": {},
   "outputs": [
    {
     "data": {
      "text/plain": [
       "William      48\n",
       "John         31\n",
       "Thomas       19\n",
       "Charles      16\n",
       "George       16\n",
       "James        15\n",
       "Henry        15\n",
       "Frederick    13\n",
       "Edward       13\n",
       "Richard      11\n",
       "Johan        10\n",
       "Anna          9\n",
       "Samuel        9\n",
       "Mary          9\n",
       "Joseph        9\n",
       "Karl          9\n",
       "Alfred        7\n",
       "Albert        7\n",
       "Arthur        7\n",
       "Peter         6\n",
       "Margaret      6\n",
       "Elizabeth     6\n",
       "Robert        6\n",
       "Ernest        6\n",
       "Victor        6\n",
       "Walter        5\n",
       "Harry         5\n",
       "Ernst         5\n",
       "Frank         5\n",
       "Alexander     5\n",
       "Name: 1, dtype: int64"
      ]
     },
     "execution_count": 107,
     "metadata": {},
     "output_type": "execute_result"
    }
   ],
   "source": [
    "# так как у нас не было задачи автоматизированное находить самое популярное женское имя, мы просто\n",
    "# посчитаем в общем сколько у нас каких имен вышло, возьмем первые 30 строк датасета\n",
    "# выведем их и увидим, что самое распространенное женское имя - Анна\n",
    "splittig_name[1].value_counts().head(30)\n"
   ]
  }
 ],
 "metadata": {
  "kernelspec": {
   "display_name": "Python 3",
   "language": "python",
   "name": "python3"
  },
  "language_info": {
   "codemirror_mode": {
    "name": "ipython",
    "version": 3
   },
   "file_extension": ".py",
   "mimetype": "text/x-python",
   "name": "python",
   "nbconvert_exporter": "python",
   "pygments_lexer": "ipython3",
   "version": "3.8.8"
  }
 },
 "nbformat": 4,
 "nbformat_minor": 5
}
