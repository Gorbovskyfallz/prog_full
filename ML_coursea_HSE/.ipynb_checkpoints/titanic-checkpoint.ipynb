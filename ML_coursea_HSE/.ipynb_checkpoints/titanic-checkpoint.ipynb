{
 "cells": [
  {
   "cell_type": "code",
   "execution_count": 2,
   "id": "242cc219-4b26-4793-b6e3-94f7d3668711",
   "metadata": {},
   "outputs": [],
   "source": [
    "import pandas as pd\n",
    "\n",
    "data_of_pass = pd.read_csv('titanic.csv', index_col = 'PassengerId')"
   ]
  },
  {
   "cell_type": "code",
   "execution_count": 6,
   "id": "868fde60-4308-45c4-9b03-9fae04bfcb31",
   "metadata": {},
   "outputs": [
    {
     "data": {
      "text/html": [
       "<div>\n",
       "<style scoped>\n",
       "    .dataframe tbody tr th:only-of-type {\n",
       "        vertical-align: middle;\n",
       "    }\n",
       "\n",
       "    .dataframe tbody tr th {\n",
       "        vertical-align: top;\n",
       "    }\n",
       "\n",
       "    .dataframe thead th {\n",
       "        text-align: right;\n",
       "    }\n",
       "</style>\n",
       "<table border=\"1\" class=\"dataframe\">\n",
       "  <thead>\n",
       "    <tr style=\"text-align: right;\">\n",
       "      <th></th>\n",
       "      <th>Survived</th>\n",
       "      <th>Pclass</th>\n",
       "      <th>Name</th>\n",
       "      <th>Sex</th>\n",
       "      <th>Age</th>\n",
       "      <th>SibSp</th>\n",
       "      <th>Parch</th>\n",
       "      <th>Ticket</th>\n",
       "      <th>Fare</th>\n",
       "      <th>Cabin</th>\n",
       "      <th>Embarked</th>\n",
       "    </tr>\n",
       "    <tr>\n",
       "      <th>PassengerId</th>\n",
       "      <th></th>\n",
       "      <th></th>\n",
       "      <th></th>\n",
       "      <th></th>\n",
       "      <th></th>\n",
       "      <th></th>\n",
       "      <th></th>\n",
       "      <th></th>\n",
       "      <th></th>\n",
       "      <th></th>\n",
       "      <th></th>\n",
       "    </tr>\n",
       "  </thead>\n",
       "  <tbody>\n",
       "    <tr>\n",
       "      <th>1</th>\n",
       "      <td>no</td>\n",
       "      <td>3</td>\n",
       "      <td>Braund, Mr. Owen Harris</td>\n",
       "      <td>male</td>\n",
       "      <td>22.0</td>\n",
       "      <td>1</td>\n",
       "      <td>0</td>\n",
       "      <td>A/5 21171</td>\n",
       "      <td>7.2500</td>\n",
       "      <td>NaN</td>\n",
       "      <td>S</td>\n",
       "    </tr>\n",
       "    <tr>\n",
       "      <th>2</th>\n",
       "      <td>yes</td>\n",
       "      <td>1</td>\n",
       "      <td>Cumings, Mrs. John Bradley (Florence Briggs Th...</td>\n",
       "      <td>female</td>\n",
       "      <td>38.0</td>\n",
       "      <td>1</td>\n",
       "      <td>0</td>\n",
       "      <td>PC 17599</td>\n",
       "      <td>71.2833</td>\n",
       "      <td>C85</td>\n",
       "      <td>C</td>\n",
       "    </tr>\n",
       "    <tr>\n",
       "      <th>3</th>\n",
       "      <td>yes</td>\n",
       "      <td>3</td>\n",
       "      <td>Heikkinen, Miss. Laina</td>\n",
       "      <td>female</td>\n",
       "      <td>26.0</td>\n",
       "      <td>0</td>\n",
       "      <td>0</td>\n",
       "      <td>STON/O2. 3101282</td>\n",
       "      <td>7.9250</td>\n",
       "      <td>NaN</td>\n",
       "      <td>S</td>\n",
       "    </tr>\n",
       "  </tbody>\n",
       "</table>\n",
       "</div>"
      ],
      "text/plain": [
       "            Survived  Pclass  \\\n",
       "PassengerId                    \n",
       "1                 no       3   \n",
       "2                yes       1   \n",
       "3                yes       3   \n",
       "\n",
       "                                                          Name     Sex   Age  \\\n",
       "PassengerId                                                                    \n",
       "1                                      Braund, Mr. Owen Harris    male  22.0   \n",
       "2            Cumings, Mrs. John Bradley (Florence Briggs Th...  female  38.0   \n",
       "3                                       Heikkinen, Miss. Laina  female  26.0   \n",
       "\n",
       "             SibSp  Parch            Ticket     Fare Cabin Embarked  \n",
       "PassengerId                                                          \n",
       "1                1      0         A/5 21171   7.2500   NaN        S  \n",
       "2                1      0          PC 17599  71.2833   C85        C  \n",
       "3                0      0  STON/O2. 3101282   7.9250   NaN        S  "
      ]
     },
     "execution_count": 6,
     "metadata": {},
     "output_type": "execute_result"
    }
   ],
   "source": [
    "data_of_pass.head(3) #показывает первые 30 строк файла\n"
   ]
  },
  {
   "cell_type": "code",
   "execution_count": 4,
   "id": "f1649b12-1c3f-4b88-bf13-ec446fa2fd7f",
   "metadata": {},
   "outputs": [
    {
     "data": {
      "text/plain": [
       "male      577\n",
       "female    314\n",
       "Name: Sex, dtype: int64"
      ]
     },
     "execution_count": 4,
     "metadata": {},
     "output_type": "execute_result"
    }
   ],
   "source": [
    "# Задание 1 - сколько мужчин и женщик ехать на корабле?\n",
    "x = data_of_pass['Sex'].value_counts(dropna = False) # на всякий случай проверяем, если ли наны\n",
    "x\n",
    "#  ОТВЕТ: мужчин - 577 ; женщин - 314"
   ]
  },
  {
   "cell_type": "code",
   "execution_count": 5,
   "id": "49b94351-1dc5-469d-af4e-a3c63bc6c1ca",
   "metadata": {},
   "outputs": [
    {
     "data": {
      "text/plain": [
       "'38.38 процентов выжило'"
      ]
     },
     "execution_count": 5,
     "metadata": {},
     "output_type": "execute_result"
    }
   ],
   "source": [
    "# задание 2 - какой части пассажиров удалось выжить? ответ привести в процентах с округлением до двух знаков\n",
    "# заменим единичку на слово, которое удобнее парсить inplace = true означает, что данные реально меняются в источнике\n",
    "data_of_pass['Survived'].replace(1, 'yes', inplace = True)\n",
    "# то же самое сделаем с отрицательным результатом\n",
    "data_of_pass['Survived'].replace(0, 'no', inplace = True) \n",
    "#  выбираем сколько было выживших и нет\n",
    "surv_passengers = data_of_pass['Survived'].value_counts(dropna = False) \n",
    "# общее число пассажиров, которые находились на борту\n",
    "total_passengers = sum([surv_passengers.yes, surv_passengers.no]) \n",
    "# расчет доли выживших на корабле\n",
    "percent_of_survd_passengers = (100/total_passengers)*surv_passengers.yes \n",
    "# форматированный вывод строки с числом процентов с точностью до двух знаков\n",
    "\"%.2f процентов выжило\"%percent_of_survd_passengers \n",
    "\n",
    "# Ответ : 38.38 процентов выжило"
   ]
  },
  {
   "cell_type": "code",
   "execution_count": 12,
   "id": "d057820c-263d-4cb3-9362-05ce4fa98f83",
   "metadata": {},
   "outputs": [
    {
     "data": {
      "text/plain": [
       "'24.24 процентов было первого класса'"
      ]
     },
     "execution_count": 12,
     "metadata": {},
     "output_type": "execute_result"
    }
   ],
   "source": [
    "# задание 3 - какую долю составляли пассажиры первого класса?\n",
    "data_of_pass['Pclass'].replace(1, 'top', inplace = True)\n",
    "class_passsangers =  data_of_pass['Pclass'].value_counts(dropna = False)\n",
    "percent_of_first_class = (100/total_passengers)*class_passsangers.top\n",
    "\"%.2f процентов было первого класса\"%percent_of_first_class\n",
    "# Ответ - пассажирова первого класса было 24,24 процента"
   ]
  },
  {
   "cell_type": "code",
   "execution_count": 42,
   "id": "04d9a2a0-b41c-40b4-a36c-83876e434096",
   "metadata": {},
   "outputs": [
    {
     "name": "stdout",
     "output_type": "stream",
     "text": [
      "медиана возраста равна 28  средний возраст равен 29.70\n"
     ]
    }
   ],
   "source": [
    "# Задание 4 - какого возраста были пассажиры? посчитать среднее значение и медиану возрастов.\n",
    "age_median = data_of_pass['Age'].median() # расчет медианы по возрасту, медиана - срединное значение возраста пассажиров\n",
    "age_mean =  data_of_pass['Age'].mean() # расчет среднего значения возрастов пассажиров\n",
    "print (\"медиана возраста равна \" \"%.f\"%age_median, \" средний возраст равен \" \"%.2f\"%age_mean)\n",
    "\n",
    "# ответ - средний возраст равен 29,70 , медиана равна 28 лет"
   ]
  },
  {
   "cell_type": "code",
   "execution_count": null,
   "id": "a1cc8ec8-4c13-4326-952d-11a621f3182a",
   "metadata": {},
   "outputs": [],
   "source": []
  }
 ],
 "metadata": {
  "kernelspec": {
   "display_name": "Python 3",
   "language": "python",
   "name": "python3"
  },
  "language_info": {
   "codemirror_mode": {
    "name": "ipython",
    "version": 3
   },
   "file_extension": ".py",
   "mimetype": "text/x-python",
   "name": "python",
   "nbconvert_exporter": "python",
   "pygments_lexer": "ipython3",
   "version": "3.8.8"
  }
 },
 "nbformat": 4,
 "nbformat_minor": 5
}
