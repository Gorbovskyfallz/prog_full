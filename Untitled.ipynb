{
 "cells": [
  {
   "cell_type": "code",
   "execution_count": null,
   "id": "f8b0fda0-def7-4b9c-b2d5-c3c62fc3f952",
   "metadata": {},
   "outputs": [],
   "source": [
    "#программа для отрисовки человечка на земле и фоне неба\n",
    "\n",
    "#импорт библиотеки примитивной графики под синонимом gr для сокращения и удобства в использовании\n",
    "import graphics as gr\n",
    "\n",
    "win = gr.GraphWin\n",
    "\n",
    "def primitive_universe():\n",
    "    \"\"\"\n",
    "    функция задает название и параметры окна, в котором будет человечек на фоне земли и неба\n",
    "    \n",
    "    \"\"\"\n",
    "    \n",
    "\n",
    "def earth_and_sky():\n",
    "    \"\"\"\n",
    "    функция рисует небо и землю, состоящую из двух примитивов - прямоугольников, нижний из которых представляет землю\n",
    "    и выкрашен в коричневый, верхний представляет небо и выкрашен в голубой цвет\n",
    "    \n",
    "    \"\"\"\n",
    "    pass\n",
    "\n",
    "def man_head():\n",
    "    \"\"\"\n",
    "    функция рисует голову человечка - сама голова в виде круга, две брови, два глаза и рот\n",
    "    \n",
    "    \"\"\"\n",
    "    pass\n",
    "def man_body():\n",
    "    \"\"\"\n",
    "    функция рисует тело человечка - овальное туловище, две руки и две ноги\n",
    "    \n",
    "    \"\"\"\n",
    "    pass"
   ]
  }
 ],
 "metadata": {
  "kernelspec": {
   "display_name": "Python 3 (ipykernel)",
   "language": "python",
   "name": "python3"
  },
  "language_info": {
   "codemirror_mode": {
    "name": "ipython",
    "version": 3
   },
   "file_extension": ".py",
   "mimetype": "text/x-python",
   "name": "python",
   "nbconvert_exporter": "python",
   "pygments_lexer": "ipython3",
   "version": "3.9.7"
  }
 },
 "nbformat": 4,
 "nbformat_minor": 5
}
