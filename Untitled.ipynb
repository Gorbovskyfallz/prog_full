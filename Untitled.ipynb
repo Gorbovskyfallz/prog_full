{
 "cells": [
  {
   "cell_type": "code",
   "execution_count": 2,
   "id": "7ff905b8-4a05-4b49-bd83-fa18ffa39633",
   "metadata": {},
   "outputs": [
    {
     "name": "stdout",
     "output_type": "stream",
     "text": [
      "INFO: Pandarallel will run on 8 workers.\n",
      "INFO: Pandarallel will use Memory file system to transfer data between the main process and workers.\n"
     ]
    }
   ],
   "source": [
    "import pandas as pd\n",
    "import requests\n",
    "\n",
    "from tqdm import tqdm\n",
    "tqdm.pandas()\n",
    "\n",
    "from pandarallel import pandarallel\n",
    "pandarallel.initialize(progress_bar=True)"
   ]
  },
  {
   "cell_type": "code",
   "execution_count": 3,
   "id": "b4e02579-1b49-443a-9c8d-776c677ad006",
   "metadata": {},
   "outputs": [],
   "source": [
    "df = pd.DataFrame(\n",
    "    [i for i in range(100)],\n",
    "    columns=[\"sample_column\"]\n",
    ")"
   ]
  },
  {
   "cell_type": "code",
   "execution_count": 5,
   "id": "38354f90-604d-4054-9466-a73e2fd4ddda",
   "metadata": {},
   "outputs": [],
   "source": [
    "def function_to_apply(i):\n",
    "    r = requests.get(f'https://random-word-api.herokuapp.com/word').json()\n",
    "\n",
    "    return r[0]"
   ]
  },
  {
   "cell_type": "code",
   "execution_count": 6,
   "id": "4beca056-61d9-4209-beb6-3013862c91a8",
   "metadata": {},
   "outputs": [
    {
     "name": "stderr",
     "output_type": "stream",
     "text": [
      "100%|██████████████████████████████████████████████████████████████████████████████████████████████████████████████████████| 100/100 [00:38<00:00,  2.58it/s]\n"
     ]
    }
   ],
   "source": [
    "df[\"sample-word\"] = df.sample_column.progress_apply(function_to_apply)"
   ]
  },
  {
   "cell_type": "code",
   "execution_count": 8,
   "id": "ffa61f95-1c29-4593-a026-199a0a33a1bd",
   "metadata": {},
   "outputs": [
    {
     "data": {
      "application/vnd.jupyter.widget-view+json": {
       "model_id": "1398cdcf6de244f5a4455eaf2ff851a2",
       "version_major": 2,
       "version_minor": 0
      },
      "text/plain": [
       "VBox(children=(HBox(children=(IntProgress(value=0, description='0.00%', max=13), Label(value='0 / 13'))), HBox…"
      ]
     },
     "metadata": {},
     "output_type": "display_data"
    }
   ],
   "source": [
    "df[\"sample-word\"] = df.sample_column.parallel_apply(function_to_apply)"
   ]
  },
  {
   "cell_type": "code",
   "execution_count": 19,
   "id": "e906c0fe-2d38-4683-a5e5-f96041b0cecb",
   "metadata": {},
   "outputs": [
    {
     "name": "stdout",
     "output_type": "stream",
     "text": [
      "--- 14.373310089111328 seconds ---\n"
     ]
    }
   ],
   "source": [
    "import time\n",
    "start_time = time.time()\n",
    "import math\n",
    "math.factorial(1000000)\n",
    "print(\"--- %s seconds ---\" % (time.time() - start_time))"
   ]
  },
  {
   "cell_type": "code",
   "execution_count": 23,
   "id": "8bb0806e-166a-4d1b-b25d-5bd9b3ab4e8f",
   "metadata": {},
   "outputs": [],
   "source": [
    "from pandarallel import pandarallel"
   ]
  },
  {
   "cell_type": "code",
   "execution_count": 22,
   "id": "4f699757-7ad6-4d9c-8914-dfbcf1c1d567",
   "metadata": {},
   "outputs": [
    {
     "name": "stdout",
     "output_type": "stream",
     "text": [
      "INFO: Pandarallel will run on 4 workers.\n",
      "INFO: Pandarallel will use Memory file system to transfer data between the main process and workers.\n"
     ]
    }
   ],
   "source": [
    "pandarallel.initialize(nb_workers=4, progress_bar=True, use_memory_fs=True)"
   ]
  },
  {
   "cell_type": "code",
   "execution_count": null,
   "id": "ce3a3798-0488-441a-8213-cf4c1802dda4",
   "metadata": {},
   "outputs": [],
   "source": []
  }
 ],
 "metadata": {
  "kernelspec": {
   "display_name": "Python 3 (ipykernel)",
   "language": "python",
   "name": "python3"
  },
  "language_info": {
   "codemirror_mode": {
    "name": "ipython",
    "version": 3
   },
   "file_extension": ".py",
   "mimetype": "text/x-python",
   "name": "python",
   "nbconvert_exporter": "python",
   "pygments_lexer": "ipython3",
   "version": "3.9.9"
  }
 },
 "nbformat": 4,
 "nbformat_minor": 5
}
